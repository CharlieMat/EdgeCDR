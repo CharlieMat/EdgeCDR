{
 "cells": [
  {
   "cell_type": "code",
   "execution_count": 4,
   "id": "33683788",
   "metadata": {},
   "outputs": [],
   "source": [
    "import torch\n",
    "\n",
    "data_path = \"/data/local/sl1471/experiments/fedct/\"\n",
    "target_path = data_path + \"transfer_data_small/\"\n",
    "model_name = \"DUE\"\n",
    "domain = \"Books\"\n",
    "LR = \"3.0\"\n",
    "REG = \"1.0\"\n",
    "LOSS = \"ae\"\n",
    "checkpoint = torch.load(data_path + f\"transfer_models/fedct_{model_name}_{domain}_lr{LR}_reg{REG}_loss{LOSS}.pkl.checkpoint\")"
   ]
  },
  {
   "cell_type": "code",
   "execution_count": 9,
   "id": "3360ec7d",
   "metadata": {},
   "outputs": [
    {
     "data": {
      "text/plain": [
       "torch.Size([454220, 32])"
      ]
     },
     "execution_count": 9,
     "metadata": {},
     "output_type": "execute_result"
    }
   ],
   "source": [
    "dueEmb = checkpoint['model_state_dict']['dueEmb.weight']\n",
    "dueEmb.shape"
   ]
  },
  {
   "cell_type": "code",
   "execution_count": 10,
   "id": "0356237e",
   "metadata": {},
   "outputs": [
    {
     "data": {
      "text/plain": [
       "tensor([[-0.2629, -0.2319,  0.0728, -0.1436,  0.0579,  0.0631,  0.0657,  0.0043,\n",
       "          0.1062, -0.0146,  0.0697, -0.0429,  0.0664, -0.1343,  0.1598,  0.1665,\n",
       "          0.2399, -0.0918,  0.0302, -0.0967,  0.0620,  0.1612, -0.0620, -0.2019,\n",
       "         -0.1373,  0.0645, -0.3859,  0.0161,  0.0740, -0.0528, -0.1087,  0.1617],\n",
       "        [-0.1290, -0.1870, -0.0694, -0.3073, -0.0584,  0.1259,  0.1762,  0.1464,\n",
       "          0.2010, -0.0202,  0.1518, -0.0537, -0.0868, -0.2482,  0.2177,  0.1819,\n",
       "          0.2430, -0.1215, -0.0254, -0.0556, -0.1169,  0.2073,  0.0775, -0.2554,\n",
       "         -0.0943,  0.1400, -0.3164,  0.0206,  0.0076, -0.1434, -0.2151,  0.2604],\n",
       "        [-0.1498, -0.1705,  0.1066, -0.1836, -0.0021,  0.0292,  0.0267, -0.0120,\n",
       "          0.0019,  0.1059,  0.0346,  0.0519,  0.0249, -0.1362,  0.1615,  0.1256,\n",
       "          0.1751, -0.1306, -0.0114, -0.1544, -0.1101,  0.1553,  0.0845, -0.1377,\n",
       "         -0.0606,  0.0260, -0.2713, -0.0342, -0.0240, -0.0447, -0.1908,  0.0978],\n",
       "        [-0.0228, -0.0063, -0.0134, -0.2003,  0.0486,  0.0955,  0.2228,  0.1482,\n",
       "          0.2518,  0.0571, -0.0701, -0.1195, -0.1365, -0.1046, -0.0485,  0.1441,\n",
       "          0.0373, -0.0686,  0.0093,  0.1370, -0.0467, -0.0481,  0.0379,  0.0006,\n",
       "         -0.0483,  0.1003,  0.0472, -0.1526,  0.0720, -0.1543, -0.1743, -0.0195],\n",
       "        [ 0.1569, -0.0468,  0.0352, -0.0713, -0.0529, -0.0242,  0.1691, -0.0306,\n",
       "         -0.0487, -0.0378,  0.3136,  0.1252,  0.0903,  0.2763,  0.2578, -0.1871,\n",
       "          0.1041, -0.0914, -0.1451,  0.0401, -0.1818,  0.3086,  0.1560, -0.0472,\n",
       "          0.0467,  0.0448,  0.0763,  0.1691,  0.1623, -0.0208, -0.1335,  0.0635]],\n",
       "       device='cuda:0')"
      ]
     },
     "execution_count": 10,
     "metadata": {},
     "output_type": "execute_result"
    }
   ],
   "source": [
    "dueEmb[:5]"
   ]
  },
  {
   "cell_type": "code",
   "execution_count": null,
   "id": "932f5e04",
   "metadata": {},
   "outputs": [],
   "source": []
  }
 ],
 "metadata": {
  "kernelspec": {
   "display_name": "FedCT",
   "language": "python",
   "name": "fedct"
  },
  "language_info": {
   "codemirror_mode": {
    "name": "ipython",
    "version": 3
   },
   "file_extension": ".py",
   "mimetype": "text/x-python",
   "name": "python",
   "nbconvert_exporter": "python",
   "pygments_lexer": "ipython3",
   "version": "3.9.7"
  }
 },
 "nbformat": 4,
 "nbformat_minor": 5
}

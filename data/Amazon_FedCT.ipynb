{
 "cells": [
  {
   "cell_type": "code",
   "execution_count": null,
   "id": "0f2ea144",
   "metadata": {},
   "outputs": [],
   "source": [
    "import sys\n",
    "sys.path.insert(0,'..')\n",
    "from data.preprocess import setup_path, DOMAINS, ROOT_PATH\n",
    "data_path = ROOT_PATH + \"experiments/fedct/\"\n",
    "target_path = data_path + \"transfer_data_small/\"\n",
    "# target_path = data_path + \"transfer_data/\"\n",
    "setup_path(target_path, is_dir = True)\n",
    "domains = DOMAINS"
   ]
  },
  {
   "cell_type": "code",
   "execution_count": null,
   "id": "429e89d6",
   "metadata": {},
   "outputs": [],
   "source": [
    "# Choose your own log path\n",
    "\n",
    "domain_model_logs = {\n",
    "# \"Automotive\": data_path + \"env_logs/fedct_train_and_eval_MF_Automotive_lr0.00001_reg1.0_losspointwise.log\",\n",
    "\"Books\": data_path + \"env_logs/fedct_train_and_eval_MF_Books_lr0.00001_reg0.1_losspointwise.log\",\n",
    "# \"CDs_and_Vinyl\": data_path + \"env_logs/fedct_train_and_eval_MF_CDs_and_Vinyl_lr0.00001_reg0.1_losspairwisebpr.log\",\n",
    "\"Clothing_Shoes_and_Jewelry\": data_path + \"env_logs/fedct_train_and_eval_MF_Clothing_Shoes_and_Jewelry_lr0.00001_reg0.1_losspairwisebpr.log\",\n",
    "\"Electronics\": data_path + \"env_logs/fedct_train_and_eval_MF_Electronics_lr0.00001_reg0.1_losspointwise.log\"\n",
    "# \"Grocery_and_Gourmet_Food\": data_path + \"env_logs/fedct_train_and_eval_MF_Grocery_and_Gourmet_Food_lr0.00001_reg1.0_losspointwise.log\",\n",
    "# \"Home_and_Kitchen\": data_path + \"env_logs/fedct_train_and_eval_MF_Home_and_Kitchen_lr0.00001_reg1.0_losspointwise.log\",\n",
    "# \"Kindle_Store\": data_path + \"env_logs/fedct_train_and_eval_MF_Kindle_Store_lr0.00001_reg0.1_losspairwisebpr.log\",\n",
    "# \"Movies_and_TV\": data_path + \"env_logs/fedct_train_and_eval_MF_Movies_and_TV_lr0.000003_reg1.0_losspointwise.log\",\n",
    "# \"Office_Products\": data_path + \"env_logs/fedct_train_and_eval_MF_Office_Products_lr0.000003_reg1.0_losspointwise.log\",\n",
    "# \"Patio_Lawn_and_Garden\": data_path + \"env_logs/fedct_train_and_eval_MF_Patio_Lawn_and_Garden_lr0.00001_reg3.0_losspointwise.log\",\n",
    "# \"Pet_Supplies\": data_path + \"env_logs/fedct_train_and_eval_MF_Pet_Supplies_lr0.00001_reg0.1_losspairwisebpr.log\",\n",
    "# \"Sports_and_Outdoors\": data_path + \"env_logs/fedct_train_and_eval_MF_Sports_and_Outdoors_lr0.000003_reg1.0_losspointwise.log\",\n",
    "# \"Tools_and_Home_Improvement\": data_path + \"env_logs/fedct_train_and_eval_MF_Tools_and_Home_Improvement_lr0.000003_reg1.0_losspointwise.log\",\n",
    "# \"Toys_and_Games\": data_path + \"env_logs/fedct_train_and_eval_MF_Toys_and_Games_lr0.00001_reg0.1_losspointwise.log\",\n",
    "# \"Video_Games\": data_path + \"env_logs/fedct_train_and_eval_MF_Video_Games_lr0.00001_reg0.1_losspairwisebpr.log\"\n",
    "}"
   ]
  },
  {
   "cell_type": "code",
   "execution_count": null,
   "id": "b23d1f03",
   "metadata": {},
   "outputs": [],
   "source": [
    "with open(target_path + 'domain_model_logs.txt', 'w') as fout:\n",
    "    fout.write(str(domain_model_logs))"
   ]
  },
  {
   "cell_type": "markdown",
   "id": "970d1e91",
   "metadata": {},
   "source": [
    "## 1. Cross-domain User Information"
   ]
  },
  {
   "cell_type": "code",
   "execution_count": null,
   "id": "86f9b52f-8613-4dd0-9023-600dcb492526",
   "metadata": {},
   "outputs": [],
   "source": [
    "from tqdm import tqdm\n",
    "import pandas as pd\n",
    "\n",
    "def get_user_vocab(vocab_path):\n",
    "    item_vocab = pd.read_table(vocab_path, index_col = 1)\n",
    "    value_idx = item_vocab[item_vocab['field_name'] == \"UserID\"][['idx']]\n",
    "    value_idx = value_idx[~value_idx.index.duplicated(keep='first')].to_dict(orient = 'index')\n",
    "    vocab = {str(k): vMap['idx'] for k,vMap in value_idx.items()}\n",
    "    return vocab\n",
    "\n",
    "def get_cross_domain_user(domains, data_dir):\n",
    "    user_domain_ids = {}\n",
    "    cross_domain_users = {}\n",
    "    domain_vocabs = {d: get_user_vocab(data_dir + \"meta_data/\" + d + \"_user_fields.vocab\") \\\n",
    "                     for d in domains}\n",
    "    for domain_id, source_domain in tqdm(enumerate(domains)):\n",
    "        # user set\n",
    "        source_vocab = domain_vocabs[source_domain]\n",
    "        # domain-specific user id\n",
    "        for uid,idx in source_vocab.items():\n",
    "            if uid not in user_domain_ids:\n",
    "                user_domain_ids[uid] = [0]*len(domains)\n",
    "            user_domain_ids[uid][domain_id] = idx\n",
    "        # cross-domain common user lists\n",
    "        for target_domain in domains:\n",
    "            if target_domain != source_domain:\n",
    "                target_vocab = domain_vocabs[target_domain]\n",
    "                common_users = [uid for uid, idx in target_vocab.items() \\\n",
    "                                if uid in source_vocab]\n",
    "                cross_domain_users[f\"{source_domain}@{target_domain}\"] = common_users\n",
    "    all_user = list(user_domain_ids.keys())\n",
    "    for idx,uid in enumerate(all_user):\n",
    "        user_domain_ids[uid].append(idx+1)\n",
    "    return cross_domain_users, user_domain_ids"
   ]
  },
  {
   "cell_type": "code",
   "execution_count": null,
   "id": "e9ea0320",
   "metadata": {
    "scrolled": true
   },
   "outputs": [],
   "source": [
    "domains = list(domain_model_logs.keys())\n",
    "CDU, U = get_cross_domain_user(domains, data_path + \"domain_data/\")\n",
    "print(\"#user: \" + str(len(U)))\n",
    "print(\"#user\\tsource@target\")\n",
    "for k,v in CDU.items():\n",
    "    print(len(v),'\\t',k)"
   ]
  },
  {
   "cell_type": "code",
   "execution_count": null,
   "id": "f715974f",
   "metadata": {},
   "outputs": [],
   "source": [
    "import matplotlib.pyplot as plt\n",
    "import numpy as np\n",
    "n_domain_per_user = {uid: sum([1 for f in idx[:-1] if f != 0])for uid, idx in U.items()}\n",
    "n_domain_count = [0] * len(domains)\n",
    "for uid, c in n_domain_per_user.items():\n",
    "    n_domain_count[c-1] += 1\n",
    "print(n_domain_count)\n",
    "plt.figure(figsize = (0.7 * len(domains),3))\n",
    "plt.bar(np.arange(1,len(domains)+1),np.log(n_domain_count))\n",
    "plt.ylabel('Log frequency')\n",
    "plt.xlabel('#domain the user interacted')\n",
    "plt.show()"
   ]
  },
  {
   "cell_type": "markdown",
   "id": "6a255ec9",
   "metadata": {},
   "source": [
    "## 2. Setup Domain Transfer Data"
   ]
  },
  {
   "cell_type": "code",
   "execution_count": null,
   "id": "3c322bb3",
   "metadata": {
    "scrolled": true
   },
   "outputs": [],
   "source": [
    "import pandas as pd\n",
    "df = pd.DataFrame.from_dict(U,orient='index',columns = domains + ['all'])\n",
    "df.to_csv(target_path + 'id_train.tsv', sep = '\\t')"
   ]
  },
  {
   "cell_type": "code",
   "execution_count": null,
   "id": "df66d753",
   "metadata": {
    "scrolled": true
   },
   "outputs": [],
   "source": [
    "df = pd.read_csv(target_path + 'id_train.tsv', header = 0, sep = '\\t',\n",
    "                 names = [\"UserID\"] + domains + ['All'])\n",
    "df = df[[\"UserID\"] + domains]\n",
    "df[:3]"
   ]
  },
  {
   "cell_type": "code",
   "execution_count": null,
   "id": "0ac2c8f6",
   "metadata": {},
   "outputs": [],
   "source": [
    "from tqdm import tqdm\n",
    "import numpy as np\n",
    "def split_cold_start_data(df, ratio = [0.2,0.8]):\n",
    "    print(\"Build user history\")\n",
    "    user_hist = {}\n",
    "    for pos,row in tqdm(enumerate(df.values)):\n",
    "        u, *record = row\n",
    "        if u not in user_hist:\n",
    "            user_hist[u] = list()\n",
    "        user_hist[u].append(pos)\n",
    "    print(\"Holdout user histories\")\n",
    "    test_indices = df[\"UserID\"]==-1\n",
    "    for u,H in tqdm(user_hist.items()):\n",
    "        # nTest = max(int(len(H) * ratio[1]), 1)\n",
    "        if np.random.random() > ratio[0]:\n",
    "            test_indices.iloc[H] = True\n",
    "    testset = df[test_indices]\n",
    "    trainset = df[~test_indices]\n",
    "    return trainset, testset"
   ]
  },
  {
   "cell_type": "code",
   "execution_count": null,
   "id": "675c3f8a",
   "metadata": {
    "scrolled": true
   },
   "outputs": [],
   "source": [
    "import pandas as pd\n",
    "\n",
    "for domain_id, target_domain in enumerate(domains):\n",
    "    print(target_domain)\n",
    "    target_data = pd.read_csv(data_path + \"domain_data/tsv_data/\" + target_domain + \"_test_cold.tsv\", sep = '\\t')\n",
    "    valset, testset = split_cold_start_data(target_data)\n",
    "    print(len(valset), len(testset))\n",
    "    print(\"number of users in eval: \", len(valset['UserID'].unique()), len(testset['UserID'].unique()))\n",
    "    valset.to_csv(target_path + target_domain + \"_val.tsv\")\n",
    "    testset.to_csv(target_path + target_domain + \"_test.tsv\")"
   ]
  },
  {
   "cell_type": "markdown",
   "id": "d2baaed3-f17d-4a5e-bcdf-511d6e0f4903",
   "metadata": {},
   "source": [
    "## 3. Reader Example --- Cold Start Transfer Learning "
   ]
  },
  {
   "cell_type": "code",
   "execution_count": null,
   "id": "8a933c31",
   "metadata": {},
   "outputs": [],
   "source": [
    "from reader.ColdStartTransferEnvironment import ColdStartTransferEnvironment\n",
    "from argparse import Namespace\n",
    "argstr = f\"Namespace(data_file='{target_path}', domain_model_file='{target_path}domain_model_logs.txt', \\\n",
    "target='Video_Games', n_neg_val=100, n_neg_test=1000)\"\n",
    "reader_args = eval(argstr)"
   ]
  },
  {
   "cell_type": "code",
   "execution_count": null,
   "id": "b8921041-c183-4d9e-b91b-3bf5f4e29728",
   "metadata": {},
   "outputs": [],
   "source": [
    "reader = ColdStartTransferEnvironment(reader_args)"
   ]
  },
  {
   "cell_type": "code",
   "execution_count": null,
   "id": "85124027-54e4-4632-8194-6185547a067a",
   "metadata": {},
   "outputs": [],
   "source": [
    "print(reader.target_domain,'\\n',reader.domains)"
   ]
  },
  {
   "cell_type": "code",
   "execution_count": null,
   "id": "a41f2e16-62fe-4abf-8af7-1769f5fecab9",
   "metadata": {},
   "outputs": [],
   "source": [
    "domain_dim_size = reader.user_emb_size[reader.target_domain]"
   ]
  },
  {
   "cell_type": "markdown",
   "id": "7d075353-9b9c-4ab3-b777-e75dc17b8785",
   "metadata": {},
   "source": [
    "#### 3.2 Example Cold Start Test"
   ]
  },
  {
   "cell_type": "code",
   "execution_count": null,
   "id": "868accb1-e99a-48c2-a1db-3c6a6f9b5fc7",
   "metadata": {},
   "outputs": [],
   "source": [
    "import torch\n",
    "from reader.NextItemReader import sample_negative\n",
    "n_user = 100\n",
    "n_pos, n_neg = 5, 50\n",
    "dummy_encoding = torch.randn(n_user, domain_dim_size)\n",
    "random_items = sample_negative([], reader.all_item_candidates, n_user*n_pos, replace = True)\n",
    "negative_items = sample_negative([], reader.all_item_candidates, n_user*n_neg, replace = True)\n",
    "user_emb, user_bias = dummy_encoding[:,:-1], dummy_encoding[:,-1]"
   ]
  },
  {
   "cell_type": "code",
   "execution_count": null,
   "id": "54867cf1-7213-474b-a1ef-6093b040053f",
   "metadata": {},
   "outputs": [],
   "source": [
    "with torch.no_grad():\n",
    "    pos_out = reader.target_model.forward_with_emb({'user_emb': user_emb, 'user_bias': user_bias,\n",
    "                                                    'ItemID': torch.tensor(random_items).view(n_user,n_pos)})\n",
    "    print(pos_out['preds'].shape)\n",
    "    print(pos_out['preds'][0])\n",
    "    print(pos_out['reg'])\n",
    "    neg_out = reader.target_model.forward_with_emb({'user_emb': user_emb, 'user_bias': user_bias,\n",
    "                                                    'ItemID': torch.tensor(negative_items).view(n_user,n_neg)})\n",
    "    print(neg_out['preds'].shape)\n",
    "    print(neg_out['preds'][0])\n",
    "    print(neg_out['reg'])"
   ]
  },
  {
   "cell_type": "code",
   "execution_count": null,
   "id": "d99e0d00-390f-4987-b6f2-92431be98f36",
   "metadata": {},
   "outputs": [],
   "source": [
    "pos_preds = torch.sigmoid(pos_out['preds'] + 0.1)\n",
    "neg_preds = torch.sigmoid(neg_out['preds'] - 0.1)"
   ]
  },
  {
   "cell_type": "code",
   "execution_count": null,
   "id": "dd2084ff-dec6-4a7e-907f-002b8df43f93",
   "metadata": {},
   "outputs": [],
   "source": [
    "pos_pred = pos_preds\n",
    "neg_pred = neg_preds\n",
    "# dummy mask for positive samples\n",
    "pos_mask = torch.zeros_like(pos_pred)\n",
    "for i in range(n_user):\n",
    "    L = (n_pos - i - 1) % n_pos + 1\n",
    "    pos_mask[i][-L:] = 1\n",
    "k_list = [1,10,50]\n",
    "max_k = max(k_list)"
   ]
  },
  {
   "cell_type": "code",
   "execution_count": null,
   "id": "12f100ed-aee8-48eb-b507-60a48ef22607",
   "metadata": {},
   "outputs": [],
   "source": [
    "from utils import init_ranking_report\n",
    "b = 1 / torch.log2(torch.arange(2,max_k+2))\n",
    "ap = torch.arange(1, max_k+1).to(torch.float).view(1,-1)\n",
    "gt_position = torch.arange(1,n_pos+1).view(1,-1)\n",
    "def calculate_batch_ranking_metric(pos_pred, all_pred, pos_mask, k_list, report = {}):\n",
    "    '''\n",
    "    @input:\n",
    "    - pos_pred: (B,R)\n",
    "    - all_pred: (B,N)\n",
    "    - mask: (B,R)\n",
    "    - k_list: e.g. [1,5,10,20,50]\n",
    "    - report: {\"HR@1\": 0, \"P@1\": 0, ...}\n",
    "    '''\n",
    "    if len(report) == 0:\n",
    "        report = init_ranking_report(k_list)\n",
    "    B,R = pos_pred.shape # (B,1)\n",
    "    N = neg_pred.shape[1]\n",
    "    \n",
    "    pos_pred = pos_pred * pos_mask\n",
    "    all_pred = torch.cat((pos_pred, neg_pred), dim = 1).view(B,-1) # (B,L)\n",
    "    pos_length = torch.sum(pos_mask, dim = 1)\n",
    "\n",
    "    rank = torch.sum(pos_pred.view(B,R,1) <= all_pred.view(B,1,R+N), dim = 2)\n",
    "    rank = rank * pos_mask\n",
    "    values, indices = torch.topk(all_pred, k = max_k, dim = 1)\n",
    "    hit_map = (indices < R).to(torch.float)\n",
    "    tp = torch.zeros_like(hit_map) # true positive\n",
    "    tp[:,0] = hit_map[:,0]\n",
    "    dcg = torch.zeros_like(hit_map) # DCG\n",
    "    dcg[:,0] = hit_map[:,0]\n",
    "    idcg = torch.zeros_like(hit_map)\n",
    "    flip_mask = torch.flip(pos_mask, dims = [1])\n",
    "    idcg[:,:flip_mask.shape[1]] = flip_mask\n",
    "    idcg = idcg * b.view(1,-1)\n",
    "    for i in range(1,max_k):\n",
    "        tp[:,i] = tp[:,i-1] + hit_map[:,i]\n",
    "        dcg[:,i] = dcg[:,i-1] + hit_map[:,i] * b[i]\n",
    "        idcg[:,i] = idcg[:,i-1] + idcg[:,i]\n",
    "    hr = tp.clone()\n",
    "    hr[hr>0] = 1\n",
    "    precision = (tp / ap)\n",
    "    recall = (tp / pos_length.view(-1,1))\n",
    "    f1 = (2*tp / (ap + pos_length.view(-1,1))) # 2TP / ((TP+FP) + (TP+FN))\n",
    "    ndcg = (dcg / idcg)\n",
    "    \n",
    "    # mean rank\n",
    "    report['MR'] += torch.sum(torch.sum(rank, dim = 1) / pos_length)\n",
    "    # mean reciprocal rank\n",
    "    mrr = torch.sum(pos_mask / (rank + 1e-6), dim = 1)\n",
    "    report['MRR'] += torch.sum(mrr / pos_length)\n",
    "    # hit rate\n",
    "    hr = torch.sum(hr, dim = 0)\n",
    "    # precision\n",
    "    precision = torch.sum(precision, dim = 0)\n",
    "    # recall\n",
    "    recall = torch.sum(recall, dim = 0)\n",
    "    # f1\n",
    "    f1 = torch.sum(f1, dim = 0)\n",
    "    # ndcg\n",
    "    ndcg = torch.sum(ndcg, dim = 0)\n",
    "    # auc\n",
    "    rank[rank == 0] = R+N+1\n",
    "    sorted_rank, _ = torch.sort(rank, dim = 1)\n",
    "    level_width = sorted_rank - gt_position\n",
    "    level_width = level_width * flip_mask\n",
    "    auc = torch.sum(level_width, dim = 1) / pos_length\n",
    "    auc = auc / N\n",
    "    report['AUC'] += torch.sum(1 - auc)\n",
    "    \n",
    "    for k in k_list:\n",
    "        report[f'HR@{k}'] += hr[k-1]\n",
    "        report[f'P@{k}'] += precision[k-1]\n",
    "        report[f'RECALL@{k}'] += recall[k-1]\n",
    "        report[f'F1@{k}'] += f1[k-1]\n",
    "        report[f'NDCG@{k}'] += ndcg[k-1]\n",
    "    return report, B"
   ]
  },
  {
   "cell_type": "code",
   "execution_count": null,
   "id": "5fd2d381-3f3d-4370-a5be-719d4655cfb0",
   "metadata": {},
   "outputs": [],
   "source": [
    "report,B = calculate_batch_ranking_metric(pos_pred, neg_pred, pos_mask, k_list)\n",
    "for k,v in report.items():\n",
    "    print(k, (v/B).cpu().numpy())"
   ]
  },
  {
   "cell_type": "code",
   "execution_count": null,
   "id": "3dc343bf-2328-4aae-9982-01c339f1419a",
   "metadata": {},
   "outputs": [],
   "source": []
  }
 ],
 "metadata": {
  "kernelspec": {
   "display_name": "FedCT",
   "language": "python",
   "name": "fedct"
  },
  "language_info": {
   "codemirror_mode": {
    "name": "ipython",
    "version": 3
   },
   "file_extension": ".py",
   "mimetype": "text/x-python",
   "name": "python",
   "nbconvert_exporter": "python",
   "pygments_lexer": "ipython3",
   "version": "3.9.7"
  }
 },
 "nbformat": 4,
 "nbformat_minor": 5
}

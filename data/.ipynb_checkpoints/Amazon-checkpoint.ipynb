{
 "cells": [
  {
   "cell_type": "markdown",
   "metadata": {},
   "source": [
    "## Preprocess"
   ]
  },
  {
   "cell_type": "code",
   "execution_count": 1,
   "metadata": {},
   "outputs": [],
   "source": [
    "import os,sys,inspect\n",
    "currentdir = os.path.dirname(os.path.abspath(inspect.getfile(inspect.currentframe())))\n",
    "parentdir = os.path.dirname(currentdir)\n",
    "sys.path.insert(0,parentdir) \n",
    "\n",
    "from preprocess import ROOT, PREPROCESSED_ROOT, DOMAINS, N_CORES, setup_path\n",
    "data_path = ROOT + \"amazon_rating_only/\" # the downloaded amazon data path\n",
    "target_path = PREPROCESSED_ROOT + 'domain_data/'\n",
    "setup_path(target_path, is_dir = True)\n",
    "domains = DOMAINS\n",
    "n_cores = N_CORES"
   ]
  },
  {
   "cell_type": "code",
   "execution_count": 2,
   "metadata": {},
   "outputs": [],
   "source": [
    "\n",
    "domains = [\"Books\", \"Clothing_Shoes_and_Jewelry\", \"Home_and_Kitchen\", \n",
    "           \"Electronics\", \"Sports_and_Outdoors\", \"Tools_and_Home_Improvement\", \n",
    "           \"Movies_and_TV\", \"Toys_and_Games\", \"Automotive\", \"Pet_Supplies\", \n",
    "           \"Kindle_Store\", \"Office_Products\", \"Patio_Lawn_and_Garden\", \n",
    "           \"Grocery_and_Gourmet_Food\", \"CDs_and_Vinyl\", \"Video_Games\"]\n",
    "n_cores = {\"Books\": [50,5],\n",
    "            \"Clothing_Shoes_and_Jewelry\": [18,5],\n",
    "            \"Home_and_Kitchen\": [15,5],\n",
    "            \"Electronics\": [15,5],\n",
    "            \"Sports_and_Outdoors\": [10,5],\n",
    "            \"Tools_and_Home_Improvement\": [10,5],\n",
    "            \"Movies_and_TV\": [15,5],\n",
    "            \"Toys_and_Games\": [10,5],\n",
    "            \"Automotive\": [10,5],\n",
    "            \"Pet_Supplies\": [10,5],\n",
    "            \"Kindle_Store\": [15,5],\n",
    "            \"Office_Products\": [10,5],\n",
    "            \"Patio_Lawn_and_Garden\": [10,5],\n",
    "            \"Grocery_and_Gourmet_Food\": [10,5],\n",
    "            \"CDs_and_Vinyl\": [10,5],\n",
    "            \"Video_Games\": [10,5]}\n"
   ]
  },
  {
   "cell_type": "markdown",
   "metadata": {},
   "source": [
    "### 1. Multicore"
   ]
  },
  {
   "cell_type": "code",
   "execution_count": 3,
   "metadata": {},
   "outputs": [],
   "source": [
    "import pandas as pd\n",
    "from tqdm import tqdm\n",
    "from preprocess import *\n",
    "\n",
    "def filter_items_with_meta(df, meta_file_path):\n",
    "    items = {iid: False for iid in df['ItemID'].unique()}\n",
    "    item_meta = {}\n",
    "    with open(meta_file_path, 'r') as fin:\n",
    "        fin.readline()\n",
    "        for i,line in tqdm(enumerate(fin)):\n",
    "            meta_info = line.strip().split(\"\\t\")\n",
    "            item_id = meta_info[0]\n",
    "            if item_id in items:\n",
    "                item_meta[item_id] = meta_info\n",
    "                del items[item_id]\n",
    "                if len(items) == 0:\n",
    "                    break\n",
    "    print(\"Item meta info of items in data set:\")\n",
    "    print(f\"Found: {len(item_meta)}\")\n",
    "    print(f\"Missing: {len(items)}\")\n",
    "    selected_rows = [True] * len(df)\n",
    "    for i,iid in enumerate(df[\"ItemID\"]):\n",
    "        if iid in items:\n",
    "            selected_rows[i] = False\n",
    "    df = df[selected_rows]\n",
    "    return item_meta, df\n",
    "\n",
    "def multi_domain_multicore(domain_n_cores, item_meta_path, target_dir):\n",
    "    for domain, n_cores in domain_n_cores.items():\n",
    "        print(domain)\n",
    "        print(n_cores)\n",
    "        df = pd.read_table(data_path + domain + \".csv\", sep=\",\", \n",
    "                           names = [\"ItemID\", \"UserID\", \"Response\", \"Timestamp\"])\n",
    "        multicore_data = run_multicore_asymetric(df[[\"UserID\", \"ItemID\", \"Response\", \"Timestamp\"]], \n",
    "                                                 n_core_user = n_cores[0], \n",
    "                                                 n_core_item = n_cores[1])\n",
    "        item_meta, multicore_data = filter_items_with_meta(multicore_data, item_meta_path)\n",
    "        multicore_data = run_multicore_asymetric(multicore_data, n_cores[0], n_cores[1])\n",
    "        multicore_data.to_csv(target_dir + \"multicore_data/\" + domain + \".tsv\", sep = '\\t', index = False)\n",
    "        n_user, n_item = len(multicore_data.UserID.unique()), len(multicore_data.ItemID.unique())\n",
    "        print(f\"#user: {n_user}\")\n",
    "        print(f\"#item: {n_item}\")\n",
    "        print(f\"#record: {len(multicore_data)}\")\n",
    "        print(f\"sparsity: {1.0 - len(multicore_data) / (n_user * n_item)}\")\n",
    "        # item meta\n",
    "        item_meta_df = pd.DataFrame.from_dict(item_meta, orient = \"index\", columns = [\"ItemID\", \"Category\", \"MinPrice\", \"MaxPrice\", \"AlsoBuy\", \"AlsoView\", \"Brand\"])\n",
    "        item_meta_df = item_meta_df[[\"ItemID\", \"Category\", \"MinPrice\", \"MaxPrice\", \"Brand\"]]\n",
    "        item_meta_df = item_meta_df.reset_index(drop = True)\n",
    "        item_meta_df.to_csv(target_dir + \"meta_data/\" + domain + \"_item.meta\", \n",
    "                            sep = '\\t', index = False)\n",
    "        # item vocabulary\n",
    "        build_vocab(item_meta_df, \n",
    "                    target_dir + \"meta_data/\" + domain + \"_item_fields.vocab\", \n",
    "                    [\"ItemID\", \"Category\", \"MinPrice\", \"MaxPrice\", \"Brand\"])\n",
    "        # item feature description\n",
    "        item_fields_meta = pd.DataFrame({\n",
    "            \"field_name\": [\"ItemID\", \"Category\", \"MinPrice\", \"MaxPrice\", \"Brand\"], \n",
    "            \"field_type\": [\"nominal\", \"nominal\", \"ordinal\", \"ordinal\", \"nominal\"], \n",
    "            \"value_type\": [\"str\", \"str\", \"int\", \"int\", \"str\"], \n",
    "            \"field_enc\": [\"v2id\", \"v2onehot\", \"v2id\", \"v2id\", \"v2id\"], \n",
    "            \"vocab_key\": [\"ItemID\", \"Category\", \"MinPrice\", \"MaxPrice\", \"Brand\"]})\n",
    "        item_fields_meta.to_csv(target_dir + \"meta_data/\" + domain + \"_item_fields.meta\", \n",
    "                                sep = '\\t', index = False)\n",
    "        # user meta\n",
    "        users = {uid: uid for uid in multicore_data['UserID'].unique()}\n",
    "        user_meta_df = pd.DataFrame.from_dict(users, orient = \"index\", columns = [\"UserID\"])\n",
    "        user_meta_df = user_meta_df.reset_index(drop = True)\n",
    "        user_meta_df.to_csv(target_dir + \"meta_data/\" + domain + \"_user.meta\", sep = '\\t', index = False)\n",
    "        # user vocabulary\n",
    "        build_vocab(user_meta_df, target_dir + \"meta_data/\" + domain + \"_user_fields.vocab\", [\"UserID\"])\n",
    "        # user feature description\n",
    "        user_fields_meta = pd.DataFrame({\"field_name\": [\"UserID\"], \n",
    "                                  \"field_type\": [\"nominal\"], \n",
    "                                  \"value_type\": [\"str\"], \n",
    "                                  \"field_enc\": [\"v2id\"], \n",
    "                                  \"vocab_key\": [\"UserID\"]})\n",
    "        user_fields_meta.to_csv(target_dir + \"meta_data/\" + domain + \"_user_fields.meta\", sep = '\\t', index = False)\n",
    "        \n",
    "        "
   ]
  },
  {
   "cell_type": "code",
   "execution_count": 4,
   "metadata": {
    "scrolled": true
   },
   "outputs": [
    {
     "name": "stdout",
     "output_type": "stream",
     "text": [
      "Books\n",
      "[50, 5]\n",
      "N-core is set to [5,100]\n",
      "Filtering (50,5)-core data\n",
      "Iteration 1\n"
     ]
    },
    {
     "name": "stderr",
     "output_type": "stream",
     "text": [
      "100%|██████████| 51311621/51311621 [01:22<00:00, 620493.27it/s]\n"
     ]
    },
    {
     "name": "stdout",
     "output_type": "stream",
     "text": [
      "Number of removed record: 42984520\n",
      "Iteration 2\n"
     ]
    },
    {
     "name": "stderr",
     "output_type": "stream",
     "text": [
      "100%|██████████| 8327101/8327101 [00:12<00:00, 693655.03it/s] \n"
     ]
    },
    {
     "name": "stdout",
     "output_type": "stream",
     "text": [
      "Number of removed record: 1061541\n",
      "Iteration 3\n"
     ]
    },
    {
     "name": "stderr",
     "output_type": "stream",
     "text": [
      "100%|██████████| 7265560/7265560 [00:10<00:00, 705007.63it/s]\n"
     ]
    },
    {
     "name": "stdout",
     "output_type": "stream",
     "text": [
      "Number of removed record: 386047\n",
      "Iteration 4\n"
     ]
    },
    {
     "name": "stderr",
     "output_type": "stream",
     "text": [
      "100%|██████████| 6879513/6879513 [00:09<00:00, 709309.84it/s]\n"
     ]
    },
    {
     "name": "stdout",
     "output_type": "stream",
     "text": [
      "Number of removed record: 86013\n",
      "Iteration 5\n"
     ]
    },
    {
     "name": "stderr",
     "output_type": "stream",
     "text": [
      "100%|██████████| 6793500/6793500 [00:08<00:00, 790599.69it/s]\n"
     ]
    },
    {
     "name": "stdout",
     "output_type": "stream",
     "text": [
      "Number of removed record: 30585\n",
      "Iteration 6\n"
     ]
    },
    {
     "name": "stderr",
     "output_type": "stream",
     "text": [
      "100%|██████████| 6762915/6762915 [00:08<00:00, 841694.97it/s] \n"
     ]
    },
    {
     "name": "stdout",
     "output_type": "stream",
     "text": [
      "Number of removed record: 8559\n",
      "Iteration 7\n"
     ]
    },
    {
     "name": "stderr",
     "output_type": "stream",
     "text": [
      "100%|██████████| 6754356/6754356 [00:09<00:00, 744572.94it/s]\n"
     ]
    },
    {
     "name": "stdout",
     "output_type": "stream",
     "text": [
      "Number of removed record: 2687\n",
      "Iteration 8\n"
     ]
    },
    {
     "name": "stderr",
     "output_type": "stream",
     "text": [
      "100%|██████████| 6751669/6751669 [00:09<00:00, 677841.43it/s]\n"
     ]
    },
    {
     "name": "stdout",
     "output_type": "stream",
     "text": [
      "Number of removed record: 907\n",
      "Iteration 9\n"
     ]
    },
    {
     "name": "stderr",
     "output_type": "stream",
     "text": [
      "100%|██████████| 6750762/6750762 [00:09<00:00, 700847.49it/s]\n"
     ]
    },
    {
     "name": "stdout",
     "output_type": "stream",
     "text": [
      "Number of removed record: 519\n",
      "Iteration 10\n"
     ]
    },
    {
     "name": "stderr",
     "output_type": "stream",
     "text": [
      "100%|██████████| 6750243/6750243 [00:08<00:00, 763442.25it/s]\n"
     ]
    },
    {
     "name": "stdout",
     "output_type": "stream",
     "text": [
      "Number of removed record: 128\n",
      "Iteration 11\n"
     ]
    },
    {
     "name": "stderr",
     "output_type": "stream",
     "text": [
      "100%|██████████| 6750115/6750115 [00:08<00:00, 792640.08it/s]\n"
     ]
    },
    {
     "name": "stdout",
     "output_type": "stream",
     "text": [
      "Number of removed record: 89\n",
      "Iteration 12\n"
     ]
    },
    {
     "name": "stderr",
     "output_type": "stream",
     "text": [
      "100%|██████████| 6750026/6750026 [00:08<00:00, 826110.65it/s] \n"
     ]
    },
    {
     "name": "stdout",
     "output_type": "stream",
     "text": [
      "Number of removed record: 6\n",
      "Iteration 13\n"
     ]
    },
    {
     "name": "stderr",
     "output_type": "stream",
     "text": [
      "100%|██████████| 6750020/6750020 [00:08<00:00, 801091.02it/s]\n"
     ]
    },
    {
     "name": "stdout",
     "output_type": "stream",
     "text": [
      "Number of removed record: 0\n",
      "Size change: 51311621 --> 6750020\n"
     ]
    },
    {
     "name": "stderr",
     "output_type": "stream",
     "text": [
      "15138777it [00:23, 655992.89it/s] \n"
     ]
    },
    {
     "name": "stdout",
     "output_type": "stream",
     "text": [
      "Item meta info of items in data set:\n",
      "Found: 252733\n",
      "Missing: 31\n",
      "N-core is set to [5,100]\n",
      "Filtering (50,5)-core data\n",
      "Iteration 1\n"
     ]
    },
    {
     "name": "stderr",
     "output_type": "stream",
     "text": [
      "100%|██████████| 6749694/6749694 [00:08<00:00, 822400.30it/s]\n"
     ]
    },
    {
     "name": "stdout",
     "output_type": "stream",
     "text": [
      "Number of removed record: 282\n",
      "Iteration 2\n"
     ]
    },
    {
     "name": "stderr",
     "output_type": "stream",
     "text": [
      "100%|██████████| 6749412/6749412 [00:06<00:00, 1077442.28it/s]\n"
     ]
    },
    {
     "name": "stdout",
     "output_type": "stream",
     "text": [
      "Number of removed record: 123\n",
      "Iteration 3\n"
     ]
    },
    {
     "name": "stderr",
     "output_type": "stream",
     "text": [
      "100%|██████████| 6749289/6749289 [00:06<00:00, 980519.57it/s] \n"
     ]
    },
    {
     "name": "stdout",
     "output_type": "stream",
     "text": [
      "Number of removed record: 18\n",
      "Iteration 4\n"
     ]
    },
    {
     "name": "stderr",
     "output_type": "stream",
     "text": [
      "100%|██████████| 6749271/6749271 [00:06<00:00, 1051893.76it/s]\n"
     ]
    },
    {
     "name": "stdout",
     "output_type": "stream",
     "text": [
      "Number of removed record: 0\n",
      "Size change: 6749694 --> 6749271\n"
     ]
    },
    {
     "ename": "FileNotFoundError",
     "evalue": "[Errno 2] No such file or directory: '/home/sl1471/experiments/domain_data/multicore_data/Books.tsv'",
     "output_type": "error",
     "traceback": [
      "\u001b[0;31m---------------------------------------------------------------------------\u001b[0m",
      "\u001b[0;31mFileNotFoundError\u001b[0m                         Traceback (most recent call last)",
      "\u001b[0;32m<ipython-input-4-ee47d80b99f3>\u001b[0m in \u001b[0;36m<module>\u001b[0;34m\u001b[0m\n\u001b[0;32m----> 1\u001b[0;31m \u001b[0mmulti_domain_multicore\u001b[0m\u001b[0;34m(\u001b[0m\u001b[0mn_cores\u001b[0m\u001b[0;34m,\u001b[0m \u001b[0mdata_path\u001b[0m \u001b[0;34m+\u001b[0m \u001b[0;34m\"meta/filtered_meta.csv\"\u001b[0m\u001b[0;34m,\u001b[0m \u001b[0mtarget_path\u001b[0m\u001b[0;34m)\u001b[0m\u001b[0;34m\u001b[0m\u001b[0;34m\u001b[0m\u001b[0m\n\u001b[0m",
      "\u001b[0;32m<ipython-input-3-2b36f5c426ee>\u001b[0m in \u001b[0;36mmulti_domain_multicore\u001b[0;34m(domain_n_cores, item_meta_path, target_dir)\u001b[0m\n\u001b[1;32m     37\u001b[0m         \u001b[0mitem_meta\u001b[0m\u001b[0;34m,\u001b[0m \u001b[0mmulticore_data\u001b[0m \u001b[0;34m=\u001b[0m \u001b[0mfilter_items_with_meta\u001b[0m\u001b[0;34m(\u001b[0m\u001b[0mmulticore_data\u001b[0m\u001b[0;34m,\u001b[0m \u001b[0mitem_meta_path\u001b[0m\u001b[0;34m)\u001b[0m\u001b[0;34m\u001b[0m\u001b[0;34m\u001b[0m\u001b[0m\n\u001b[1;32m     38\u001b[0m         \u001b[0mmulticore_data\u001b[0m \u001b[0;34m=\u001b[0m \u001b[0mrun_multicore_asymetric\u001b[0m\u001b[0;34m(\u001b[0m\u001b[0mmulticore_data\u001b[0m\u001b[0;34m,\u001b[0m \u001b[0mn_cores\u001b[0m\u001b[0;34m[\u001b[0m\u001b[0;36m0\u001b[0m\u001b[0;34m]\u001b[0m\u001b[0;34m,\u001b[0m \u001b[0mn_cores\u001b[0m\u001b[0;34m[\u001b[0m\u001b[0;36m1\u001b[0m\u001b[0;34m]\u001b[0m\u001b[0;34m)\u001b[0m\u001b[0;34m\u001b[0m\u001b[0;34m\u001b[0m\u001b[0m\n\u001b[0;32m---> 39\u001b[0;31m         \u001b[0mmulticore_data\u001b[0m\u001b[0;34m.\u001b[0m\u001b[0mto_csv\u001b[0m\u001b[0;34m(\u001b[0m\u001b[0mtarget_dir\u001b[0m \u001b[0;34m+\u001b[0m \u001b[0;34m\"multicore_data/\"\u001b[0m \u001b[0;34m+\u001b[0m \u001b[0mdomain\u001b[0m \u001b[0;34m+\u001b[0m \u001b[0;34m\".tsv\"\u001b[0m\u001b[0;34m,\u001b[0m \u001b[0msep\u001b[0m \u001b[0;34m=\u001b[0m \u001b[0;34m'\\t'\u001b[0m\u001b[0;34m,\u001b[0m \u001b[0mindex\u001b[0m \u001b[0;34m=\u001b[0m \u001b[0;32mFalse\u001b[0m\u001b[0;34m)\u001b[0m\u001b[0;34m\u001b[0m\u001b[0;34m\u001b[0m\u001b[0m\n\u001b[0m\u001b[1;32m     40\u001b[0m         \u001b[0mn_user\u001b[0m\u001b[0;34m,\u001b[0m \u001b[0mn_item\u001b[0m \u001b[0;34m=\u001b[0m \u001b[0mlen\u001b[0m\u001b[0;34m(\u001b[0m\u001b[0mmulticore_data\u001b[0m\u001b[0;34m.\u001b[0m\u001b[0mUserID\u001b[0m\u001b[0;34m.\u001b[0m\u001b[0munique\u001b[0m\u001b[0;34m(\u001b[0m\u001b[0;34m)\u001b[0m\u001b[0;34m)\u001b[0m\u001b[0;34m,\u001b[0m \u001b[0mlen\u001b[0m\u001b[0;34m(\u001b[0m\u001b[0mmulticore_data\u001b[0m\u001b[0;34m.\u001b[0m\u001b[0mItemID\u001b[0m\u001b[0;34m.\u001b[0m\u001b[0munique\u001b[0m\u001b[0;34m(\u001b[0m\u001b[0;34m)\u001b[0m\u001b[0;34m)\u001b[0m\u001b[0;34m\u001b[0m\u001b[0;34m\u001b[0m\u001b[0m\n\u001b[1;32m     41\u001b[0m         \u001b[0mprint\u001b[0m\u001b[0;34m(\u001b[0m\u001b[0;34mf\"#user: {n_user}\"\u001b[0m\u001b[0;34m)\u001b[0m\u001b[0;34m\u001b[0m\u001b[0;34m\u001b[0m\u001b[0m\n",
      "\u001b[0;32m~/anaconda3/envs/bmrl/lib/python3.9/site-packages/pandas/core/generic.py\u001b[0m in \u001b[0;36mto_csv\u001b[0;34m(self, path_or_buf, sep, na_rep, float_format, columns, header, index, index_label, mode, encoding, compression, quoting, quotechar, line_terminator, chunksize, date_format, doublequote, escapechar, decimal, errors, storage_options)\u001b[0m\n\u001b[1;32m   3461\u001b[0m         )\n\u001b[1;32m   3462\u001b[0m \u001b[0;34m\u001b[0m\u001b[0m\n\u001b[0;32m-> 3463\u001b[0;31m         return DataFrameRenderer(formatter).to_csv(\n\u001b[0m\u001b[1;32m   3464\u001b[0m             \u001b[0mpath_or_buf\u001b[0m\u001b[0;34m,\u001b[0m\u001b[0;34m\u001b[0m\u001b[0;34m\u001b[0m\u001b[0m\n\u001b[1;32m   3465\u001b[0m             \u001b[0mline_terminator\u001b[0m\u001b[0;34m=\u001b[0m\u001b[0mline_terminator\u001b[0m\u001b[0;34m,\u001b[0m\u001b[0;34m\u001b[0m\u001b[0;34m\u001b[0m\u001b[0m\n",
      "\u001b[0;32m~/anaconda3/envs/bmrl/lib/python3.9/site-packages/pandas/io/formats/format.py\u001b[0m in \u001b[0;36mto_csv\u001b[0;34m(self, path_or_buf, encoding, sep, columns, index_label, mode, compression, quoting, quotechar, line_terminator, chunksize, date_format, doublequote, escapechar, errors, storage_options)\u001b[0m\n\u001b[1;32m   1103\u001b[0m             \u001b[0mformatter\u001b[0m\u001b[0;34m=\u001b[0m\u001b[0mself\u001b[0m\u001b[0;34m.\u001b[0m\u001b[0mfmt\u001b[0m\u001b[0;34m,\u001b[0m\u001b[0;34m\u001b[0m\u001b[0;34m\u001b[0m\u001b[0m\n\u001b[1;32m   1104\u001b[0m         )\n\u001b[0;32m-> 1105\u001b[0;31m         \u001b[0mcsv_formatter\u001b[0m\u001b[0;34m.\u001b[0m\u001b[0msave\u001b[0m\u001b[0;34m(\u001b[0m\u001b[0;34m)\u001b[0m\u001b[0;34m\u001b[0m\u001b[0;34m\u001b[0m\u001b[0m\n\u001b[0m\u001b[1;32m   1106\u001b[0m \u001b[0;34m\u001b[0m\u001b[0m\n\u001b[1;32m   1107\u001b[0m         \u001b[0;32mif\u001b[0m \u001b[0mcreated_buffer\u001b[0m\u001b[0;34m:\u001b[0m\u001b[0;34m\u001b[0m\u001b[0;34m\u001b[0m\u001b[0m\n",
      "\u001b[0;32m~/anaconda3/envs/bmrl/lib/python3.9/site-packages/pandas/io/formats/csvs.py\u001b[0m in \u001b[0;36msave\u001b[0;34m(self)\u001b[0m\n\u001b[1;32m    235\u001b[0m         \"\"\"\n\u001b[1;32m    236\u001b[0m         \u001b[0;31m# apply compression and byte/text conversion\u001b[0m\u001b[0;34m\u001b[0m\u001b[0;34m\u001b[0m\u001b[0;34m\u001b[0m\u001b[0m\n\u001b[0;32m--> 237\u001b[0;31m         with get_handle(\n\u001b[0m\u001b[1;32m    238\u001b[0m             \u001b[0mself\u001b[0m\u001b[0;34m.\u001b[0m\u001b[0mfilepath_or_buffer\u001b[0m\u001b[0;34m,\u001b[0m\u001b[0;34m\u001b[0m\u001b[0;34m\u001b[0m\u001b[0m\n\u001b[1;32m    239\u001b[0m             \u001b[0mself\u001b[0m\u001b[0;34m.\u001b[0m\u001b[0mmode\u001b[0m\u001b[0;34m,\u001b[0m\u001b[0;34m\u001b[0m\u001b[0;34m\u001b[0m\u001b[0m\n",
      "\u001b[0;32m~/anaconda3/envs/bmrl/lib/python3.9/site-packages/pandas/io/common.py\u001b[0m in \u001b[0;36mget_handle\u001b[0;34m(path_or_buf, mode, encoding, compression, memory_map, is_text, errors, storage_options)\u001b[0m\n\u001b[1;32m    699\u001b[0m         \u001b[0;32mif\u001b[0m \u001b[0mioargs\u001b[0m\u001b[0;34m.\u001b[0m\u001b[0mencoding\u001b[0m \u001b[0;32mand\u001b[0m \u001b[0;34m\"b\"\u001b[0m \u001b[0;32mnot\u001b[0m \u001b[0;32min\u001b[0m \u001b[0mioargs\u001b[0m\u001b[0;34m.\u001b[0m\u001b[0mmode\u001b[0m\u001b[0;34m:\u001b[0m\u001b[0;34m\u001b[0m\u001b[0;34m\u001b[0m\u001b[0m\n\u001b[1;32m    700\u001b[0m             \u001b[0;31m# Encoding\u001b[0m\u001b[0;34m\u001b[0m\u001b[0;34m\u001b[0m\u001b[0;34m\u001b[0m\u001b[0m\n\u001b[0;32m--> 701\u001b[0;31m             handle = open(\n\u001b[0m\u001b[1;32m    702\u001b[0m                 \u001b[0mhandle\u001b[0m\u001b[0;34m,\u001b[0m\u001b[0;34m\u001b[0m\u001b[0;34m\u001b[0m\u001b[0m\n\u001b[1;32m    703\u001b[0m                 \u001b[0mioargs\u001b[0m\u001b[0;34m.\u001b[0m\u001b[0mmode\u001b[0m\u001b[0;34m,\u001b[0m\u001b[0;34m\u001b[0m\u001b[0;34m\u001b[0m\u001b[0m\n",
      "\u001b[0;31mFileNotFoundError\u001b[0m: [Errno 2] No such file or directory: '/home/sl1471/experiments/domain_data/multicore_data/Books.tsv'"
     ]
    }
   ],
   "source": [
    "setup_path(target_path + \"meta_data/\", is_dir = True)\n",
    "setup_path(target_path + \"multicore_data/\", is_dir = True)\n",
    "multi_domain_multicore(n_cores, data_path + \"meta/filtered_meta.csv\", target_path)"
   ]
  },
  {
   "cell_type": "markdown",
   "metadata": {},
   "source": [
    "### 2. Cross-Domain Statistics\n",
    "\n",
    "**Note**: Run the first cell before running this section."
   ]
  },
  {
   "cell_type": "code",
   "execution_count": 32,
   "metadata": {},
   "outputs": [],
   "source": [
    "from tqdm import tqdm\n",
    "import pandas as pd\n",
    "def get_cross_domain_frequencies(domains, target_dir):\n",
    "    user_frequencies = {}\n",
    "    for i,domain in enumerate(domains):\n",
    "        print(domain)\n",
    "        df = pd.read_csv(target_dir + \"multicore_data/\" + domain + \".tsv\", sep = '\\t')\n",
    "        UC = df['UserID'].value_counts()\n",
    "        uids = list(UC.index)\n",
    "        counts = list(UC.values)\n",
    "        print(len(uids))\n",
    "        for j,u in tqdm(enumerate(uids)):\n",
    "            c = counts[j]\n",
    "            if u not in user_frequencies:\n",
    "                user_frequencies[u] = [0] * len(domains)\n",
    "            user_frequencies[u][i] += c\n",
    "    return user_frequencies"
   ]
  },
  {
   "cell_type": "code",
   "execution_count": 33,
   "metadata": {
    "scrolled": true
   },
   "outputs": [
    {
     "name": "stdout",
     "output_type": "stream",
     "text": [
      "Books\n",
      "53256\n"
     ]
    },
    {
     "name": "stderr",
     "output_type": "stream",
     "text": [
      "53256it [00:00, 875992.10it/s]"
     ]
    },
    {
     "name": "stdout",
     "output_type": "stream",
     "text": [
      "Clothing_Shoes_and_Jewelry\n"
     ]
    },
    {
     "name": "stderr",
     "output_type": "stream",
     "text": [
      "\n"
     ]
    },
    {
     "name": "stdout",
     "output_type": "stream",
     "text": [
      "47758\n"
     ]
    },
    {
     "name": "stderr",
     "output_type": "stream",
     "text": [
      "47758it [00:00, 177938.79it/s]\n"
     ]
    },
    {
     "name": "stdout",
     "output_type": "stream",
     "text": [
      "Home_and_Kitchen\n",
      "54086\n"
     ]
    },
    {
     "name": "stderr",
     "output_type": "stream",
     "text": [
      "54086it [00:00, 836806.15it/s]"
     ]
    },
    {
     "name": "stdout",
     "output_type": "stream",
     "text": [
      "Electronics\n"
     ]
    },
    {
     "name": "stderr",
     "output_type": "stream",
     "text": [
      "\n"
     ]
    },
    {
     "name": "stdout",
     "output_type": "stream",
     "text": [
      "67504\n"
     ]
    },
    {
     "name": "stderr",
     "output_type": "stream",
     "text": [
      "67504it [00:00, 786308.24it/s]"
     ]
    },
    {
     "name": "stdout",
     "output_type": "stream",
     "text": [
      "Sports_and_Outdoors\n"
     ]
    },
    {
     "name": "stderr",
     "output_type": "stream",
     "text": [
      "\n"
     ]
    },
    {
     "name": "stdout",
     "output_type": "stream",
     "text": [
      "58293\n"
     ]
    },
    {
     "name": "stderr",
     "output_type": "stream",
     "text": [
      "58293it [00:00, 210261.11it/s]\n"
     ]
    },
    {
     "name": "stdout",
     "output_type": "stream",
     "text": [
      "Tools_and_Home_Improvement\n",
      "44955\n"
     ]
    },
    {
     "name": "stderr",
     "output_type": "stream",
     "text": [
      "44955it [00:00, 854248.87it/s]"
     ]
    },
    {
     "name": "stdout",
     "output_type": "stream",
     "text": [
      "Movies_and_TV\n"
     ]
    },
    {
     "name": "stderr",
     "output_type": "stream",
     "text": [
      "\n"
     ]
    },
    {
     "name": "stdout",
     "output_type": "stream",
     "text": [
      "44195\n"
     ]
    },
    {
     "name": "stderr",
     "output_type": "stream",
     "text": [
      "44195it [00:00, 844078.64it/s]"
     ]
    },
    {
     "name": "stdout",
     "output_type": "stream",
     "text": [
      "Toys_and_Games\n"
     ]
    },
    {
     "name": "stderr",
     "output_type": "stream",
     "text": [
      "\n"
     ]
    },
    {
     "name": "stdout",
     "output_type": "stream",
     "text": [
      "36035\n"
     ]
    },
    {
     "name": "stderr",
     "output_type": "stream",
     "text": [
      "36035it [00:00, 814407.12it/s]"
     ]
    },
    {
     "name": "stdout",
     "output_type": "stream",
     "text": [
      "Automotive\n"
     ]
    },
    {
     "name": "stderr",
     "output_type": "stream",
     "text": [
      "\n"
     ]
    },
    {
     "name": "stdout",
     "output_type": "stream",
     "text": [
      "34992\n"
     ]
    },
    {
     "name": "stderr",
     "output_type": "stream",
     "text": [
      "34992it [00:00, 812519.85it/s]"
     ]
    },
    {
     "name": "stdout",
     "output_type": "stream",
     "text": [
      "Pet_Supplies\n"
     ]
    },
    {
     "name": "stderr",
     "output_type": "stream",
     "text": [
      "\n"
     ]
    },
    {
     "name": "stdout",
     "output_type": "stream",
     "text": [
      "55296\n"
     ]
    },
    {
     "name": "stderr",
     "output_type": "stream",
     "text": [
      "55296it [00:00, 789521.42it/s]"
     ]
    },
    {
     "name": "stdout",
     "output_type": "stream",
     "text": [
      "Kindle_Store\n"
     ]
    },
    {
     "name": "stderr",
     "output_type": "stream",
     "text": [
      "\n"
     ]
    },
    {
     "name": "stdout",
     "output_type": "stream",
     "text": [
      "30136\n"
     ]
    },
    {
     "name": "stderr",
     "output_type": "stream",
     "text": [
      "30136it [00:00, 883005.20it/s]\n"
     ]
    },
    {
     "name": "stdout",
     "output_type": "stream",
     "text": [
      "Office_Products\n",
      "12611\n"
     ]
    },
    {
     "name": "stderr",
     "output_type": "stream",
     "text": [
      "12611it [00:00, 866254.53it/s]"
     ]
    },
    {
     "name": "stdout",
     "output_type": "stream",
     "text": [
      "Patio_Lawn_and_Garden\n"
     ]
    },
    {
     "name": "stderr",
     "output_type": "stream",
     "text": [
      "\n"
     ]
    },
    {
     "name": "stdout",
     "output_type": "stream",
     "text": [
      "10053\n"
     ]
    },
    {
     "name": "stderr",
     "output_type": "stream",
     "text": [
      "10053it [00:00, 899239.46it/s]\n"
     ]
    },
    {
     "name": "stdout",
     "output_type": "stream",
     "text": [
      "Grocery_and_Gourmet_Food\n",
      "25057\n"
     ]
    },
    {
     "name": "stderr",
     "output_type": "stream",
     "text": [
      "25057it [00:00, 850227.94it/s]"
     ]
    },
    {
     "name": "stdout",
     "output_type": "stream",
     "text": [
      "CDs_and_Vinyl\n"
     ]
    },
    {
     "name": "stderr",
     "output_type": "stream",
     "text": [
      "\n"
     ]
    },
    {
     "name": "stdout",
     "output_type": "stream",
     "text": [
      "28368\n"
     ]
    },
    {
     "name": "stderr",
     "output_type": "stream",
     "text": [
      "28368it [00:00, 839274.99it/s]\n"
     ]
    },
    {
     "name": "stdout",
     "output_type": "stream",
     "text": [
      "Video_Games\n",
      "10923\n"
     ]
    },
    {
     "name": "stderr",
     "output_type": "stream",
     "text": [
      "10923it [00:00, 37341.37it/s]\n"
     ]
    }
   ],
   "source": [
    "UF = get_cross_domain_frequencies(list(n_cores.keys()), target_path)"
   ]
  },
  {
   "cell_type": "code",
   "execution_count": 35,
   "metadata": {},
   "outputs": [],
   "source": [
    "def get_confusion_matrix(user_freq, domains):\n",
    "    M = [[0]*len(domains) for _ in range(len(domains))]\n",
    "    for i in tqdm(range(len(domains))):\n",
    "        for j in range(len(domains)):\n",
    "            for k,freq in user_freq.items():\n",
    "                if freq[i] > 0 and freq[j] > 0:\n",
    "                    M[i][j] += freq[j]\n",
    "                    if i != j:\n",
    "                        M[j][i] += freq[i]\n",
    "    return M"
   ]
  },
  {
   "cell_type": "code",
   "execution_count": 36,
   "metadata": {},
   "outputs": [],
   "source": [
    "def get_cross_domain_matrix(user_freq, domains):\n",
    "    M = [[0]*len(domains) for _ in range(len(domains))]\n",
    "    for i in tqdm(range(len(domains))):\n",
    "        for j in range(len(domains)):\n",
    "            for k,freq in user_freq.items():\n",
    "                if freq[i] > 0 and freq[j] > 0:\n",
    "                    M[i][j] += 1\n",
    "                    if i != j:\n",
    "                        M[j][i] += 1\n",
    "    return M"
   ]
  },
  {
   "cell_type": "code",
   "execution_count": 37,
   "metadata": {},
   "outputs": [
    {
     "name": "stderr",
     "output_type": "stream",
     "text": [
      "100%|███████████████████████████████████████████| 16/16 [00:15<00:00,  1.03it/s]\n"
     ]
    }
   ],
   "source": [
    "# M = get_confusion_matrix(UF, list(n_cores.keys()))\n",
    "M = get_cross_domain_matrix(UF, list(n_cores.keys()))"
   ]
  },
  {
   "cell_type": "code",
   "execution_count": 38,
   "metadata": {},
   "outputs": [],
   "source": [
    "import matplotlib.pyplot as plt\n",
    "import numpy as np\n",
    "def plot_heatmap(x_labels, y_labels, matrix, title = \"confusion matrix\", include_diagonal = True):\n",
    "    assert len(matrix) == len(y_labels) and len(matrix[0]) == len(x_labels)\n",
    "    fig, ax = plt.subplots(figsize = (len(x_labels),len(y_labels)))\n",
    "    if not include_diagonal:\n",
    "        im = ax.imshow([[np.log(matrix[i][j]) if i!=j else 0 for j in range(len(x_labels))] for i in range(len(y_labels))])\n",
    "    else:\n",
    "        im = ax.imshow([[np.log(matrix[i][j]) for j in range(len(x_labels))] for i in range(len(y_labels))])\n",
    "\n",
    "    ax.set_xticks(np.arange(len(x_labels)))\n",
    "    ax.set_yticks(np.arange(len(y_labels)))\n",
    "    ax.set_xticklabels(x_labels)\n",
    "    ax.set_yticklabels(y_labels)\n",
    "    \n",
    "    plt.setp(ax.get_xticklabels(), rotation=45, ha=\"right\",\n",
    "             rotation_mode=\"anchor\")\n",
    "    \n",
    "    for i in range(len(y_labels)):\n",
    "        for j in range(len(x_labels)):\n",
    "            text = ax.text(j, i, matrix[i][j], fontsize = 'small',\n",
    "                           ha=\"center\", va=\"center\", color=\"w\")\n",
    "            \n",
    "    ax.set_title(title)\n",
    "    fig.tight_layout()\n",
    "    plt.show()"
   ]
  },
  {
   "cell_type": "code",
   "execution_count": 39,
   "metadata": {},
   "outputs": [
    {
     "data": {
      "image/png": "[encoded data removed]",
      "text/plain": [
       "<Figure size 1152x1152 with 1 Axes>"
      ]
     },
     "metadata": {
      "needs_background": "light"
     },
     "output_type": "display_data"
    }
   ],
   "source": [
    "import matplotlib.pyplot as plt\n",
    "plt.rcParams.update({'font.size': 16})\n",
    "D = list(n_cores.keys())\n",
    "plot_heatmap(D,D,M)"
   ]
  },
  {
   "cell_type": "code",
   "execution_count": 40,
   "metadata": {},
   "outputs": [
    {
     "name": "stdout",
     "output_type": "stream",
     "text": [
      "Average common user prob:  0.16947573339524702\n"
     ]
    },
    {
     "data": {
      "image/png": "[encoded data removed]",
      "text/plain": [
       "<Figure size 576x432 with 1 Axes>"
      ]
     },
     "metadata": {
      "needs_background": "light"
     },
     "output_type": "display_data"
    }
   ],
   "source": [
    "sharing_prob = []\n",
    "for i,D1 in enumerate(D):\n",
    "    from_d_sharing = [float(M[i][j])/M[i][i] for j,D2 in enumerate(D) if i != j]\n",
    "    sharing_prob.append(np.mean(from_d_sharing))\n",
    "print(\"Average common user prob: \", np.mean(sharing_prob))\n",
    "plt.figure(figsize = (8,6))\n",
    "plt.barh(D,sharing_prob)\n",
    "plt.show()"
   ]
  },
  {
   "cell_type": "code",
   "execution_count": 41,
   "metadata": {},
   "outputs": [],
   "source": [
    "def get_domain_unique_prop(user_freq, domains):\n",
    "    unique_freq = {d: 0. for d in domains}\n",
    "    domain_freq = {d: 0. for d in domains}\n",
    "    for k,freq in tqdm(user_freq.items()):\n",
    "        sum_freq = sum(freq)\n",
    "        for i,domain in enumerate(domains):\n",
    "            if freq[i] > 0:\n",
    "                domain_freq[domain] += 1\n",
    "                if freq[i] == sum_freq:\n",
    "                    unique_freq[domain] += 1\n",
    "    return {d: unique_freq[d]/domain_freq[d] for d in domains}"
   ]
  },
  {
   "cell_type": "code",
   "execution_count": 42,
   "metadata": {},
   "outputs": [
    {
     "name": "stderr",
     "output_type": "stream",
     "text": [
      "100%|███████████████████████████████| 430763/430763 [00:01<00:00, 301947.72it/s]\n"
     ]
    }
   ],
   "source": [
    "unique_prop = get_domain_unique_prop(UF, D)"
   ]
  },
  {
   "cell_type": "code",
   "execution_count": 43,
   "metadata": {},
   "outputs": [
    {
     "name": "stdout",
     "output_type": "stream",
     "text": [
      "Average unique user prob:  0.5031194738050351\n"
     ]
    },
    {
     "data": {
      "image/png": "[encoded data removed]",
      "text/plain": [
       "<Figure size 576x432 with 1 Axes>"
      ]
     },
     "metadata": {
      "needs_background": "light"
     },
     "output_type": "display_data"
    }
   ],
   "source": [
    "import numpy as np\n",
    "V = list(unique_prop.values())\n",
    "print(\"Average unique user prob: \", np.mean(V))\n",
    "plt.figure(figsize = (8,6))\n",
    "plt.barh(list(unique_prop.keys()),V)\n",
    "plt.show()"
   ]
  },
  {
   "cell_type": "markdown",
   "metadata": {},
   "source": [
    "### 3. Holdout Cross-domain Cold-start Users\n",
    "\n",
    "**Note**: Run the first cell and section 2 before running this section."
   ]
  },
  {
   "cell_type": "code",
   "execution_count": 44,
   "metadata": {},
   "outputs": [
    {
     "name": "stderr",
     "output_type": "stream",
     "text": [
      "100%|███████████████████████████████| 430763/430763 [00:01<00:00, 220319.63it/s]"
     ]
    },
    {
     "name": "stdout",
     "output_type": "stream",
     "text": [
      "#user candidates to holdout\n",
      "{'Books': 924, 'Clothing_Shoes_and_Jewelry': 4776, 'Home_and_Kitchen': 5409, 'Electronics': 6751, 'Sports_and_Outdoors': 5830, 'Tools_and_Home_Improvement': 4496, 'Movies_and_TV': 3265, 'Toys_and_Games': 3027, 'Automotive': 2187, 'Pet_Supplies': 3354, 'Kindle_Store': 3014, 'Office_Products': 1262, 'Patio_Lawn_and_Garden': 1006, 'Grocery_and_Gourmet_Food': 2337, 'CDs_and_Vinyl': 1896, 'Video_Games': 829}\n"
     ]
    },
    {
     "name": "stderr",
     "output_type": "stream",
     "text": [
      "\n"
     ]
    }
   ],
   "source": [
    "holdout_prob = 0.1\n",
    "min_holdout_freq = 50\n",
    "max_holdout_bound = 0.3\n",
    "\n",
    "holdout_candidates = {d: [] for d in D}\n",
    "holdout_number = {d: holdout_prob * M[i][i] for i,d in enumerate(D)}\n",
    "for uid, freq in tqdm(UF.items()):\n",
    "    total_freq = sum(freq)\n",
    "    if total_freq < min_holdout_freq:\n",
    "        continue\n",
    "    valid_domain_freq = {D[i]:f for i,f in enumerate(freq) if f > 0}\n",
    "    available_freq = max_holdout_bound * total_freq\n",
    "    for d,f in valid_domain_freq.items():\n",
    "        if f < available_freq and len(holdout_candidates[d]) < holdout_number[d]:\n",
    "            holdout_candidates[d].append(uid)\n",
    "            available_freq -= f\n",
    "print(\"#user candidates to holdout\")\n",
    "print({d: len(candidates) for d,candidates in holdout_candidates.items()})"
   ]
  },
  {
   "cell_type": "code",
   "execution_count": 45,
   "metadata": {},
   "outputs": [],
   "source": [
    "'''\n",
    "Cold holdout will split users by 9-1:\n",
    "train: random 90% of user\n",
    "test: random 10% of user\n",
    "'''\n",
    "from preprocess import move_user_data\n",
    "def recheck_exist(trainset, testset, field_name):\n",
    "        print(\"Move unseen \" + field_name + \" from test to train, this may also move users in val to train\")\n",
    "        V = {v:1 for v in trainset[field_name].unique()} # updated ids in train\n",
    "        test_user_hist = {} # {uid: [row_id]}\n",
    "        moving_user = {} # [uid], set of users to move from test/val to train\n",
    "        pos = 0\n",
    "        for u,i in zip(testset[\"UserID\"], testset[field_name]):\n",
    "            if u not in test_user_hist:\n",
    "                test_user_hist[u] = list()\n",
    "            test_user_hist[u].append(pos)\n",
    "            pos += 1\n",
    "            if i not in V:\n",
    "                moving_user[u] = 1\n",
    "        moving_user = list(moving_user.keys())\n",
    "        print(\"Test --> Train\")\n",
    "        trainset, testset = move_user_data(from_df = testset, to_df = trainset, \n",
    "                                           moving_user = moving_user, \n",
    "                                           user_hist = test_user_hist, field_name = field_name)\n",
    "        return trainset, testset\n",
    "        \n",
    "def holdout_cross_domain_cold_start(target_dir, holdout_candidates):\n",
    "    for domain,uids in holdout_candidates.items():\n",
    "        selected = {u: True for u in uids}\n",
    "        # data\n",
    "        df = pd.read_csv(target_dir + \"multicore_data/\" + domain + \".tsv\", sep = '\\t')\n",
    "        # Build user history\n",
    "        user_hist = {}\n",
    "        for pos,row in tqdm(enumerate(df.values)):\n",
    "            u, *record = row\n",
    "            if u not in user_hist:\n",
    "                user_hist[u] = list()\n",
    "            user_hist[u].append(pos)\n",
    "        # holdout cold-start\n",
    "        print(\"Holdout cold-start user histories\")\n",
    "        test_indices = df[\"UserID\"]==-1\n",
    "        for u,H in tqdm(user_hist.items()):\n",
    "            if u in selected:\n",
    "                test_indices.iloc[H] = True\n",
    "        testset = df[test_indices]\n",
    "        trainset = df[~test_indices]\n",
    "        # recheck exist\n",
    "        trainset = trainset.reset_index(drop = True)\n",
    "        testset = testset.reset_index(drop = True)\n",
    "        trainset, testset = recheck_exist(trainset, testset, field_name = \"ItemID\")\n",
    "        # save data\n",
    "        trainset.to_csv(target_dir + \"tsv_data/\" + domain + \"_local.tsv\", sep = '\\t', index = False)\n",
    "        testset.to_csv(target_dir + \"tsv_data/\" + domain + \"_test_cold.tsv\", sep = '\\t', index = False)\n",
    "        "
   ]
  },
  {
   "cell_type": "code",
   "execution_count": 46,
   "metadata": {
    "scrolled": true
   },
   "outputs": [
    {
     "name": "stderr",
     "output_type": "stream",
     "text": [
      "6749271it [00:10, 634460.84it/s]\n"
     ]
    },
    {
     "name": "stdout",
     "output_type": "stream",
     "text": [
      "Holdout cold-start user histories\n"
     ]
    },
    {
     "name": "stderr",
     "output_type": "stream",
     "text": [
      "100%|█████████████████████████████████| 53256/53256 [00:00<00:00, 631215.04it/s]\n"
     ]
    },
    {
     "name": "stdout",
     "output_type": "stream",
     "text": [
      "Move unseen ItemID from test to train, this may also move users in val to train\n",
      "Test --> Train\n",
      "Moving user data\n",
      "Before moving: Target DataFrame: 6658965, Source Data Frame: 90306\n"
     ]
    },
    {
     "name": "stderr",
     "output_type": "stream",
     "text": [
      "100%|███████████████████████████████████████████| 7/7 [00:00<00:00, 2711.00it/s]\n",
      "100%|███████████████████████████████████████| 917/917 [00:00<00:00, 5969.19it/s]\n"
     ]
    },
    {
     "name": "stdout",
     "output_type": "stream",
     "text": [
      "\n",
      "#user moved: 7\n",
      "After moving: Target DataFrame: 6659826, Source Data Frame: 89445\n"
     ]
    },
    {
     "name": "stderr",
     "output_type": "stream",
     "text": [
      "1292049it [00:02, 579381.71it/s]\n"
     ]
    },
    {
     "name": "stdout",
     "output_type": "stream",
     "text": [
      "Holdout cold-start user histories\n"
     ]
    },
    {
     "name": "stderr",
     "output_type": "stream",
     "text": [
      "100%|█████████████████████████████████| 47758/47758 [00:00<00:00, 187098.14it/s]\n"
     ]
    },
    {
     "name": "stdout",
     "output_type": "stream",
     "text": [
      "Move unseen ItemID from test to train, this may also move users in val to train\n",
      "Test --> Train\n",
      "Moving user data\n",
      "Before moving: Target DataFrame: 1146391, Source Data Frame: 145658\n"
     ]
    },
    {
     "name": "stderr",
     "output_type": "stream",
     "text": [
      "100%|███████████████████████████████████████| 827/827 [00:00<00:00, 6584.18it/s]\n",
      "100%|█████████████████████████████████████| 3949/3949 [00:00<00:00, 6814.79it/s]\n"
     ]
    },
    {
     "name": "stdout",
     "output_type": "stream",
     "text": [
      "\n",
      "#user moved: 827\n",
      "After moving: Target DataFrame: 1179786, Source Data Frame: 112263\n"
     ]
    },
    {
     "name": "stderr",
     "output_type": "stream",
     "text": [
      "1282104it [00:02, 600257.55it/s]\n"
     ]
    },
    {
     "name": "stdout",
     "output_type": "stream",
     "text": [
      "Holdout cold-start user histories\n"
     ]
    },
    {
     "name": "stderr",
     "output_type": "stream",
     "text": [
      "100%|█████████████████████████████████| 54086/54086 [00:00<00:00, 185719.73it/s]\n"
     ]
    },
    {
     "name": "stdout",
     "output_type": "stream",
     "text": [
      "Move unseen ItemID from test to train, this may also move users in val to train\n",
      "Test --> Train\n",
      "Moving user data\n",
      "Before moving: Target DataFrame: 1116183, Source Data Frame: 165921\n"
     ]
    },
    {
     "name": "stderr",
     "output_type": "stream",
     "text": [
      "100%|█████████████████████████████████████████| 54/54 [00:00<00:00, 5935.49it/s]\n",
      "100%|█████████████████████████████████████| 5355/5355 [00:00<00:00, 6789.75it/s]\n"
     ]
    },
    {
     "name": "stdout",
     "output_type": "stream",
     "text": [
      "\n",
      "#user moved: 54\n",
      "After moving: Target DataFrame: 1119741, Source Data Frame: 162363\n"
     ]
    },
    {
     "name": "stderr",
     "output_type": "stream",
     "text": [
      "1646540it [00:02, 592307.66it/s]\n"
     ]
    },
    {
     "name": "stdout",
     "output_type": "stream",
     "text": [
      "Holdout cold-start user histories\n"
     ]
    },
    {
     "name": "stderr",
     "output_type": "stream",
     "text": [
      "100%|█████████████████████████████████| 67504/67504 [00:00<00:00, 191107.40it/s]\n"
     ]
    },
    {
     "name": "stdout",
     "output_type": "stream",
     "text": [
      "Move unseen ItemID from test to train, this may also move users in val to train\n",
      "Test --> Train\n",
      "Moving user data\n",
      "Before moving: Target DataFrame: 1485215, Source Data Frame: 161325\n"
     ]
    },
    {
     "name": "stderr",
     "output_type": "stream",
     "text": [
      "100%|█████████████████████████████████████████| 15/15 [00:00<00:00, 5481.32it/s]\n",
      "100%|█████████████████████████████████████| 6736/6736 [00:00<00:00, 6810.32it/s]\n"
     ]
    },
    {
     "name": "stdout",
     "output_type": "stream",
     "text": [
      "\n",
      "#user moved: 15\n",
      "After moving: Target DataFrame: 1485642, Source Data Frame: 160898\n"
     ]
    },
    {
     "name": "stderr",
     "output_type": "stream",
     "text": [
      "938647it [00:01, 517890.62it/s]\n"
     ]
    },
    {
     "name": "stdout",
     "output_type": "stream",
     "text": [
      "Holdout cold-start user histories\n"
     ]
    },
    {
     "name": "stderr",
     "output_type": "stream",
     "text": [
      "100%|█████████████████████████████████| 58293/58293 [00:00<00:00, 197341.93it/s]\n"
     ]
    },
    {
     "name": "stdout",
     "output_type": "stream",
     "text": [
      "Move unseen ItemID from test to train, this may also move users in val to train\n",
      "Test --> Train\n",
      "Moving user data\n",
      "Before moving: Target DataFrame: 844688, Source Data Frame: 93959\n"
     ]
    },
    {
     "name": "stderr",
     "output_type": "stream",
     "text": [
      "100%|█████████████████████████████████████████| 14/14 [00:00<00:00, 5359.64it/s]\n",
      "100%|█████████████████████████████████████| 5816/5816 [00:00<00:00, 6911.95it/s]\n"
     ]
    },
    {
     "name": "stdout",
     "output_type": "stream",
     "text": [
      "\n",
      "#user moved: 14\n",
      "After moving: Target DataFrame: 845018, Source Data Frame: 93629\n"
     ]
    },
    {
     "name": "stderr",
     "output_type": "stream",
     "text": [
      "717738it [00:01, 597243.17it/s]\n"
     ]
    },
    {
     "name": "stdout",
     "output_type": "stream",
     "text": [
      "Holdout cold-start user histories\n"
     ]
    },
    {
     "name": "stderr",
     "output_type": "stream",
     "text": [
      "100%|█████████████████████████████████| 44955/44955 [00:00<00:00, 195822.29it/s]\n"
     ]
    },
    {
     "name": "stdout",
     "output_type": "stream",
     "text": [
      "Move unseen ItemID from test to train, this may also move users in val to train\n",
      "Test --> Train\n",
      "Moving user data\n",
      "Before moving: Target DataFrame: 645113, Source Data Frame: 72625\n"
     ]
    },
    {
     "name": "stderr",
     "output_type": "stream",
     "text": [
      "100%|███████████████████████████████████████████| 3/3 [00:00<00:00, 2879.38it/s]\n",
      "100%|█████████████████████████████████████| 4493/4493 [00:00<00:00, 6896.56it/s]\n"
     ]
    },
    {
     "name": "stdout",
     "output_type": "stream",
     "text": [
      "\n",
      "#user moved: 3\n",
      "After moving: Target DataFrame: 645146, Source Data Frame: 72592\n"
     ]
    },
    {
     "name": "stderr",
     "output_type": "stream",
     "text": [
      "1505474it [00:02, 566239.84it/s]\n"
     ]
    },
    {
     "name": "stdout",
     "output_type": "stream",
     "text": [
      "Holdout cold-start user histories\n"
     ]
    },
    {
     "name": "stderr",
     "output_type": "stream",
     "text": [
      "100%|█████████████████████████████████| 44195/44195 [00:00<00:00, 242620.32it/s]\n"
     ]
    },
    {
     "name": "stdout",
     "output_type": "stream",
     "text": [
      "Move unseen ItemID from test to train, this may also move users in val to train\n",
      "Test --> Train\n",
      "Moving user data\n",
      "Before moving: Target DataFrame: 1403924, Source Data Frame: 101550\n"
     ]
    },
    {
     "name": "stderr",
     "output_type": "stream",
     "text": [
      "0it [00:00, ?it/s]\n",
      "100%|█████████████████████████████████████| 3265/3265 [00:00<00:00, 6771.31it/s]\n"
     ]
    },
    {
     "name": "stdout",
     "output_type": "stream",
     "text": [
      "\n",
      "#user moved: 0\n",
      "After moving: Target DataFrame: 1403924, Source Data Frame: 101550\n"
     ]
    },
    {
     "name": "stderr",
     "output_type": "stream",
     "text": [
      "603763it [00:00, 609978.54it/s]\n"
     ]
    },
    {
     "name": "stdout",
     "output_type": "stream",
     "text": [
      "Holdout cold-start user histories\n"
     ]
    },
    {
     "name": "stderr",
     "output_type": "stream",
     "text": [
      "100%|█████████████████████████████████| 36035/36035 [00:00<00:00, 229620.18it/s]\n"
     ]
    },
    {
     "name": "stdout",
     "output_type": "stream",
     "text": [
      "Move unseen ItemID from test to train, this may also move users in val to train\n",
      "Test --> Train\n",
      "Moving user data\n",
      "Before moving: Target DataFrame: 553010, Source Data Frame: 50753\n"
     ]
    },
    {
     "name": "stderr",
     "output_type": "stream",
     "text": [
      "100%|█████████████████████████████████████████| 12/12 [00:00<00:00, 3068.25it/s]\n",
      "100%|█████████████████████████████████████| 3015/3015 [00:00<00:00, 6918.09it/s]\n"
     ]
    },
    {
     "name": "stdout",
     "output_type": "stream",
     "text": [
      "\n",
      "#user moved: 12\n",
      "After moving: Target DataFrame: 553293, Source Data Frame: 50470\n"
     ]
    },
    {
     "name": "stderr",
     "output_type": "stream",
     "text": [
      "551799it [00:00, 602250.87it/s]\n"
     ]
    },
    {
     "name": "stdout",
     "output_type": "stream",
     "text": [
      "Holdout cold-start user histories\n"
     ]
    },
    {
     "name": "stderr",
     "output_type": "stream",
     "text": [
      "100%|█████████████████████████████████| 34992/34992 [00:00<00:00, 304083.43it/s]\n"
     ]
    },
    {
     "name": "stdout",
     "output_type": "stream",
     "text": [
      "Move unseen ItemID from test to train, this may also move users in val to train\n",
      "Test --> Train\n",
      "Moving user data\n",
      "Before moving: Target DataFrame: 520672, Source Data Frame: 31127\n"
     ]
    },
    {
     "name": "stderr",
     "output_type": "stream",
     "text": [
      "0it [00:00, ?it/s]\n",
      "100%|█████████████████████████████████████| 2187/2187 [00:00<00:00, 7022.41it/s]\n"
     ]
    },
    {
     "name": "stdout",
     "output_type": "stream",
     "text": [
      "\n",
      "#user moved: 0\n",
      "After moving: Target DataFrame: 520672, Source Data Frame: 31127\n"
     ]
    },
    {
     "name": "stderr",
     "output_type": "stream",
     "text": [
      "900183it [00:01, 602520.61it/s]\n"
     ]
    },
    {
     "name": "stdout",
     "output_type": "stream",
     "text": [
      "Holdout cold-start user histories\n"
     ]
    },
    {
     "name": "stderr",
     "output_type": "stream",
     "text": [
      "100%|█████████████████████████████████| 55296/55296 [00:00<00:00, 300425.17it/s]\n"
     ]
    },
    {
     "name": "stdout",
     "output_type": "stream",
     "text": [
      "Move unseen ItemID from test to train, this may also move users in val to train\n",
      "Test --> Train\n",
      "Moving user data\n",
      "Before moving: Target DataFrame: 849363, Source Data Frame: 50820\n"
     ]
    },
    {
     "name": "stderr",
     "output_type": "stream",
     "text": [
      "0it [00:00, ?it/s]\n",
      "100%|█████████████████████████████████████| 3354/3354 [00:00<00:00, 7054.39it/s]\n"
     ]
    },
    {
     "name": "stdout",
     "output_type": "stream",
     "text": [
      "\n",
      "#user moved: 0\n",
      "After moving: Target DataFrame: 849363, Source Data Frame: 50820\n"
     ]
    },
    {
     "name": "stderr",
     "output_type": "stream",
     "text": [
      "1280450it [00:02, 630760.00it/s]\n"
     ]
    },
    {
     "name": "stdout",
     "output_type": "stream",
     "text": [
      "Holdout cold-start user histories\n"
     ]
    },
    {
     "name": "stderr",
     "output_type": "stream",
     "text": [
      "100%|█████████████████████████████████| 30136/30136 [00:00<00:00, 148064.49it/s]\n"
     ]
    },
    {
     "name": "stdout",
     "output_type": "stream",
     "text": [
      "Move unseen ItemID from test to train, this may also move users in val to train\n",
      "Test --> Train\n",
      "Moving user data\n",
      "Before moving: Target DataFrame: 1041559, Source Data Frame: 238891\n"
     ]
    },
    {
     "name": "stderr",
     "output_type": "stream",
     "text": [
      "100%|███████████████████████████████████████| 418/418 [00:00<00:00, 5964.59it/s]\n",
      "100%|█████████████████████████████████████| 2596/2596 [00:00<00:00, 6213.15it/s]\n"
     ]
    },
    {
     "name": "stdout",
     "output_type": "stream",
     "text": [
      "\n",
      "#user moved: 418\n",
      "After moving: Target DataFrame: 1079669, Source Data Frame: 200781\n"
     ]
    },
    {
     "name": "stderr",
     "output_type": "stream",
     "text": [
      "197002it [00:00, 399034.67it/s]\n"
     ]
    },
    {
     "name": "stdout",
     "output_type": "stream",
     "text": [
      "Holdout cold-start user histories\n"
     ]
    },
    {
     "name": "stderr",
     "output_type": "stream",
     "text": [
      "100%|█████████████████████████████████| 12611/12611 [00:00<00:00, 196607.76it/s]\n"
     ]
    },
    {
     "name": "stdout",
     "output_type": "stream",
     "text": [
      "Move unseen ItemID from test to train, this may also move users in val to train\n",
      "Test --> Train\n",
      "Moving user data\n",
      "Before moving: Target DataFrame: 178079, Source Data Frame: 18923\n"
     ]
    },
    {
     "name": "stderr",
     "output_type": "stream",
     "text": [
      "0it [00:00, ?it/s]\n",
      "100%|█████████████████████████████████████| 1262/1262 [00:00<00:00, 7073.26it/s]"
     ]
    },
    {
     "name": "stdout",
     "output_type": "stream",
     "text": [
      "\n",
      "#user moved: 0\n",
      "After moving: Target DataFrame: 178079, Source Data Frame: 18923\n"
     ]
    },
    {
     "name": "stderr",
     "output_type": "stream",
     "text": [
      "\n",
      "147256it [00:00, 663969.55it/s]\n"
     ]
    },
    {
     "name": "stdout",
     "output_type": "stream",
     "text": [
      "Holdout cold-start user histories\n"
     ]
    },
    {
     "name": "stderr",
     "output_type": "stream",
     "text": [
      "100%|█████████████████████████████████| 10053/10053 [00:00<00:00, 194760.87it/s]\n"
     ]
    },
    {
     "name": "stdout",
     "output_type": "stream",
     "text": [
      "Move unseen ItemID from test to train, this may also move users in val to train\n",
      "Test --> Train\n",
      "Moving user data\n",
      "Before moving: Target DataFrame: 133714, Source Data Frame: 13542\n"
     ]
    },
    {
     "name": "stderr",
     "output_type": "stream",
     "text": [
      "0it [00:00, ?it/s]\n",
      "100%|█████████████████████████████████████| 1006/1006 [00:00<00:00, 7039.01it/s]\n"
     ]
    },
    {
     "name": "stdout",
     "output_type": "stream",
     "text": [
      "\n",
      "#user moved: 0\n",
      "After moving: Target DataFrame: 133714, Source Data Frame: 13542\n"
     ]
    },
    {
     "name": "stderr",
     "output_type": "stream",
     "text": [
      "434192it [00:00, 631858.11it/s]\n"
     ]
    },
    {
     "name": "stdout",
     "output_type": "stream",
     "text": [
      "Holdout cold-start user histories\n"
     ]
    },
    {
     "name": "stderr",
     "output_type": "stream",
     "text": [
      "100%|█████████████████████████████████| 25057/25057 [00:00<00:00, 208186.43it/s]\n"
     ]
    },
    {
     "name": "stdout",
     "output_type": "stream",
     "text": [
      "Move unseen ItemID from test to train, this may also move users in val to train\n",
      "Test --> Train\n",
      "Moving user data\n",
      "Before moving: Target DataFrame: 399579, Source Data Frame: 34613\n"
     ]
    },
    {
     "name": "stderr",
     "output_type": "stream",
     "text": [
      "100%|███████████████████████████████████████████| 3/3 [00:00<00:00, 4052.47it/s]\n",
      "100%|█████████████████████████████████████| 2334/2334 [00:00<00:00, 7036.19it/s]\n"
     ]
    },
    {
     "name": "stdout",
     "output_type": "stream",
     "text": [
      "\n",
      "#user moved: 3\n",
      "After moving: Target DataFrame: 399664, Source Data Frame: 34528\n"
     ]
    },
    {
     "name": "stderr",
     "output_type": "stream",
     "text": [
      "718238it [00:01, 653608.53it/s]\n"
     ]
    },
    {
     "name": "stdout",
     "output_type": "stream",
     "text": [
      "Holdout cold-start user histories\n"
     ]
    },
    {
     "name": "stderr",
     "output_type": "stream",
     "text": [
      "100%|█████████████████████████████████| 28368/28368 [00:00<00:00, 274507.76it/s]\n"
     ]
    },
    {
     "name": "stdout",
     "output_type": "stream",
     "text": [
      "Move unseen ItemID from test to train, this may also move users in val to train\n",
      "Test --> Train\n",
      "Moving user data\n",
      "Before moving: Target DataFrame: 677179, Source Data Frame: 41059\n"
     ]
    },
    {
     "name": "stderr",
     "output_type": "stream",
     "text": [
      "0it [00:00, ?it/s]\n",
      "100%|█████████████████████████████████████| 1896/1896 [00:00<00:00, 6972.51it/s]\n"
     ]
    },
    {
     "name": "stdout",
     "output_type": "stream",
     "text": [
      "\n",
      "#user moved: 0\n",
      "After moving: Target DataFrame: 677179, Source Data Frame: 41059\n"
     ]
    },
    {
     "name": "stderr",
     "output_type": "stream",
     "text": [
      "197074it [00:00, 636905.66it/s]\n"
     ]
    },
    {
     "name": "stdout",
     "output_type": "stream",
     "text": [
      "Holdout cold-start user histories\n"
     ]
    },
    {
     "name": "stderr",
     "output_type": "stream",
     "text": [
      "100%|█████████████████████████████████| 10923/10923 [00:00<00:00, 247865.04it/s]\n"
     ]
    },
    {
     "name": "stdout",
     "output_type": "stream",
     "text": [
      "Move unseen ItemID from test to train, this may also move users in val to train\n",
      "Test --> Train\n",
      "Moving user data\n",
      "Before moving: Target DataFrame: 183227, Source Data Frame: 13847\n"
     ]
    },
    {
     "name": "stderr",
     "output_type": "stream",
     "text": [
      "0it [00:00, ?it/s]\n",
      "100%|███████████████████████████████████████| 829/829 [00:00<00:00, 6925.87it/s]\n"
     ]
    },
    {
     "name": "stdout",
     "output_type": "stream",
     "text": [
      "\n",
      "#user moved: 0\n",
      "After moving: Target DataFrame: 183227, Source Data Frame: 13847\n"
     ]
    }
   ],
   "source": [
    "setup_path(target_path + \"tsv_data/\", is_dir = True)\n",
    "holdout_cross_domain_cold_start(target_path, holdout_candidates)"
   ]
  },
  {
   "cell_type": "markdown",
   "metadata": {},
   "source": [
    "### 4. Holdout Each Domain\n",
    "\n",
    "Warm or leave-one-out\n",
    "\n",
    "**Note**: Run the first cell before running this section."
   ]
  },
  {
   "cell_type": "code",
   "execution_count": 47,
   "metadata": {},
   "outputs": [],
   "source": [
    "from preprocess import holdout_data_sequential, recheck_exist\n",
    "import pandas as pd\n",
    "\n",
    "def holdout_single_domain_data(target_dir, domains, holdout_type = 'leave_one_out'):\n",
    "    for domain in domains:\n",
    "        # data\n",
    "        df = pd.read_csv(target_dir + \"tsv_data/\" + domain + \"_local.tsv\", sep = '\\t')\n",
    "        # holdout\n",
    "        df = df.sort_values(by=['UserID','Timestamp'])\n",
    "        trainset, valset, testset = holdout_data_sequential(df, holdout_type)\n",
    "        trainset = trainset.reset_index(drop = True)\n",
    "        valset = valset.reset_index(drop = True)\n",
    "        testset = testset.reset_index(drop = True)\n",
    "        trainset, valset, testset = recheck_exist(trainset, valset, testset, field_name = \"ItemID\")\n",
    "        # save\n",
    "        trainset.to_csv(target_dir + \"tsv_data/\" + domain + \"_train.tsv\", sep = '\\t', index = False)\n",
    "        valset.to_csv(target_dir + \"tsv_data/\" + domain + \"_val.tsv\", sep = '\\t', index = False)\n",
    "        testset.to_csv(target_dir + \"tsv_data/\" + domain + \"_test.tsv\", sep = '\\t', index = False)\n",
    "        print(\"#User: \", len(trainset[\"UserID\"].unique()), len(valset[\"UserID\"].unique()), len(testset[\"UserID\"].unique()))\n",
    "        print(\"#Item: \", len(trainset[\"ItemID\"].unique()), len(valset[\"ItemID\"].unique()), len(testset[\"ItemID\"].unique()))\n",
    "        print(\"#Record: \", len(trainset), len(valset), len(testset))"
   ]
  },
  {
   "cell_type": "code",
   "execution_count": 48,
   "metadata": {
    "scrolled": true
   },
   "outputs": [
    {
     "name": "stdout",
     "output_type": "stream",
     "text": [
      "Build user history\n"
     ]
    },
    {
     "name": "stderr",
     "output_type": "stream",
     "text": [
      "6659826it [00:09, 698601.30it/s]\n"
     ]
    },
    {
     "name": "stdout",
     "output_type": "stream",
     "text": [
      "Holdout user histories\n"
     ]
    },
    {
     "name": "stderr",
     "output_type": "stream",
     "text": [
      "100%|██████████████████████████████████| 52339/52339 [00:04<00:00, 11479.76it/s]\n"
     ]
    },
    {
     "name": "stdout",
     "output_type": "stream",
     "text": [
      "Move unseen ItemID from val to train\n",
      "Moving user data\n",
      "Before moving: Target DataFrame: 6555148, Source Data Frame: 52339\n"
     ]
    },
    {
     "name": "stderr",
     "output_type": "stream",
     "text": [
      "100%|███████████████████████████████████████| 139/139 [00:00<00:00, 6956.06it/s]\n",
      "100%|███████████████████████████████████| 52200/52200 [00:07<00:00, 7135.96it/s]\n"
     ]
    },
    {
     "name": "stdout",
     "output_type": "stream",
     "text": [
      "\n",
      "#user moved: 139\n",
      "After moving: Target DataFrame: 6555287, Source Data Frame: 52200\n",
      "Move unseen ItemID from test to train, this may also move users in val to train\n",
      "Val --> Train\n",
      "Moving user data\n",
      "Before moving: Target DataFrame: 6555287, Source Data Frame: 52200\n"
     ]
    },
    {
     "name": "stderr",
     "output_type": "stream",
     "text": [
      "100%|███████████████████████████████████████| 390/390 [00:00<00:00, 9030.91it/s]\n",
      "100%|███████████████████████████████████| 51840/51840 [00:06<00:00, 8274.96it/s]\n"
     ]
    },
    {
     "name": "stdout",
     "output_type": "stream",
     "text": [
      "\n",
      "#user moved: 390\n",
      "After moving: Target DataFrame: 6555647, Source Data Frame: 51840\n",
      "Test --> Train\n",
      "Moving user data\n",
      "Before moving: Target DataFrame: 6555647, Source Data Frame: 52339\n"
     ]
    },
    {
     "name": "stderr",
     "output_type": "stream",
     "text": [
      "100%|███████████████████████████████████████| 390/390 [00:00<00:00, 7245.94it/s]\n",
      "100%|███████████████████████████████████| 51949/51949 [00:07<00:00, 7262.10it/s]\n"
     ]
    },
    {
     "name": "stdout",
     "output_type": "stream",
     "text": [
      "\n",
      "#user moved: 390\n",
      "After moving: Target DataFrame: 6556037, Source Data Frame: 51949\n",
      "#User:  52339 51840 51949\n",
      "#Item:  252713 32137 29415\n",
      "#Record:  6556037 51840 51949\n",
      "Build user history\n"
     ]
    },
    {
     "name": "stderr",
     "output_type": "stream",
     "text": [
      "1179786it [00:01, 709391.52it/s]\n"
     ]
    },
    {
     "name": "stdout",
     "output_type": "stream",
     "text": [
      "Holdout user histories\n"
     ]
    },
    {
     "name": "stderr",
     "output_type": "stream",
     "text": [
      "100%|██████████████████████████████████| 43809/43809 [00:03<00:00, 11473.45it/s]\n"
     ]
    },
    {
     "name": "stdout",
     "output_type": "stream",
     "text": [
      "Move unseen ItemID from val to train\n",
      "Moving user data\n",
      "Before moving: Target DataFrame: 1092168, Source Data Frame: 43809\n"
     ]
    },
    {
     "name": "stderr",
     "output_type": "stream",
     "text": [
      "100%|█████████████████████████████████████████| 65/65 [00:00<00:00, 6790.62it/s]\n",
      "100%|███████████████████████████████████| 43744/43744 [00:06<00:00, 7223.28it/s]\n"
     ]
    },
    {
     "name": "stdout",
     "output_type": "stream",
     "text": [
      "\n",
      "#user moved: 65\n",
      "After moving: Target DataFrame: 1092233, Source Data Frame: 43744\n",
      "Move unseen ItemID from test to train, this may also move users in val to train\n",
      "Val --> Train\n",
      "Moving user data\n",
      "Before moving: Target DataFrame: 1092233, Source Data Frame: 43744\n"
     ]
    },
    {
     "name": "stderr",
     "output_type": "stream",
     "text": [
      "100%|█████████████████████████████████████████| 27/27 [00:00<00:00, 7824.65it/s]\n",
      "100%|███████████████████████████████████| 43721/43721 [00:05<00:00, 8382.50it/s]\n"
     ]
    },
    {
     "name": "stdout",
     "output_type": "stream",
     "text": [
      "\n",
      "#user moved: 27\n",
      "After moving: Target DataFrame: 1092256, Source Data Frame: 43721\n",
      "Test --> Train\n",
      "Moving user data\n",
      "Before moving: Target DataFrame: 1092256, Source Data Frame: 43809\n"
     ]
    },
    {
     "name": "stderr",
     "output_type": "stream",
     "text": [
      "100%|█████████████████████████████████████████| 27/27 [00:00<00:00, 6078.70it/s]\n",
      "100%|███████████████████████████████████| 43782/43782 [00:06<00:00, 7232.65it/s]\n"
     ]
    },
    {
     "name": "stdout",
     "output_type": "stream",
     "text": [
      "\n",
      "#user moved: 27\n",
      "After moving: Target DataFrame: 1092283, Source Data Frame: 43782\n",
      "#User:  43809 43721 43782\n",
      "#Item:  64443 20569 20812\n",
      "#Record:  1092283 43721 43782\n",
      "Build user history\n"
     ]
    },
    {
     "name": "stderr",
     "output_type": "stream",
     "text": [
      "1119741it [00:01, 703742.21it/s]\n"
     ]
    },
    {
     "name": "stdout",
     "output_type": "stream",
     "text": [
      "Holdout user histories\n"
     ]
    },
    {
     "name": "stderr",
     "output_type": "stream",
     "text": [
      "100%|██████████████████████████████████| 48731/48731 [00:04<00:00, 11389.80it/s]\n"
     ]
    },
    {
     "name": "stdout",
     "output_type": "stream",
     "text": [
      "Move unseen ItemID from val to train\n",
      "Moving user data\n",
      "Before moving: Target DataFrame: 1022279, Source Data Frame: 48731\n"
     ]
    },
    {
     "name": "stderr",
     "output_type": "stream",
     "text": [
      "100%|█████████████████████████████████████████| 58/58 [00:00<00:00, 6335.15it/s]\n",
      "100%|███████████████████████████████████| 48673/48673 [00:06<00:00, 7184.94it/s]\n"
     ]
    },
    {
     "name": "stdout",
     "output_type": "stream",
     "text": [
      "\n",
      "#user moved: 58\n",
      "After moving: Target DataFrame: 1022337, Source Data Frame: 48673\n",
      "Move unseen ItemID from test to train, this may also move users in val to train\n",
      "Val --> Train\n",
      "Moving user data\n",
      "Before moving: Target DataFrame: 1022337, Source Data Frame: 48673\n"
     ]
    },
    {
     "name": "stderr",
     "output_type": "stream",
     "text": [
      "100%|█████████████████████████████████████████| 25/25 [00:00<00:00, 6636.56it/s]\n",
      "100%|███████████████████████████████████| 48648/48648 [00:05<00:00, 8331.41it/s]\n"
     ]
    },
    {
     "name": "stdout",
     "output_type": "stream",
     "text": [
      "\n",
      "#user moved: 25\n",
      "After moving: Target DataFrame: 1022362, Source Data Frame: 48648\n",
      "Test --> Train\n",
      "Moving user data\n",
      "Before moving: Target DataFrame: 1022362, Source Data Frame: 48731\n"
     ]
    },
    {
     "name": "stderr",
     "output_type": "stream",
     "text": [
      "100%|█████████████████████████████████████████| 25/25 [00:00<00:00, 6392.20it/s]\n",
      "100%|███████████████████████████████████| 48706/48706 [00:06<00:00, 7168.16it/s]\n"
     ]
    },
    {
     "name": "stdout",
     "output_type": "stream",
     "text": [
      "\n",
      "#user moved: 25\n",
      "After moving: Target DataFrame: 1022387, Source Data Frame: 48706\n",
      "#User:  48731 48648 48706\n",
      "#Item:  61006 23741 23283\n",
      "#Record:  1022387 48648 48706\n",
      "Build user history\n"
     ]
    },
    {
     "name": "stderr",
     "output_type": "stream",
     "text": [
      "1485642it [00:02, 697511.95it/s]\n"
     ]
    },
    {
     "name": "stdout",
     "output_type": "stream",
     "text": [
      "Holdout user histories\n"
     ]
    },
    {
     "name": "stderr",
     "output_type": "stream",
     "text": [
      "100%|██████████████████████████████████| 60768/60768 [00:05<00:00, 11487.60it/s]\n"
     ]
    },
    {
     "name": "stdout",
     "output_type": "stream",
     "text": [
      "Move unseen ItemID from val to train\n",
      "Moving user data\n",
      "Before moving: Target DataFrame: 1364106, Source Data Frame: 60768\n"
     ]
    },
    {
     "name": "stderr",
     "output_type": "stream",
     "text": [
      "100%|█████████████████████████████████████████| 56/56 [00:00<00:00, 6788.86it/s]\n",
      "100%|███████████████████████████████████| 60712/60712 [00:08<00:00, 7224.75it/s]\n"
     ]
    },
    {
     "name": "stdout",
     "output_type": "stream",
     "text": [
      "\n",
      "#user moved: 56\n",
      "After moving: Target DataFrame: 1364162, Source Data Frame: 60712\n",
      "Move unseen ItemID from test to train, this may also move users in val to train\n",
      "Val --> Train\n",
      "Moving user data\n",
      "Before moving: Target DataFrame: 1364162, Source Data Frame: 60712\n"
     ]
    },
    {
     "name": "stderr",
     "output_type": "stream",
     "text": [
      "100%|█████████████████████████████████████████| 32/32 [00:00<00:00, 7136.96it/s]\n",
      "100%|███████████████████████████████████| 60681/60681 [00:07<00:00, 8343.53it/s]\n"
     ]
    },
    {
     "name": "stdout",
     "output_type": "stream",
     "text": [
      "\n",
      "#user moved: 32\n",
      "After moving: Target DataFrame: 1364193, Source Data Frame: 60681\n",
      "Test --> Train\n",
      "Moving user data\n",
      "Before moving: Target DataFrame: 1364193, Source Data Frame: 60768\n"
     ]
    },
    {
     "name": "stderr",
     "output_type": "stream",
     "text": [
      "100%|█████████████████████████████████████████| 32/32 [00:00<00:00, 5295.21it/s]\n",
      "100%|███████████████████████████████████| 60736/60736 [00:08<00:00, 7255.20it/s]\n"
     ]
    },
    {
     "name": "stdout",
     "output_type": "stream",
     "text": [
      "\n",
      "#user moved: 32\n",
      "After moving: Target DataFrame: 1364225, Source Data Frame: 60736\n",
      "#User:  60768 60681 60736\n",
      "#Item:  65836 25094 24627\n",
      "#Record:  1364225 60681 60736\n",
      "Build user history\n"
     ]
    },
    {
     "name": "stderr",
     "output_type": "stream",
     "text": [
      "845018it [00:01, 687680.58it/s]\n"
     ]
    },
    {
     "name": "stdout",
     "output_type": "stream",
     "text": [
      "Holdout user histories\n"
     ]
    },
    {
     "name": "stderr",
     "output_type": "stream",
     "text": [
      "100%|██████████████████████████████████| 52477/52477 [00:04<00:00, 11443.03it/s]\n"
     ]
    },
    {
     "name": "stdout",
     "output_type": "stream",
     "text": [
      "Move unseen ItemID from val to train\n",
      "Moving user data\n",
      "Before moving: Target DataFrame: 740064, Source Data Frame: 52477\n"
     ]
    },
    {
     "name": "stderr",
     "output_type": "stream",
     "text": [
      "100%|█████████████████████████████████████████| 98/98 [00:00<00:00, 7026.84it/s]\n",
      "100%|███████████████████████████████████| 52379/52379 [00:07<00:00, 7232.97it/s]\n"
     ]
    },
    {
     "name": "stdout",
     "output_type": "stream",
     "text": [
      "\n",
      "#user moved: 98\n",
      "After moving: Target DataFrame: 740162, Source Data Frame: 52379\n",
      "Move unseen ItemID from test to train, this may also move users in val to train\n",
      "Val --> Train\n",
      "Moving user data\n",
      "Before moving: Target DataFrame: 740162, Source Data Frame: 52379\n"
     ]
    },
    {
     "name": "stderr",
     "output_type": "stream",
     "text": [
      "100%|█████████████████████████████████████████| 80/80 [00:00<00:00, 7858.00it/s]\n",
      "100%|███████████████████████████████████| 52300/52300 [00:06<00:00, 8218.83it/s]\n"
     ]
    },
    {
     "name": "stdout",
     "output_type": "stream",
     "text": [
      "\n",
      "#user moved: 80\n",
      "After moving: Target DataFrame: 740241, Source Data Frame: 52300\n",
      "Test --> Train\n",
      "Moving user data\n",
      "Before moving: Target DataFrame: 740241, Source Data Frame: 52477\n"
     ]
    },
    {
     "name": "stderr",
     "output_type": "stream",
     "text": [
      "100%|█████████████████████████████████████████| 80/80 [00:00<00:00, 6668.87it/s]\n",
      "100%|███████████████████████████████████| 52397/52397 [00:07<00:00, 7151.71it/s]\n"
     ]
    },
    {
     "name": "stdout",
     "output_type": "stream",
     "text": [
      "\n",
      "#user moved: 80\n",
      "After moving: Target DataFrame: 740321, Source Data Frame: 52397\n",
      "#User:  52477 52300 52397\n",
      "#Item:  47109 23926 24135\n",
      "#Record:  740321 52300 52397\n",
      "Build user history\n"
     ]
    },
    {
     "name": "stderr",
     "output_type": "stream",
     "text": [
      "645146it [00:01, 596361.90it/s]\n"
     ]
    },
    {
     "name": "stdout",
     "output_type": "stream",
     "text": [
      "Holdout user histories\n"
     ]
    },
    {
     "name": "stderr",
     "output_type": "stream",
     "text": [
      "100%|██████████████████████████████████| 40462/40462 [00:03<00:00, 11409.09it/s]\n"
     ]
    },
    {
     "name": "stdout",
     "output_type": "stream",
     "text": [
      "Move unseen ItemID from val to train\n",
      "Moving user data\n",
      "Before moving: Target DataFrame: 564222, Source Data Frame: 40462\n"
     ]
    },
    {
     "name": "stderr",
     "output_type": "stream",
     "text": [
      "100%|█████████████████████████████████████████| 62/62 [00:00<00:00, 6776.29it/s]\n",
      "100%|███████████████████████████████████| 40400/40400 [00:05<00:00, 7122.32it/s]\n"
     ]
    },
    {
     "name": "stdout",
     "output_type": "stream",
     "text": [
      "\n",
      "#user moved: 62\n",
      "After moving: Target DataFrame: 564284, Source Data Frame: 40400\n",
      "Move unseen ItemID from test to train, this may also move users in val to train\n",
      "Val --> Train\n",
      "Moving user data\n",
      "Before moving: Target DataFrame: 564284, Source Data Frame: 40400\n"
     ]
    },
    {
     "name": "stderr",
     "output_type": "stream",
     "text": [
      "100%|█████████████████████████████████████████| 33/33 [00:00<00:00, 7308.69it/s]\n",
      "100%|███████████████████████████████████| 40369/40369 [00:04<00:00, 8300.34it/s]\n"
     ]
    },
    {
     "name": "stdout",
     "output_type": "stream",
     "text": [
      "\n",
      "#user moved: 33\n",
      "After moving: Target DataFrame: 564315, Source Data Frame: 40369\n",
      "Test --> Train\n",
      "Moving user data\n",
      "Before moving: Target DataFrame: 564315, Source Data Frame: 40462\n"
     ]
    },
    {
     "name": "stderr",
     "output_type": "stream",
     "text": [
      "100%|█████████████████████████████████████████| 33/33 [00:00<00:00, 6591.36it/s]\n",
      "100%|███████████████████████████████████| 40429/40429 [00:05<00:00, 7193.30it/s]\n"
     ]
    },
    {
     "name": "stdout",
     "output_type": "stream",
     "text": [
      "\n",
      "#user moved: 33\n",
      "After moving: Target DataFrame: 564348, Source Data Frame: 40429\n",
      "#User:  40462 40369 40429\n",
      "#Item:  36456 18165 18306\n",
      "#Record:  564348 40369 40429\n",
      "Build user history\n"
     ]
    },
    {
     "name": "stderr",
     "output_type": "stream",
     "text": [
      "1403924it [00:02, 651197.72it/s]\n"
     ]
    },
    {
     "name": "stdout",
     "output_type": "stream",
     "text": [
      "Holdout user histories\n"
     ]
    },
    {
     "name": "stderr",
     "output_type": "stream",
     "text": [
      "100%|██████████████████████████████████| 40930/40930 [00:03<00:00, 11442.48it/s]\n"
     ]
    },
    {
     "name": "stdout",
     "output_type": "stream",
     "text": [
      "Move unseen ItemID from val to train\n",
      "Moving user data\n",
      "Before moving: Target DataFrame: 1322064, Source Data Frame: 40930\n"
     ]
    },
    {
     "name": "stderr",
     "output_type": "stream",
     "text": [
      "100%|███████████████████████████████████████████| 7/7 [00:00<00:00, 5336.26it/s]\n",
      "100%|███████████████████████████████████| 40923/40923 [00:05<00:00, 7256.61it/s]\n"
     ]
    },
    {
     "name": "stdout",
     "output_type": "stream",
     "text": [
      "\n",
      "#user moved: 7\n",
      "After moving: Target DataFrame: 1322071, Source Data Frame: 40923\n",
      "Move unseen ItemID from test to train, this may also move users in val to train\n",
      "Val --> Train\n",
      "Moving user data\n",
      "Before moving: Target DataFrame: 1322071, Source Data Frame: 40923\n"
     ]
    },
    {
     "name": "stderr",
     "output_type": "stream",
     "text": [
      "100%|███████████████████████████████████████████| 2/2 [00:00<00:00, 1657.17it/s]\n",
      "100%|███████████████████████████████████| 40921/40921 [00:04<00:00, 8326.85it/s]\n"
     ]
    },
    {
     "name": "stdout",
     "output_type": "stream",
     "text": [
      "\n",
      "#user moved: 2\n",
      "After moving: Target DataFrame: 1322073, Source Data Frame: 40921\n",
      "Test --> Train\n",
      "Moving user data\n",
      "Before moving: Target DataFrame: 1322073, Source Data Frame: 40930\n"
     ]
    },
    {
     "name": "stderr",
     "output_type": "stream",
     "text": [
      "100%|███████████████████████████████████████████| 2/2 [00:00<00:00, 2108.22it/s]\n",
      "100%|███████████████████████████████████| 40928/40928 [00:05<00:00, 7219.03it/s]\n"
     ]
    },
    {
     "name": "stdout",
     "output_type": "stream",
     "text": [
      "\n",
      "#user moved: 2\n",
      "After moving: Target DataFrame: 1322075, Source Data Frame: 40928\n",
      "#User:  40930 40921 40928\n",
      "#Item:  43011 17103 17347\n",
      "#Record:  1322075 40921 40928\n",
      "Build user history\n"
     ]
    },
    {
     "name": "stderr",
     "output_type": "stream",
     "text": [
      "553293it [00:00, 707894.88it/s]\n"
     ]
    },
    {
     "name": "stdout",
     "output_type": "stream",
     "text": [
      "Holdout user histories\n"
     ]
    },
    {
     "name": "stderr",
     "output_type": "stream",
     "text": [
      "100%|██████████████████████████████████| 33020/33020 [00:02<00:00, 11416.97it/s]\n"
     ]
    },
    {
     "name": "stdout",
     "output_type": "stream",
     "text": [
      "Move unseen ItemID from val to train\n",
      "Moving user data\n",
      "Before moving: Target DataFrame: 487253, Source Data Frame: 33020\n"
     ]
    },
    {
     "name": "stderr",
     "output_type": "stream",
     "text": [
      "100%|█████████████████████████████████████████| 28/28 [00:00<00:00, 3310.79it/s]\n",
      "100%|███████████████████████████████████| 32992/32992 [00:04<00:00, 7154.34it/s]\n"
     ]
    },
    {
     "name": "stdout",
     "output_type": "stream",
     "text": [
      "\n",
      "#user moved: 28\n",
      "After moving: Target DataFrame: 487281, Source Data Frame: 32992\n",
      "Move unseen ItemID from test to train, this may also move users in val to train\n",
      "Val --> Train\n",
      "Moving user data\n",
      "Before moving: Target DataFrame: 487281, Source Data Frame: 32992\n"
     ]
    },
    {
     "name": "stderr",
     "output_type": "stream",
     "text": [
      "100%|█████████████████████████████████████████| 28/28 [00:00<00:00, 7228.00it/s]\n",
      "100%|███████████████████████████████████| 32964/32964 [00:03<00:00, 8337.05it/s]\n"
     ]
    },
    {
     "name": "stdout",
     "output_type": "stream",
     "text": [
      "\n",
      "#user moved: 28\n",
      "After moving: Target DataFrame: 487309, Source Data Frame: 32964\n",
      "Test --> Train\n",
      "Moving user data\n",
      "Before moving: Target DataFrame: 487309, Source Data Frame: 33020\n"
     ]
    },
    {
     "name": "stderr",
     "output_type": "stream",
     "text": [
      "100%|█████████████████████████████████████████| 28/28 [00:00<00:00, 6489.50it/s]\n",
      "100%|███████████████████████████████████| 32992/32992 [00:04<00:00, 7227.43it/s]\n"
     ]
    },
    {
     "name": "stdout",
     "output_type": "stream",
     "text": [
      "\n",
      "#user moved: 28\n",
      "After moving: Target DataFrame: 487337, Source Data Frame: 32992\n",
      "#User:  33020 32964 32992\n",
      "#Item:  35594 17373 17222\n",
      "#Record:  487337 32964 32992\n",
      "Build user history\n"
     ]
    },
    {
     "name": "stderr",
     "output_type": "stream",
     "text": [
      "520672it [00:00, 710549.21it/s]\n"
     ]
    },
    {
     "name": "stdout",
     "output_type": "stream",
     "text": [
      "Holdout user histories\n"
     ]
    },
    {
     "name": "stderr",
     "output_type": "stream",
     "text": [
      "100%|██████████████████████████████████| 32805/32805 [00:02<00:00, 11465.46it/s]\n"
     ]
    },
    {
     "name": "stdout",
     "output_type": "stream",
     "text": [
      "Move unseen ItemID from val to train\n",
      "Moving user data\n",
      "Before moving: Target DataFrame: 455062, Source Data Frame: 32805\n"
     ]
    },
    {
     "name": "stderr",
     "output_type": "stream",
     "text": [
      "100%|█████████████████████████████████████████| 43/43 [00:00<00:00, 6007.03it/s]\n",
      "100%|███████████████████████████████████| 32762/32762 [00:04<00:00, 7204.84it/s]\n"
     ]
    },
    {
     "name": "stdout",
     "output_type": "stream",
     "text": [
      "\n",
      "#user moved: 43\n",
      "After moving: Target DataFrame: 455105, Source Data Frame: 32762\n",
      "Move unseen ItemID from test to train, this may also move users in val to train\n",
      "Val --> Train\n",
      "Moving user data\n",
      "Before moving: Target DataFrame: 455105, Source Data Frame: 32762\n"
     ]
    },
    {
     "name": "stderr",
     "output_type": "stream",
     "text": [
      "100%|█████████████████████████████████████████| 15/15 [00:00<00:00, 6101.10it/s]\n",
      "100%|███████████████████████████████████| 32747/32747 [00:03<00:00, 8262.14it/s]\n"
     ]
    },
    {
     "name": "stdout",
     "output_type": "stream",
     "text": [
      "\n",
      "#user moved: 15\n",
      "After moving: Target DataFrame: 455120, Source Data Frame: 32747\n",
      "Test --> Train\n",
      "Moving user data\n",
      "Before moving: Target DataFrame: 455120, Source Data Frame: 32805\n"
     ]
    },
    {
     "name": "stderr",
     "output_type": "stream",
     "text": [
      "100%|█████████████████████████████████████████| 15/15 [00:00<00:00, 5385.60it/s]\n",
      "100%|███████████████████████████████████| 32790/32790 [00:04<00:00, 7128.86it/s]\n"
     ]
    },
    {
     "name": "stdout",
     "output_type": "stream",
     "text": [
      "\n",
      "#user moved: 15\n",
      "After moving: Target DataFrame: 455135, Source Data Frame: 32790\n",
      "#User:  32805 32747 32790\n",
      "#Item:  32245 16226 16536\n",
      "#Record:  455135 32747 32790\n",
      "Build user history\n"
     ]
    },
    {
     "name": "stderr",
     "output_type": "stream",
     "text": [
      "849363it [00:01, 619756.36it/s]\n"
     ]
    },
    {
     "name": "stdout",
     "output_type": "stream",
     "text": [
      "Holdout user histories\n"
     ]
    },
    {
     "name": "stderr",
     "output_type": "stream",
     "text": [
      "100%|██████████████████████████████████| 51942/51942 [00:04<00:00, 11501.41it/s]\n"
     ]
    },
    {
     "name": "stdout",
     "output_type": "stream",
     "text": [
      "Move unseen ItemID from val to train\n",
      "Moving user data\n",
      "Before moving: Target DataFrame: 745479, Source Data Frame: 51942\n"
     ]
    },
    {
     "name": "stderr",
     "output_type": "stream",
     "text": [
      "100%|█████████████████████████████████████████| 25/25 [00:00<00:00, 6025.61it/s]\n",
      "100%|███████████████████████████████████| 51917/51917 [00:07<00:00, 7242.98it/s]\n"
     ]
    },
    {
     "name": "stdout",
     "output_type": "stream",
     "text": [
      "\n",
      "#user moved: 25\n",
      "After moving: Target DataFrame: 745504, Source Data Frame: 51917\n",
      "Move unseen ItemID from test to train, this may also move users in val to train\n",
      "Val --> Train\n",
      "Moving user data\n",
      "Before moving: Target DataFrame: 745504, Source Data Frame: 51917\n"
     ]
    },
    {
     "name": "stderr",
     "output_type": "stream",
     "text": [
      "100%|███████████████████████████████████████████| 4/4 [00:00<00:00, 3368.24it/s]\n",
      "100%|███████████████████████████████████| 51913/51913 [00:06<00:00, 8327.51it/s]\n"
     ]
    },
    {
     "name": "stdout",
     "output_type": "stream",
     "text": [
      "\n",
      "#user moved: 4\n",
      "After moving: Target DataFrame: 745508, Source Data Frame: 51913\n",
      "Test --> Train\n",
      "Moving user data\n",
      "Before moving: Target DataFrame: 745508, Source Data Frame: 51942\n"
     ]
    },
    {
     "name": "stderr",
     "output_type": "stream",
     "text": [
      "100%|███████████████████████████████████████████| 4/4 [00:00<00:00, 3932.77it/s]\n",
      "100%|███████████████████████████████████| 51938/51938 [00:07<00:00, 7220.59it/s]\n"
     ]
    },
    {
     "name": "stdout",
     "output_type": "stream",
     "text": [
      "\n",
      "#user moved: 4\n",
      "After moving: Target DataFrame: 745512, Source Data Frame: 51938\n",
      "#User:  51942 51913 51938\n",
      "#Item:  26264 15562 15931\n",
      "#Record:  745512 51913 51938\n",
      "Build user history\n"
     ]
    },
    {
     "name": "stderr",
     "output_type": "stream",
     "text": [
      "1079669it [00:01, 714417.22it/s]\n"
     ]
    },
    {
     "name": "stdout",
     "output_type": "stream",
     "text": [
      "Holdout user histories\n"
     ]
    },
    {
     "name": "stderr",
     "output_type": "stream",
     "text": [
      "100%|██████████████████████████████████| 27540/27540 [00:02<00:00, 11464.12it/s]\n"
     ]
    },
    {
     "name": "stdout",
     "output_type": "stream",
     "text": [
      "Move unseen ItemID from val to train\n",
      "Moving user data\n",
      "Before moving: Target DataFrame: 1024589, Source Data Frame: 27540\n"
     ]
    },
    {
     "name": "stderr",
     "output_type": "stream",
     "text": [
      "100%|█████████████████████████████████████████| 31/31 [00:00<00:00, 6151.17it/s]\n",
      "100%|███████████████████████████████████| 27509/27509 [00:03<00:00, 7247.86it/s]\n"
     ]
    },
    {
     "name": "stdout",
     "output_type": "stream",
     "text": [
      "\n",
      "#user moved: 31\n",
      "After moving: Target DataFrame: 1024620, Source Data Frame: 27509\n",
      "Move unseen ItemID from test to train, this may also move users in val to train\n",
      "Val --> Train\n",
      "Moving user data\n",
      "Before moving: Target DataFrame: 1024620, Source Data Frame: 27509\n"
     ]
    },
    {
     "name": "stderr",
     "output_type": "stream",
     "text": [
      "100%|█████████████████████████████████████████| 30/30 [00:00<00:00, 7236.55it/s]\n",
      "100%|███████████████████████████████████| 27480/27480 [00:03<00:00, 8328.82it/s]\n"
     ]
    },
    {
     "name": "stdout",
     "output_type": "stream",
     "text": [
      "\n",
      "#user moved: 30\n",
      "After moving: Target DataFrame: 1024649, Source Data Frame: 27480\n",
      "Test --> Train\n",
      "Moving user data\n",
      "Before moving: Target DataFrame: 1024649, Source Data Frame: 27540\n"
     ]
    },
    {
     "name": "stderr",
     "output_type": "stream",
     "text": [
      "100%|█████████████████████████████████████████| 30/30 [00:00<00:00, 5758.51it/s]\n",
      "100%|███████████████████████████████████| 27510/27510 [00:03<00:00, 7183.50it/s]\n"
     ]
    },
    {
     "name": "stdout",
     "output_type": "stream",
     "text": [
      "\n",
      "#user moved: 30\n",
      "After moving: Target DataFrame: 1024679, Source Data Frame: 27510\n",
      "#User:  27540 27480 27510\n",
      "#Item:  66901 17298 16229\n",
      "#Record:  1024679 27480 27510\n",
      "Build user history\n"
     ]
    },
    {
     "name": "stderr",
     "output_type": "stream",
     "text": [
      "178079it [00:00, 726738.12it/s]\n"
     ]
    },
    {
     "name": "stdout",
     "output_type": "stream",
     "text": [
      "Holdout user histories\n"
     ]
    },
    {
     "name": "stderr",
     "output_type": "stream",
     "text": [
      "100%|██████████████████████████████████| 11349/11349 [00:00<00:00, 11460.49it/s]\n"
     ]
    },
    {
     "name": "stdout",
     "output_type": "stream",
     "text": [
      "Move unseen ItemID from val to train\n",
      "Moving user data\n",
      "Before moving: Target DataFrame: 155381, Source Data Frame: 11349\n"
     ]
    },
    {
     "name": "stderr",
     "output_type": "stream",
     "text": [
      "100%|█████████████████████████████████████████| 28/28 [00:00<00:00, 6066.46it/s]\n",
      "100%|███████████████████████████████████| 11321/11321 [00:01<00:00, 7253.05it/s]\n"
     ]
    },
    {
     "name": "stdout",
     "output_type": "stream",
     "text": [
      "\n",
      "#user moved: 28\n",
      "After moving: Target DataFrame: 155409, Source Data Frame: 11321\n",
      "Move unseen ItemID from test to train, this may also move users in val to train\n",
      "Val --> Train\n",
      "Moving user data\n",
      "Before moving: Target DataFrame: 155409, Source Data Frame: 11321\n"
     ]
    },
    {
     "name": "stderr",
     "output_type": "stream",
     "text": [
      "100%|█████████████████████████████████████████| 19/19 [00:00<00:00, 6870.57it/s]\n",
      "100%|███████████████████████████████████| 11302/11302 [00:01<00:00, 8345.05it/s]\n"
     ]
    },
    {
     "name": "stdout",
     "output_type": "stream",
     "text": [
      "\n",
      "#user moved: 19\n",
      "After moving: Target DataFrame: 155428, Source Data Frame: 11302\n",
      "Test --> Train\n",
      "Moving user data\n",
      "Before moving: Target DataFrame: 155428, Source Data Frame: 11349\n"
     ]
    },
    {
     "name": "stderr",
     "output_type": "stream",
     "text": [
      "100%|█████████████████████████████████████████| 19/19 [00:00<00:00, 6016.29it/s]\n",
      "100%|███████████████████████████████████| 11330/11330 [00:01<00:00, 7226.21it/s]\n"
     ]
    },
    {
     "name": "stdout",
     "output_type": "stream",
     "text": [
      "\n",
      "#user moved: 19\n",
      "After moving: Target DataFrame: 155447, Source Data Frame: 11330\n",
      "#User:  11349 11302 11330\n",
      "#Item:  9916 5083 5034\n",
      "#Record:  155447 11302 11330\n",
      "Build user history\n"
     ]
    },
    {
     "name": "stderr",
     "output_type": "stream",
     "text": [
      "133714it [00:00, 723560.03it/s]\n"
     ]
    },
    {
     "name": "stdout",
     "output_type": "stream",
     "text": [
      "Holdout user histories\n"
     ]
    },
    {
     "name": "stderr",
     "output_type": "stream",
     "text": [
      "100%|████████████████████████████████████| 9047/9047 [00:00<00:00, 11562.46it/s]\n"
     ]
    },
    {
     "name": "stdout",
     "output_type": "stream",
     "text": [
      "Move unseen ItemID from val to train\n",
      "Moving user data\n",
      "Before moving: Target DataFrame: 115620, Source Data Frame: 9047\n"
     ]
    },
    {
     "name": "stderr",
     "output_type": "stream",
     "text": [
      "100%|█████████████████████████████████████████| 26/26 [00:00<00:00, 6438.68it/s]\n",
      "100%|█████████████████████████████████████| 9021/9021 [00:01<00:00, 7215.16it/s]\n"
     ]
    },
    {
     "name": "stdout",
     "output_type": "stream",
     "text": [
      "\n",
      "#user moved: 26\n",
      "After moving: Target DataFrame: 115646, Source Data Frame: 9021\n",
      "Move unseen ItemID from test to train, this may also move users in val to train\n",
      "Val --> Train\n",
      "Moving user data\n",
      "Before moving: Target DataFrame: 115646, Source Data Frame: 9021\n"
     ]
    },
    {
     "name": "stderr",
     "output_type": "stream",
     "text": [
      "100%|█████████████████████████████████████████| 21/21 [00:00<00:00, 4417.27it/s]\n",
      "100%|█████████████████████████████████████| 9001/9001 [00:01<00:00, 8350.18it/s]\n"
     ]
    },
    {
     "name": "stdout",
     "output_type": "stream",
     "text": [
      "\n",
      "#user moved: 21\n",
      "After moving: Target DataFrame: 115666, Source Data Frame: 9001\n",
      "Test --> Train\n",
      "Moving user data\n",
      "Before moving: Target DataFrame: 115666, Source Data Frame: 9047\n"
     ]
    },
    {
     "name": "stderr",
     "output_type": "stream",
     "text": [
      "100%|█████████████████████████████████████████| 21/21 [00:00<00:00, 5183.33it/s]\n",
      "100%|█████████████████████████████████████| 9026/9026 [00:01<00:00, 7152.93it/s]\n"
     ]
    },
    {
     "name": "stdout",
     "output_type": "stream",
     "text": [
      "\n",
      "#user moved: 21\n",
      "After moving: Target DataFrame: 115687, Source Data Frame: 9026\n",
      "#User:  9047 9001 9026\n",
      "#Item:  9622 4688 4710\n",
      "#Record:  115687 9001 9026\n",
      "Build user history\n"
     ]
    },
    {
     "name": "stderr",
     "output_type": "stream",
     "text": [
      "399664it [00:00, 710620.40it/s]\n"
     ]
    },
    {
     "name": "stdout",
     "output_type": "stream",
     "text": [
      "Holdout user histories\n"
     ]
    },
    {
     "name": "stderr",
     "output_type": "stream",
     "text": [
      "100%|██████████████████████████████████| 22723/22723 [00:01<00:00, 11477.19it/s]\n"
     ]
    },
    {
     "name": "stdout",
     "output_type": "stream",
     "text": [
      "Move unseen ItemID from val to train\n",
      "Moving user data\n",
      "Before moving: Target DataFrame: 354218, Source Data Frame: 22723\n"
     ]
    },
    {
     "name": "stderr",
     "output_type": "stream",
     "text": [
      "100%|█████████████████████████████████████████| 27/27 [00:00<00:00, 6076.74it/s]\n",
      "100%|███████████████████████████████████| 22696/22696 [00:03<00:00, 7138.04it/s]\n"
     ]
    },
    {
     "name": "stdout",
     "output_type": "stream",
     "text": [
      "\n",
      "#user moved: 27\n",
      "After moving: Target DataFrame: 354245, Source Data Frame: 22696\n",
      "Move unseen ItemID from test to train, this may also move users in val to train\n",
      "Val --> Train\n",
      "Moving user data\n",
      "Before moving: Target DataFrame: 354245, Source Data Frame: 22696\n"
     ]
    },
    {
     "name": "stderr",
     "output_type": "stream",
     "text": [
      "100%|███████████████████████████████████████████| 8/8 [00:00<00:00, 4991.73it/s]\n",
      "100%|███████████████████████████████████| 22688/22688 [00:02<00:00, 8412.05it/s]\n"
     ]
    },
    {
     "name": "stdout",
     "output_type": "stream",
     "text": [
      "\n",
      "#user moved: 8\n",
      "After moving: Target DataFrame: 354253, Source Data Frame: 22688\n",
      "Test --> Train\n",
      "Moving user data\n",
      "Before moving: Target DataFrame: 354253, Source Data Frame: 22723\n"
     ]
    },
    {
     "name": "stderr",
     "output_type": "stream",
     "text": [
      "100%|███████████████████████████████████████████| 8/8 [00:00<00:00, 4441.94it/s]\n",
      "100%|███████████████████████████████████| 22715/22715 [00:03<00:00, 7273.43it/s]\n"
     ]
    },
    {
     "name": "stdout",
     "output_type": "stream",
     "text": [
      "\n",
      "#user moved: 8\n",
      "After moving: Target DataFrame: 354261, Source Data Frame: 22715\n",
      "#User:  22723 22688 22715\n",
      "#Item:  20623 9876 10029\n",
      "#Record:  354261 22688 22715\n",
      "Build user history\n"
     ]
    },
    {
     "name": "stderr",
     "output_type": "stream",
     "text": [
      "677179it [00:01, 601234.81it/s]\n"
     ]
    },
    {
     "name": "stdout",
     "output_type": "stream",
     "text": [
      "Holdout user histories\n"
     ]
    },
    {
     "name": "stderr",
     "output_type": "stream",
     "text": [
      "100%|██████████████████████████████████| 26472/26472 [00:02<00:00, 11490.02it/s]\n"
     ]
    },
    {
     "name": "stdout",
     "output_type": "stream",
     "text": [
      "Move unseen ItemID from val to train\n",
      "Moving user data\n",
      "Before moving: Target DataFrame: 624235, Source Data Frame: 26472\n"
     ]
    },
    {
     "name": "stderr",
     "output_type": "stream",
     "text": [
      "100%|█████████████████████████████████████████| 23/23 [00:00<00:00, 5753.16it/s]\n",
      "100%|███████████████████████████████████| 26449/26449 [00:03<00:00, 7190.32it/s]\n"
     ]
    },
    {
     "name": "stdout",
     "output_type": "stream",
     "text": [
      "\n",
      "#user moved: 23\n",
      "After moving: Target DataFrame: 624258, Source Data Frame: 26449\n",
      "Move unseen ItemID from test to train, this may also move users in val to train\n",
      "Val --> Train\n",
      "Moving user data\n",
      "Before moving: Target DataFrame: 624258, Source Data Frame: 26449\n"
     ]
    },
    {
     "name": "stderr",
     "output_type": "stream",
     "text": [
      "100%|███████████████████████████████████████████| 4/4 [00:00<00:00, 3128.33it/s]\n",
      "100%|███████████████████████████████████| 26445/26445 [00:03<00:00, 8327.99it/s]\n"
     ]
    },
    {
     "name": "stdout",
     "output_type": "stream",
     "text": [
      "\n",
      "#user moved: 4\n",
      "After moving: Target DataFrame: 624262, Source Data Frame: 26445\n",
      "Test --> Train\n",
      "Moving user data\n",
      "Before moving: Target DataFrame: 624262, Source Data Frame: 26472\n"
     ]
    },
    {
     "name": "stderr",
     "output_type": "stream",
     "text": [
      "100%|███████████████████████████████████████████| 4/4 [00:00<00:00, 4682.45it/s]\n",
      "100%|███████████████████████████████████| 26468/26468 [00:03<00:00, 7239.48it/s]\n"
     ]
    },
    {
     "name": "stdout",
     "output_type": "stream",
     "text": [
      "\n",
      "#user moved: 4\n",
      "After moving: Target DataFrame: 624266, Source Data Frame: 26468\n",
      "#User:  26472 26445 26468\n",
      "#Item:  44047 15948 15890\n",
      "#Record:  624266 26445 26468\n",
      "Build user history\n"
     ]
    },
    {
     "name": "stderr",
     "output_type": "stream",
     "text": [
      "183227it [00:00, 732870.26it/s]\n"
     ]
    },
    {
     "name": "stdout",
     "output_type": "stream",
     "text": [
      "Holdout user histories\n"
     ]
    },
    {
     "name": "stderr",
     "output_type": "stream",
     "text": [
      "100%|██████████████████████████████████| 10094/10094 [00:00<00:00, 11466.85it/s]\n"
     ]
    },
    {
     "name": "stdout",
     "output_type": "stream",
     "text": [
      "Move unseen ItemID from val to train\n",
      "Moving user data\n",
      "Before moving: Target DataFrame: 163039, Source Data Frame: 10094\n"
     ]
    },
    {
     "name": "stderr",
     "output_type": "stream",
     "text": [
      "100%|█████████████████████████████████████████| 17/17 [00:00<00:00, 5296.23it/s]\n",
      "100%|███████████████████████████████████| 10077/10077 [00:01<00:00, 7207.97it/s]\n"
     ]
    },
    {
     "name": "stdout",
     "output_type": "stream",
     "text": [
      "\n",
      "#user moved: 17\n",
      "After moving: Target DataFrame: 163056, Source Data Frame: 10077\n",
      "Move unseen ItemID from test to train, this may also move users in val to train\n",
      "Val --> Train\n",
      "Moving user data\n",
      "Before moving: Target DataFrame: 163056, Source Data Frame: 10077\n"
     ]
    },
    {
     "name": "stderr",
     "output_type": "stream",
     "text": [
      "100%|█████████████████████████████████████████| 39/39 [00:00<00:00, 6795.08it/s]\n",
      "100%|███████████████████████████████████| 10038/10038 [00:01<00:00, 8352.14it/s]\n"
     ]
    },
    {
     "name": "stdout",
     "output_type": "stream",
     "text": [
      "\n",
      "#user moved: 39\n",
      "After moving: Target DataFrame: 163095, Source Data Frame: 10038\n",
      "Test --> Train\n",
      "Moving user data\n",
      "Before moving: Target DataFrame: 163095, Source Data Frame: 10094\n"
     ]
    },
    {
     "name": "stderr",
     "output_type": "stream",
     "text": [
      "100%|█████████████████████████████████████████| 39/39 [00:00<00:00, 5544.26it/s]\n",
      "100%|███████████████████████████████████| 10055/10055 [00:01<00:00, 7251.01it/s]\n"
     ]
    },
    {
     "name": "stdout",
     "output_type": "stream",
     "text": [
      "\n",
      "#user moved: 39\n",
      "After moving: Target DataFrame: 163134, Source Data Frame: 10055\n",
      "#User:  10094 10038 10055\n",
      "#Item:  10078 4842 4731\n",
      "#Record:  163134 10038 10055\n"
     ]
    }
   ],
   "source": [
    "holdout_type = \"leave_one_out\" # \"warm\"\n",
    "holdout_single_domain_data(target_path, list(n_cores.keys()), holdout_type)"
   ]
  },
  {
   "cell_type": "code",
   "execution_count": null,
   "metadata": {},
   "outputs": [],
   "source": []
  }
 ],
 "metadata": {
  "kernelspec": {
   "display_name": "BMRL",
   "language": "python",
   "name": "bmrl"
  },
  "language_info": {
   "codemirror_mode": {
    "name": "ipython",
    "version": 3
   },
   "file_extension": ".py",
   "mimetype": "text/x-python",
   "name": "python",
   "nbconvert_exporter": "python",
   "pygments_lexer": "ipython3",
   "version": "3.9.6"
  }
 },
 "nbformat": 4,
 "nbformat_minor": 2
}

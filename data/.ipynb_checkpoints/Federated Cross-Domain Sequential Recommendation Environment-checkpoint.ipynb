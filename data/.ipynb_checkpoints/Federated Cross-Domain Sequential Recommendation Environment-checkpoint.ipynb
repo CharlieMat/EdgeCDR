{
 "cells": [
  {
   "cell_type": "markdown",
   "metadata": {},
   "source": [
    "### Generate Transfer Learning Data\n",
    "\n",
    "Each line domain's user embedding data contains:\n",
    "* UserID\n",
    "* Embedding"
   ]
  },
  {
   "cell_type": "code",
   "execution_count": 1,
   "metadata": {},
   "outputs": [],
   "source": [
    "import os,sys,inspect\n",
    "currentdir = os.path.dirname(os.path.abspath(inspect.getfile(inspect.currentframe())))\n",
    "parentdir = os.path.dirname(currentdir)\n",
    "sys.path.insert(0,parentdir) \n",
    "\n",
    "data_key = 'amz_subset/'\n",
    "PROCESSED_DATA_ROOT = \"/home/sl1471/workspace/experiments/\"\n",
    "target_path = PROCESSED_DATA_ROOT + data_key"
   ]
  },
  {
   "cell_type": "code",
   "execution_count": 17,
   "metadata": {},
   "outputs": [],
   "source": [
    "n_domain = 18\n",
    "target_path = PROCESSED_DATA_ROOT + \"amz_subset/\"\n",
    "# domains = [\"Books\", \"Kindle_Store\", \"Sports_and_Outdoors\"]\n",
    "domains = [\"Books\", \"Clothing_Shoes_and_Jewelry\", \"Home_and_Kitchen\", \"Electronics\", \n",
    "           \"Sports_and_Outdoors\", \"Cell_Phones_and_Accessories\", \"Tools_and_Home_Improvement\", \"Movies_and_TV\", \n",
    "           \"Toys_and_Games\", \"Automotive\", \"Pet_Supplies\", \"Kindle_Store\", \n",
    "           \"Office_Products\", \"Patio_Lawn_and_Garden\", \"Grocery_and_Gourmet_Food\", \"CDs_and_Vinyl\", \n",
    "           \"Arts_Crafts_and_Sewing\", \"Video_Games\"][:n_domain]"
   ]
  },
  {
   "cell_type": "code",
   "execution_count": 7,
   "metadata": {},
   "outputs": [],
   "source": [
    "from model.rec_env.GRU4Rec import GRU4Rec\n",
    "import argparse\n",
    "parser = argparse.ArgumentParser()\n",
    "parser = GRU4Rec.parse_model_args(parser)\n",
    "args = parser.parse_args(['--model_path', target_path + 'models/env/', \n",
    "                          '--loss', 'softmax'])"
   ]
  },
  {
   "cell_type": "code",
   "execution_count": 8,
   "metadata": {},
   "outputs": [],
   "source": [
    "def load_vocab(file_path):\n",
    "    vocab = {\"UserID\": {}, \"ItemID\": {}}\n",
    "    with open(file_path, 'r') as fin:\n",
    "        fin.readline()\n",
    "        for line in fin:\n",
    "            if line.strip():\n",
    "                cols = line.strip().split('\\t')\n",
    "                vocab[cols[0]][cols[1]] = int(cols[2])\n",
    "    return vocab"
   ]
  },
  {
   "cell_type": "code",
   "execution_count": 9,
   "metadata": {},
   "outputs": [
    {
     "name": "stdout",
     "output_type": "stream",
     "text": [
      "Load (checkpoint) from /home/sl1471/workspace/experiments/amz_subset/models/env/GRU4Rec_Books_warm.pkl\n",
      "Load (checkpoint) from /home/sl1471/workspace/experiments/amz_subset/models/env/GRU4Rec_Clothing_Shoes_and_Jewelry_warm.pkl\n",
      "Load (checkpoint) from /home/sl1471/workspace/experiments/amz_subset/models/env/GRU4Rec_Home_and_Kitchen_warm.pkl\n"
     ]
    }
   ],
   "source": [
    "import pandas as pd\n",
    "# model_paths = pd.read_csv(target_path + \"meta_data/domain_models.txt\", sep = '\\t')\n",
    "domain_models = {}\n",
    "domain_vocabs = {}\n",
    "for d in domains:\n",
    "    domain_models[d] = GRU4Rec(args, None, \"cpu\")\n",
    "    domain_models[d].load_from_checkpoint(target_path + 'models/env/GRU4Rec_' + d + '_warm.pkl', with_optimizer = False)\n",
    "    domain_vocabs[d] = load_vocab(target_path + 'meta_data/' + d + '/vocab.txt')"
   ]
  },
  {
   "cell_type": "code",
   "execution_count": 10,
   "metadata": {},
   "outputs": [
    {
     "name": "stdout",
     "output_type": "stream",
     "text": [
      "Books(78108)<-->Clothing_Shoes_and_Jewelry(197948): n_common_user = 4744\n",
      "Books(78108)<-->Home_and_Kitchen(127974): n_common_user = 5312\n",
      "Clothing_Shoes_and_Jewelry(197948)<-->Home_and_Kitchen(127974): n_common_user = 37303\n"
     ]
    }
   ],
   "source": [
    "for i,d_from in enumerate(domains[:-1]):\n",
    "    vocab_from = domain_vocabs[d_from]\n",
    "    for d_towards in domains[i+1:]:\n",
    "        vocab_towards = domain_vocabs[d_towards]\n",
    "        shared_users = [u for u in vocab_from[\"UserID\"].keys() if u in vocab_towards[\"UserID\"]]\n",
    "        print(f\"{d_from}({len(vocab_from['UserID'])})<-->{d_towards}({len(vocab_towards['UserID'])}):\" \\\n",
    "              + f\" n_common_user = {len(shared_users)}\")"
   ]
  },
  {
   "cell_type": "code",
   "execution_count": 11,
   "metadata": {},
   "outputs": [],
   "source": [
    "# combined_df = pd.read_csv(target_path + \"tsv_data/combined_18/warm_train.tsv\", sep = '\\t')\n",
    "combined_data = {}\n",
    "for phase in [\"train\", \"val\", \"test\"]:\n",
    "    df_dict = {}\n",
    "    for i,d in enumerate(domains):\n",
    "        df = pd.read_csv(target_path + \"tsv_data/\" + d + \"/warm_\" + phase + \".tsv\", sep = '\\t')\n",
    "        df.insert(2, \"Domain\", [i+1]*len(df))\n",
    "        df_dict[d] = df\n",
    "    combined_data[phase] = pd.concat(df_dict.values(), axis = 0).sort_values(by = [\"UserID\", \"Timestamp\"])"
   ]
  },
  {
   "cell_type": "code",
   "execution_count": 12,
   "metadata": {},
   "outputs": [
    {
     "name": "stdout",
     "output_type": "stream",
     "text": [
      "[5109524, 483759, 487945]\n"
     ]
    }
   ],
   "source": [
    "print([len(df) for df in combined_data.values()])"
   ]
  },
  {
   "cell_type": "code",
   "execution_count": 13,
   "metadata": {
    "scrolled": true
   },
   "outputs": [
    {
     "name": "stdout",
     "output_type": "stream",
     "text": [
      "['A0039616ADOZ0KMWQRNX' 'B01CZMQCPC' 2 5.0 1475539200]\n",
      "['A0039616ADOZ0KMWQRNX' 'B0007KPP7G' 2 5.0 1477440000]\n",
      "['A0039616ADOZ0KMWQRNX' 'B0007KPPAS' 2 5.0 1477440000]\n",
      "['A0039616ADOZ0KMWQRNX' 'B00C0ZEE2S' 2 5.0 1477440000]\n",
      "['A0039616ADOZ0KMWQRNX' 'B01B5DLI88' 2 4.0 1477440000]\n",
      "['A0039616ADOZ0KMWQRNX' 'B01B5DLG7G' 2 4.0 1477440000]\n",
      "['A0039616ADOZ0KMWQRNX' 'B00TNJI6T6' 2 4.0 1479945600]\n",
      "['A0039616ADOZ0KMWQRNX' 'B00IITT30I' 2 5.0 1485648000]\n",
      "['A0039616ADOZ0KMWQRNX' 'B00NKY99F0' 2 5.0 1485648000]\n",
      "['A0039616ADOZ0KMWQRNX' 'B00TF1U834' 2 4.0 1491264000]\n"
     ]
    }
   ],
   "source": [
    "users = list(combined_data[\"train\"][\"UserID\"].unique())\n",
    "for row in combined_data[\"train\"][combined_data[\"train\"][\"UserID\"] == users[1]].values:\n",
    "    print(row)"
   ]
  },
  {
   "cell_type": "code",
   "execution_count": 14,
   "metadata": {
    "scrolled": true
   },
   "outputs": [
    {
     "name": "stdout",
     "output_type": "stream",
     "text": [
      "error when creating \"\"\n",
      "dir \"/home\" existed\n",
      "dir \"/home/sl1471\" existed\n",
      "dir \"/home/sl1471/workspace\" existed\n",
      "dir \"/home/sl1471/workspace/experiments\" existed\n",
      "dir \"/home/sl1471/workspace/experiments/amz_subset\" existed\n",
      "dir \"/home/sl1471/workspace/experiments/amz_subset/tsv_data\" existed\n",
      "dir \"/home/sl1471/workspace/experiments/amz_subset/tsv_data/combined_3\" existed\n",
      "train\n"
     ]
    },
    {
     "name": "stderr",
     "output_type": "stream",
     "text": [
      "5109524it [01:45, 48482.84it/s]\n"
     ]
    },
    {
     "name": "stdout",
     "output_type": "stream",
     "text": [
      "val\n"
     ]
    },
    {
     "name": "stderr",
     "output_type": "stream",
     "text": [
      "483759it [00:13, 36526.20it/s]\n"
     ]
    },
    {
     "name": "stdout",
     "output_type": "stream",
     "text": [
      "test\n"
     ]
    },
    {
     "name": "stderr",
     "output_type": "stream",
     "text": [
      "487945it [00:08, 54637.83it/s]\n"
     ]
    }
   ],
   "source": [
    "from tqdm import tqdm\n",
    "from et_utils import setup_path\n",
    "setup_path(target_path + \"tsv_data/combined_\" + str(len(domains)), is_dir = True)\n",
    "for phase in [\"train\", \"val\", \"test\"]:\n",
    "    print(phase)\n",
    "    df = combined_data[phase]\n",
    "    embeddings = []\n",
    "    for iid, d in tqdm(zip(df[\"ItemID\"], df[\"Domain\"])):\n",
    "        domain_name = domains[d-1]\n",
    "        encoded_iid = domain_vocabs[domain_name][\"ItemID\"][iid]\n",
    "        embeddings.append([v for v in domain_models[domain_name].pred_embeddings.weight[encoded_iid].detach().numpy()])\n",
    "    df.insert(5, \"emb\", embeddings)\n",
    "    df.to_csv(target_path + \"tsv_data/combined_\" + str(len(domains)) + \"/warm_\" + phase + \".tsv\", index = False, sep = '\\t')"
   ]
  },
  {
   "cell_type": "code",
   "execution_count": 15,
   "metadata": {},
   "outputs": [
    {
     "data": {
      "text/html": [
       "<div>\n",
       "<style scoped>\n",
       "    .dataframe tbody tr th:only-of-type {\n",
       "        vertical-align: middle;\n",
       "    }\n",
       "\n",
       "    .dataframe tbody tr th {\n",
       "        vertical-align: top;\n",
       "    }\n",
       "\n",
       "    .dataframe thead th {\n",
       "        text-align: right;\n",
       "    }\n",
       "</style>\n",
       "<table border=\"1\" class=\"dataframe\">\n",
       "  <thead>\n",
       "    <tr style=\"text-align: right;\">\n",
       "      <th></th>\n",
       "      <th>UserID</th>\n",
       "      <th>ItemID</th>\n",
       "      <th>Domain</th>\n",
       "      <th>Response</th>\n",
       "      <th>Timestamp</th>\n",
       "      <th>emb</th>\n",
       "    </tr>\n",
       "  </thead>\n",
       "  <tbody>\n",
       "    <tr>\n",
       "      <th>0</th>\n",
       "      <td>A0039616ADOZ0KMWQRNX</td>\n",
       "      <td>B011T2S93W</td>\n",
       "      <td>2</td>\n",
       "      <td>5.0</td>\n",
       "      <td>1535414400</td>\n",
       "      <td>[0.21389227, 0.10835785, -0.17878664, -0.01884...</td>\n",
       "    </tr>\n",
       "    <tr>\n",
       "      <th>1</th>\n",
       "      <td>A00463782V7TKAP9EMNL</td>\n",
       "      <td>1548868086</td>\n",
       "      <td>1</td>\n",
       "      <td>5.0</td>\n",
       "      <td>1506297600</td>\n",
       "      <td>[-0.748047, 0.6860984, 0.47165033, 0.09554045,...</td>\n",
       "    </tr>\n",
       "    <tr>\n",
       "      <th>2</th>\n",
       "      <td>A00463782V7TKAP9EMNL</td>\n",
       "      <td>0997422580</td>\n",
       "      <td>1</td>\n",
       "      <td>4.0</td>\n",
       "      <td>1506297600</td>\n",
       "      <td>[-0.783454, 0.7996321, 0.7069402, -0.004004198...</td>\n",
       "    </tr>\n",
       "  </tbody>\n",
       "</table>\n",
       "</div>"
      ],
      "text/plain": [
       "                 UserID      ItemID  Domain  Response   Timestamp  \\\n",
       "0  A0039616ADOZ0KMWQRNX  B011T2S93W       2       5.0  1535414400   \n",
       "1  A00463782V7TKAP9EMNL  1548868086       1       5.0  1506297600   \n",
       "2  A00463782V7TKAP9EMNL  0997422580       1       4.0  1506297600   \n",
       "\n",
       "                                                 emb  \n",
       "0  [0.21389227, 0.10835785, -0.17878664, -0.01884...  \n",
       "1  [-0.748047, 0.6860984, 0.47165033, 0.09554045,...  \n",
       "2  [-0.783454, 0.7996321, 0.7069402, -0.004004198...  "
      ]
     },
     "execution_count": 15,
     "metadata": {},
     "output_type": "execute_result"
    }
   ],
   "source": [
    "import pandas as pd\n",
    "testset = pd.read_csv(target_path + \"tsv_data/combined_\" + str(len(domains)) + \"/warm_test.tsv\", sep = '\\t')\n",
    "testset[:3]"
   ]
  },
  {
   "cell_type": "markdown",
   "metadata": {},
   "source": [
    "### Cross-domain Meta Data"
   ]
  },
  {
   "cell_type": "code",
   "execution_count": 19,
   "metadata": {},
   "outputs": [],
   "source": [
    "model_class = \"GRU4Rec\"\n",
    "with open(target_path + \"meta_data/domain_env.meta\", 'w') as fout:\n",
    "    fout.write(\"domain_name\\tmodel_class\\tmodel_path\\tvocab_path\\n\")\n",
    "    for d in domains:\n",
    "        fout.write(d + \"\\t\" + model_class + \"\\t\" + target_path + \"models/env/\" + model_class + \"_\" + d + \"_warm.pkl\\t\" + \n",
    "                   target_path + \"meta_data/\" + d + \"/vocab.txt\\n\")"
   ]
  },
  {
   "cell_type": "code",
   "execution_count": 25,
   "metadata": {},
   "outputs": [
    {
     "data": {
      "text/plain": [
       "{'model_class': 'GRU4Rec',\n",
       " 'model_path': '/home/sl1471/workspace/experiments/amz_subset/models/env/GRU4Rec_Books_warm.pkl',\n",
       " 'vocab_path': '/home/sl1471/workspace/experiments/amz_subset/meta_data/Books/vocab.txt'}"
      ]
     },
     "execution_count": 25,
     "metadata": {},
     "output_type": "execute_result"
    }
   ],
   "source": [
    "import pandas as pd\n",
    "domain_meta = pd.read_table(target_path + \"meta_data/domain_env.meta\", sep = '\\t', index_col = 0).to_dict(orient = 'index')\n",
    "domain_meta[\"Books\"]"
   ]
  },
  {
   "cell_type": "code",
   "execution_count": null,
   "metadata": {},
   "outputs": [],
   "source": []
  }
 ],
 "metadata": {
  "kernelspec": {
   "display_name": "BMRL",
   "language": "python",
   "name": "bmrl"
  },
  "language_info": {
   "codemirror_mode": {
    "name": "ipython",
    "version": 3
   },
   "file_extension": ".py",
   "mimetype": "text/x-python",
   "name": "python",
   "nbconvert_exporter": "python",
   "pygments_lexer": "ipython3",
   "version": "3.9.7"
  }
 },
 "nbformat": 4,
 "nbformat_minor": 2
}

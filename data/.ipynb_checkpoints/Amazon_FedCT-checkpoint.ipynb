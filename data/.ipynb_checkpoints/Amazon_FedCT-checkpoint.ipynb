{
 "cells": [
  {
   "cell_type": "code",
   "execution_count": 1,
   "id": "0f2ea144",
   "metadata": {},
   "outputs": [
    {
     "name": "stdout",
     "output_type": "stream",
     "text": [
      "/home/sl1471/workspace/FedCT\n",
      "dir \"experiments/transfer_data/\" existed\n"
     ]
    }
   ],
   "source": [
    "import os,sys,inspect\n",
    "currentdir = os.path.dirname(os.path.abspath(inspect.getfile(inspect.currentframe())))\n",
    "parentdir = os.path.dirname(currentdir)\n",
    "print(parentdir)\n",
    "sys.path.insert(0,parentdir) \n",
    "\n",
    "from data.preprocess import PREPROCESSED_ROOT, DOMAINS, setup_path\n",
    "\n",
    "data_path = PREPROCESSED_ROOT + 'domain_data/'\n",
    "log_path = PREPROCESSED_ROOT + 'env_logs/'\n",
    "target_path = PREPROCESSED_ROOT + 'transfer_data/'\n",
    "setup_path(target_path, is_dir = True)\n",
    "domains = DOMAINS"
   ]
  },
  {
   "cell_type": "code",
   "execution_count": 2,
   "id": "429e89d6",
   "metadata": {},
   "outputs": [],
   "source": [
    "domain_model_logs = {\n",
    "    \"Books\": log_path + \"fedct_train_and_eval_MF_Books_lr0.000001_reg3.0_losspointwise.log\",\n",
    "    \"Clothing_Shoes_and_Jewelry\": log_path + \"fedct_train_and_eval_MF_Clothing_Shoes_and_Jewelry_lr0.000001_reg3.0_losspointwise.log\",\n",
    "    \"Home_and_Kitchen\": log_path + \"fedct_train_and_eval_MF_Home_and_Kitchen_lr0.000001_reg3.0_losspointwise.log\",\n",
    "    \"Electronics\": log_path + \"fedct_train_and_eval_MF_Electronics_lr0.000001_reg3.0_losspointwise.log\",\n",
    "    \"Sports_and_Outdoors\": log_path + \"fedct_train_and_eval_MF_Sports_and_Outdoors_lr0.000001_reg3.0_losspointwise.log\",\n",
    "    \"Tools_and_Home_Improvement\": log_path + \"fedct_train_and_eval_MF_Tools_and_Home_Improvement_lr0.000001_reg3.0_losspointwise.log\",\n",
    "    \"Movies_and_TV\": log_path + \"fedct_train_and_eval_MF_Movies_and_TV_lr0.000001_reg3.0_losspointwise.log\",\n",
    "    \"Toys_and_Games\": log_path + \"fedct_train_and_eval_MF_Toys_and_Games_lr0.000001_reg3.0_losspointwise.log\",\n",
    "    \"Automotive\": log_path + \"fedct_train_and_eval_MF_Automotive_lr0.000001_reg3.0_losspointwise.log\",\n",
    "    \"Pet_Supplies\": log_path + \"fedct_train_and_eval_MF_Pet_Supplies_lr0.000001_reg3.0_losspointwise.log\",\n",
    "    \"Kindle_Store\": log_path + \"fedct_train_and_eval_MF_Kindle_Store_lr0.000001_reg3.0_losspointwise.log\",\n",
    "    \"Office_Products\": log_path + \"fedct_train_and_eval_MF_Office_Products_lr0.000003_reg3.0_losspointwise.log\",\n",
    "    \"Patio_Lawn_and_Garden\": log_path + \"fedct_train_and_eval_MF_Patio_Lawn_and_Garden_lr0.000001_reg3.0_losspointwise.log\",\n",
    "    \"Grocery_and_Gourmet_Food\": log_path + \"fedct_train_and_eval_MF_Grocery_and_Gourmet_Food_lr0.000001_reg3.0_losspointwise.log\",\n",
    "    \"CDs_and_Vinyl\": log_path + \"fedct_train_and_eval_MF_CDs_and_Vinyl_lr0.000001_reg3.0_losspointwise.log\",\n",
    "    \"Video_Games\": log_path + \"fedct_train_and_eval_MF_Video_Games_lr0.000003_reg3.0_losspointwise.log\"\n",
    "}\n",
    "domains = list(domain_model_logs.keys())"
   ]
  },
  {
   "cell_type": "code",
   "execution_count": 3,
   "id": "b23d1f03",
   "metadata": {},
   "outputs": [],
   "source": [
    "with open(\"../\" + target_path + 'domain_model_logs.txt', 'w') as fout:\n",
    "    fout.write(str(domain_model_logs))"
   ]
  },
  {
   "cell_type": "markdown",
   "id": "970d1e91",
   "metadata": {},
   "source": [
    "## 1. Cross-domain User Information"
   ]
  },
  {
   "cell_type": "code",
   "execution_count": 4,
   "id": "e9ea0320",
   "metadata": {
    "scrolled": true
   },
   "outputs": [
    {
     "name": "stderr",
     "output_type": "stream",
     "text": [
      "16it [00:42,  2.64s/it]\n"
     ]
    },
    {
     "name": "stdout",
     "output_type": "stream",
     "text": [
      "#user: 629394\n",
      "#user\tsource@target\n",
      "1064 \t Books@Clothing_Shoes_and_Jewelry\n",
      "1585 \t Books@Home_and_Kitchen\n",
      "993 \t Books@Electronics\n",
      "616 \t Books@Sports_and_Outdoors\n",
      "703 \t Books@Tools_and_Home_Improvement\n",
      "1595 \t Books@Movies_and_TV\n",
      "1342 \t Books@Toys_and_Games\n",
      "199 \t Books@Automotive\n",
      "899 \t Books@Pet_Supplies\n",
      "16829 \t Books@Kindle_Store\n",
      "1105 \t Books@Office_Products\n",
      "662 \t Books@Patio_Lawn_and_Garden\n",
      "1355 \t Books@Grocery_and_Gourmet_Food\n",
      "821 \t Books@CDs_and_Vinyl\n",
      "318 \t Books@Video_Games\n",
      "1064 \t Clothing_Shoes_and_Jewelry@Books\n",
      "13719 \t Clothing_Shoes_and_Jewelry@Home_and_Kitchen\n",
      "6555 \t Clothing_Shoes_and_Jewelry@Electronics\n",
      "6847 \t Clothing_Shoes_and_Jewelry@Sports_and_Outdoors\n",
      "6906 \t Clothing_Shoes_and_Jewelry@Tools_and_Home_Improvement\n",
      "3751 \t Clothing_Shoes_and_Jewelry@Movies_and_TV\n",
      "8866 \t Clothing_Shoes_and_Jewelry@Toys_and_Games\n",
      "3720 \t Clothing_Shoes_and_Jewelry@Automotive\n",
      "7280 \t Clothing_Shoes_and_Jewelry@Pet_Supplies\n",
      "732 \t Clothing_Shoes_and_Jewelry@Kindle_Store\n",
      "6613 \t Clothing_Shoes_and_Jewelry@Office_Products\n",
      "5191 \t Clothing_Shoes_and_Jewelry@Patio_Lawn_and_Garden\n",
      "8380 \t Clothing_Shoes_and_Jewelry@Grocery_and_Gourmet_Food\n",
      "1840 \t Clothing_Shoes_and_Jewelry@CDs_and_Vinyl\n",
      "1430 \t Clothing_Shoes_and_Jewelry@Video_Games\n",
      "1585 \t Home_and_Kitchen@Books\n",
      "13719 \t Home_and_Kitchen@Clothing_Shoes_and_Jewelry\n",
      "11714 \t Home_and_Kitchen@Electronics\n",
      "8168 \t Home_and_Kitchen@Sports_and_Outdoors\n",
      "13612 \t Home_and_Kitchen@Tools_and_Home_Improvement\n",
      "4727 \t Home_and_Kitchen@Movies_and_TV\n",
      "9892 \t Home_and_Kitchen@Toys_and_Games\n",
      "5362 \t Home_and_Kitchen@Automotive\n",
      "11401 \t Home_and_Kitchen@Pet_Supplies\n",
      "856 \t Home_and_Kitchen@Kindle_Store\n",
      "11433 \t Home_and_Kitchen@Office_Products\n",
      "10514 \t Home_and_Kitchen@Patio_Lawn_and_Garden\n",
      "15062 \t Home_and_Kitchen@Grocery_and_Gourmet_Food\n",
      "2118 \t Home_and_Kitchen@CDs_and_Vinyl\n",
      "1788 \t Home_and_Kitchen@Video_Games\n",
      "993 \t Electronics@Books\n",
      "6555 \t Electronics@Clothing_Shoes_and_Jewelry\n",
      "11714 \t Electronics@Home_and_Kitchen\n",
      "11509 \t Electronics@Sports_and_Outdoors\n",
      "19518 \t Electronics@Tools_and_Home_Improvement\n",
      "5383 \t Electronics@Movies_and_TV\n",
      "6127 \t Electronics@Toys_and_Games\n",
      "12979 \t Electronics@Automotive\n",
      "5183 \t Electronics@Pet_Supplies\n",
      "485 \t Electronics@Kindle_Store\n",
      "10658 \t Electronics@Office_Products\n",
      "8514 \t Electronics@Patio_Lawn_and_Garden\n",
      "7008 \t Electronics@Grocery_and_Gourmet_Food\n",
      "2873 \t Electronics@CDs_and_Vinyl\n",
      "4751 \t Electronics@Video_Games\n",
      "616 \t Sports_and_Outdoors@Books\n",
      "6847 \t Sports_and_Outdoors@Clothing_Shoes_and_Jewelry\n",
      "8168 \t Sports_and_Outdoors@Home_and_Kitchen\n",
      "11509 \t Sports_and_Outdoors@Electronics\n",
      "13885 \t Sports_and_Outdoors@Tools_and_Home_Improvement\n",
      "2867 \t Sports_and_Outdoors@Movies_and_TV\n",
      "5115 \t Sports_and_Outdoors@Toys_and_Games\n",
      "10403 \t Sports_and_Outdoors@Automotive\n",
      "3872 \t Sports_and_Outdoors@Pet_Supplies\n",
      "367 \t Sports_and_Outdoors@Kindle_Store\n",
      "5351 \t Sports_and_Outdoors@Office_Products\n",
      "6393 \t Sports_and_Outdoors@Patio_Lawn_and_Garden\n",
      "5137 \t Sports_and_Outdoors@Grocery_and_Gourmet_Food\n",
      "1347 \t Sports_and_Outdoors@CDs_and_Vinyl\n",
      "1699 \t Sports_and_Outdoors@Video_Games\n",
      "703 \t Tools_and_Home_Improvement@Books\n",
      "6906 \t Tools_and_Home_Improvement@Clothing_Shoes_and_Jewelry\n",
      "13612 \t Tools_and_Home_Improvement@Home_and_Kitchen\n",
      "19518 \t Tools_and_Home_Improvement@Electronics\n",
      "13885 \t Tools_and_Home_Improvement@Sports_and_Outdoors\n",
      "3727 \t Tools_and_Home_Improvement@Movies_and_TV\n",
      "5351 \t Tools_and_Home_Improvement@Toys_and_Games\n",
      "17207 \t Tools_and_Home_Improvement@Automotive\n",
      "6065 \t Tools_and_Home_Improvement@Pet_Supplies\n",
      "412 \t Tools_and_Home_Improvement@Kindle_Store\n",
      "9211 \t Tools_and_Home_Improvement@Office_Products\n",
      "13361 \t Tools_and_Home_Improvement@Patio_Lawn_and_Garden\n",
      "7502 \t Tools_and_Home_Improvement@Grocery_and_Gourmet_Food\n",
      "1738 \t Tools_and_Home_Improvement@CDs_and_Vinyl\n",
      "1730 \t Tools_and_Home_Improvement@Video_Games\n",
      "1595 \t Movies_and_TV@Books\n",
      "3751 \t Movies_and_TV@Clothing_Shoes_and_Jewelry\n",
      "4727 \t Movies_and_TV@Home_and_Kitchen\n",
      "5383 \t Movies_and_TV@Electronics\n",
      "2867 \t Movies_and_TV@Sports_and_Outdoors\n",
      "3727 \t Movies_and_TV@Tools_and_Home_Improvement\n",
      "4018 \t Movies_and_TV@Toys_and_Games\n",
      "2164 \t Movies_and_TV@Automotive\n",
      "2574 \t Movies_and_TV@Pet_Supplies\n",
      "781 \t Movies_and_TV@Kindle_Store\n",
      "3508 \t Movies_and_TV@Office_Products\n",
      "2547 \t Movies_and_TV@Patio_Lawn_and_Garden\n",
      "4279 \t Movies_and_TV@Grocery_and_Gourmet_Food\n",
      "8214 \t Movies_and_TV@CDs_and_Vinyl\n",
      "3090 \t Movies_and_TV@Video_Games\n",
      "1342 \t Toys_and_Games@Books\n",
      "8866 \t Toys_and_Games@Clothing_Shoes_and_Jewelry\n",
      "9892 \t Toys_and_Games@Home_and_Kitchen\n",
      "6127 \t Toys_and_Games@Electronics\n",
      "5115 \t Toys_and_Games@Sports_and_Outdoors\n",
      "5351 \t Toys_and_Games@Tools_and_Home_Improvement\n",
      "4018 \t Toys_and_Games@Movies_and_TV\n",
      "2688 \t Toys_and_Games@Automotive\n",
      "4617 \t Toys_and_Games@Pet_Supplies\n",
      "813 \t Toys_and_Games@Kindle_Store\n",
      "6151 \t Toys_and_Games@Office_Products\n",
      "3917 \t Toys_and_Games@Patio_Lawn_and_Garden\n",
      "6056 \t Toys_and_Games@Grocery_and_Gourmet_Food\n",
      "1617 \t Toys_and_Games@CDs_and_Vinyl\n",
      "2803 \t Toys_and_Games@Video_Games\n",
      "199 \t Automotive@Books\n",
      "3720 \t Automotive@Clothing_Shoes_and_Jewelry\n",
      "5362 \t Automotive@Home_and_Kitchen\n",
      "12979 \t Automotive@Electronics\n",
      "10403 \t Automotive@Sports_and_Outdoors\n",
      "17207 \t Automotive@Tools_and_Home_Improvement\n",
      "2164 \t Automotive@Movies_and_TV\n",
      "2688 \t Automotive@Toys_and_Games\n",
      "2960 \t Automotive@Pet_Supplies\n",
      "174 \t Automotive@Kindle_Store\n",
      "3940 \t Automotive@Office_Products\n",
      "7808 \t Automotive@Patio_Lawn_and_Garden\n",
      "3182 \t Automotive@Grocery_and_Gourmet_Food\n",
      "1123 \t Automotive@CDs_and_Vinyl\n",
      "1202 \t Automotive@Video_Games\n",
      "899 \t Pet_Supplies@Books\n",
      "7280 \t Pet_Supplies@Clothing_Shoes_and_Jewelry\n",
      "11401 \t Pet_Supplies@Home_and_Kitchen\n",
      "5183 \t Pet_Supplies@Electronics\n",
      "3872 \t Pet_Supplies@Sports_and_Outdoors\n",
      "6065 \t Pet_Supplies@Tools_and_Home_Improvement\n",
      "2574 \t Pet_Supplies@Movies_and_TV\n",
      "4617 \t Pet_Supplies@Toys_and_Games\n",
      "2960 \t Pet_Supplies@Automotive\n",
      "585 \t Pet_Supplies@Kindle_Store\n",
      "5397 \t Pet_Supplies@Office_Products\n",
      "5945 \t Pet_Supplies@Patio_Lawn_and_Garden\n",
      "8549 \t Pet_Supplies@Grocery_and_Gourmet_Food\n",
      "1118 \t Pet_Supplies@CDs_and_Vinyl\n",
      "1063 \t Pet_Supplies@Video_Games\n",
      "16829 \t Kindle_Store@Books\n",
      "732 \t Kindle_Store@Clothing_Shoes_and_Jewelry\n",
      "856 \t Kindle_Store@Home_and_Kitchen\n",
      "485 \t Kindle_Store@Electronics\n",
      "367 \t Kindle_Store@Sports_and_Outdoors\n",
      "412 \t Kindle_Store@Tools_and_Home_Improvement\n",
      "781 \t Kindle_Store@Movies_and_TV\n",
      "813 \t Kindle_Store@Toys_and_Games\n",
      "174 \t Kindle_Store@Automotive\n",
      "585 \t Kindle_Store@Pet_Supplies\n",
      "598 \t Kindle_Store@Office_Products\n",
      "366 \t Kindle_Store@Patio_Lawn_and_Garden\n",
      "879 \t Kindle_Store@Grocery_and_Gourmet_Food\n",
      "299 \t Kindle_Store@CDs_and_Vinyl\n",
      "157 \t Kindle_Store@Video_Games\n",
      "1105 \t Office_Products@Books\n",
      "6613 \t Office_Products@Clothing_Shoes_and_Jewelry\n",
      "11433 \t Office_Products@Home_and_Kitchen\n",
      "10658 \t Office_Products@Electronics\n",
      "5351 \t Office_Products@Sports_and_Outdoors\n",
      "9211 \t Office_Products@Tools_and_Home_Improvement\n",
      "3508 \t Office_Products@Movies_and_TV\n",
      "6151 \t Office_Products@Toys_and_Games\n",
      "3940 \t Office_Products@Automotive\n",
      "5397 \t Office_Products@Pet_Supplies\n",
      "598 \t Office_Products@Kindle_Store\n",
      "5544 \t Office_Products@Patio_Lawn_and_Garden\n",
      "7428 \t Office_Products@Grocery_and_Gourmet_Food\n",
      "1639 \t Office_Products@CDs_and_Vinyl\n",
      "1518 \t Office_Products@Video_Games\n",
      "662 \t Patio_Lawn_and_Garden@Books\n",
      "5191 \t Patio_Lawn_and_Garden@Clothing_Shoes_and_Jewelry\n",
      "10514 \t Patio_Lawn_and_Garden@Home_and_Kitchen\n",
      "8514 \t Patio_Lawn_and_Garden@Electronics\n",
      "6393 \t Patio_Lawn_and_Garden@Sports_and_Outdoors\n",
      "13361 \t Patio_Lawn_and_Garden@Tools_and_Home_Improvement\n",
      "2547 \t Patio_Lawn_and_Garden@Movies_and_TV\n",
      "3917 \t Patio_Lawn_and_Garden@Toys_and_Games\n",
      "7808 \t Patio_Lawn_and_Garden@Automotive\n",
      "5945 \t Patio_Lawn_and_Garden@Pet_Supplies\n",
      "366 \t Patio_Lawn_and_Garden@Kindle_Store\n",
      "5544 \t Patio_Lawn_and_Garden@Office_Products\n",
      "6428 \t Patio_Lawn_and_Garden@Grocery_and_Gourmet_Food\n",
      "1216 \t Patio_Lawn_and_Garden@CDs_and_Vinyl\n",
      "933 \t Patio_Lawn_and_Garden@Video_Games\n",
      "1355 \t Grocery_and_Gourmet_Food@Books\n",
      "8380 \t Grocery_and_Gourmet_Food@Clothing_Shoes_and_Jewelry\n",
      "15062 \t Grocery_and_Gourmet_Food@Home_and_Kitchen\n",
      "7008 \t Grocery_and_Gourmet_Food@Electronics\n",
      "5137 \t Grocery_and_Gourmet_Food@Sports_and_Outdoors\n",
      "7502 \t Grocery_and_Gourmet_Food@Tools_and_Home_Improvement\n",
      "4279 \t Grocery_and_Gourmet_Food@Movies_and_TV\n",
      "6056 \t Grocery_and_Gourmet_Food@Toys_and_Games\n",
      "3182 \t Grocery_and_Gourmet_Food@Automotive\n",
      "8549 \t Grocery_and_Gourmet_Food@Pet_Supplies\n",
      "879 \t Grocery_and_Gourmet_Food@Kindle_Store\n",
      "7428 \t Grocery_and_Gourmet_Food@Office_Products\n",
      "6428 \t Grocery_and_Gourmet_Food@Patio_Lawn_and_Garden\n",
      "1935 \t Grocery_and_Gourmet_Food@CDs_and_Vinyl\n",
      "1399 \t Grocery_and_Gourmet_Food@Video_Games\n",
      "821 \t CDs_and_Vinyl@Books\n",
      "1840 \t CDs_and_Vinyl@Clothing_Shoes_and_Jewelry\n",
      "2118 \t CDs_and_Vinyl@Home_and_Kitchen\n",
      "2873 \t CDs_and_Vinyl@Electronics\n",
      "1347 \t CDs_and_Vinyl@Sports_and_Outdoors\n",
      "1738 \t CDs_and_Vinyl@Tools_and_Home_Improvement\n",
      "8214 \t CDs_and_Vinyl@Movies_and_TV\n",
      "1617 \t CDs_and_Vinyl@Toys_and_Games\n",
      "1123 \t CDs_and_Vinyl@Automotive\n",
      "1118 \t CDs_and_Vinyl@Pet_Supplies\n",
      "299 \t CDs_and_Vinyl@Kindle_Store\n",
      "1639 \t CDs_and_Vinyl@Office_Products\n",
      "1216 \t CDs_and_Vinyl@Patio_Lawn_and_Garden\n",
      "1935 \t CDs_and_Vinyl@Grocery_and_Gourmet_Food\n",
      "1733 \t CDs_and_Vinyl@Video_Games\n",
      "318 \t Video_Games@Books\n",
      "1430 \t Video_Games@Clothing_Shoes_and_Jewelry\n",
      "1788 \t Video_Games@Home_and_Kitchen\n",
      "4751 \t Video_Games@Electronics\n",
      "1699 \t Video_Games@Sports_and_Outdoors\n",
      "1730 \t Video_Games@Tools_and_Home_Improvement\n",
      "3090 \t Video_Games@Movies_and_TV\n",
      "2803 \t Video_Games@Toys_and_Games\n",
      "1202 \t Video_Games@Automotive\n",
      "1063 \t Video_Games@Pet_Supplies\n",
      "157 \t Video_Games@Kindle_Store\n",
      "1518 \t Video_Games@Office_Products\n",
      "933 \t Video_Games@Patio_Lawn_and_Garden\n",
      "1399 \t Video_Games@Grocery_and_Gourmet_Food\n",
      "1733 \t Video_Games@CDs_and_Vinyl\n"
     ]
    }
   ],
   "source": [
    "from reader.UserTransferEnvironment import get_cross_domain_user\n",
    "CDU, U = get_cross_domain_user(domains, \"../\" + data_path)\n",
    "print(\"#user: \" + str(len(U)))\n",
    "print(\"#user\\tsource@target\")\n",
    "for k,v in CDU.items():\n",
    "    print(len(v),'\\t',k)"
   ]
  },
  {
   "cell_type": "code",
   "execution_count": 5,
   "id": "f715974f",
   "metadata": {},
   "outputs": [
    {
     "name": "stdout",
     "output_type": "stream",
     "text": [
      "[468196, 100993, 30819, 13426, 6794, 3747, 2176, 1307, 808, 516, 342, 162, 74, 26, 7, 1]\n"
     ]
    },
    {
     "data": {
      "image/png": "[encoded data removed]",
      "text/plain": [
       "<Figure size 1120x300 with 1 Axes>"
      ]
     },
     "metadata": {},
     "output_type": "display_data"
    }
   ],
   "source": [
    "import matplotlib.pyplot as plt\n",
    "import numpy as np\n",
    "n_domain_per_user = {uid: sum([1 for f in idx[:-1] if f != 0])for uid, idx in U.items()}\n",
    "n_domain_count = [0] * len(domains)\n",
    "for uid, c in n_domain_per_user.items():\n",
    "    n_domain_count[c-1] += 1\n",
    "print(n_domain_count)\n",
    "plt.figure(figsize = (0.7 * len(domains),3))\n",
    "plt.bar(np.arange(1,len(domains)+1),np.log(n_domain_count))\n",
    "plt.ylabel('Log frequency')\n",
    "plt.xlabel('#domain per user')\n",
    "plt.show()"
   ]
  },
  {
   "cell_type": "markdown",
   "id": "6a255ec9",
   "metadata": {},
   "source": [
    "## 2. Setup Domain Transfer Data"
   ]
  },
  {
   "cell_type": "code",
   "execution_count": 6,
   "id": "3c322bb3",
   "metadata": {
    "scrolled": true
   },
   "outputs": [],
   "source": [
    "import pandas as pd\n",
    "df = pd.DataFrame.from_dict(U,orient='index',columns = domains + ['all'])\n",
    "df.to_csv(\"../\" + target_path + 'train.tsv')"
   ]
  },
  {
   "cell_type": "code",
   "execution_count": 7,
   "id": "df66d753",
   "metadata": {
    "scrolled": true
   },
   "outputs": [
    {
     "data": {
      "text/html": [
       "<div>\n",
       "<style scoped>\n",
       "    .dataframe tbody tr th:only-of-type {\n",
       "        vertical-align: middle;\n",
       "    }\n",
       "\n",
       "    .dataframe tbody tr th {\n",
       "        vertical-align: top;\n",
       "    }\n",
       "\n",
       "    .dataframe thead th {\n",
       "        text-align: right;\n",
       "    }\n",
       "</style>\n",
       "<table border=\"1\" class=\"dataframe\">\n",
       "  <thead>\n",
       "    <tr style=\"text-align: right;\">\n",
       "      <th></th>\n",
       "      <th>UserID</th>\n",
       "      <th>Books</th>\n",
       "      <th>Clothing_Shoes_and_Jewelry</th>\n",
       "      <th>Home_and_Kitchen</th>\n",
       "      <th>Electronics</th>\n",
       "      <th>Sports_and_Outdoors</th>\n",
       "      <th>Tools_and_Home_Improvement</th>\n",
       "      <th>Movies_and_TV</th>\n",
       "      <th>Toys_and_Games</th>\n",
       "      <th>Automotive</th>\n",
       "      <th>Pet_Supplies</th>\n",
       "      <th>Kindle_Store</th>\n",
       "      <th>Office_Products</th>\n",
       "      <th>Patio_Lawn_and_Garden</th>\n",
       "      <th>Grocery_and_Gourmet_Food</th>\n",
       "      <th>CDs_and_Vinyl</th>\n",
       "      <th>Video_Games</th>\n",
       "    </tr>\n",
       "  </thead>\n",
       "  <tbody>\n",
       "    <tr>\n",
       "      <th>0</th>\n",
       "      <td>ARVOX5K5ZJOJR</td>\n",
       "      <td>1</td>\n",
       "      <td>0</td>\n",
       "      <td>0</td>\n",
       "      <td>0</td>\n",
       "      <td>0</td>\n",
       "      <td>0</td>\n",
       "      <td>0</td>\n",
       "      <td>0</td>\n",
       "      <td>0</td>\n",
       "      <td>0</td>\n",
       "      <td>33805</td>\n",
       "      <td>0</td>\n",
       "      <td>0</td>\n",
       "      <td>0</td>\n",
       "      <td>0</td>\n",
       "      <td>0</td>\n",
       "    </tr>\n",
       "    <tr>\n",
       "      <th>1</th>\n",
       "      <td>A3VTEB4N3JVPYF</td>\n",
       "      <td>2</td>\n",
       "      <td>0</td>\n",
       "      <td>0</td>\n",
       "      <td>0</td>\n",
       "      <td>0</td>\n",
       "      <td>0</td>\n",
       "      <td>0</td>\n",
       "      <td>0</td>\n",
       "      <td>0</td>\n",
       "      <td>0</td>\n",
       "      <td>6174</td>\n",
       "      <td>0</td>\n",
       "      <td>0</td>\n",
       "      <td>0</td>\n",
       "      <td>0</td>\n",
       "      <td>0</td>\n",
       "    </tr>\n",
       "    <tr>\n",
       "      <th>2</th>\n",
       "      <td>A1JMSX54DO3LOP</td>\n",
       "      <td>3</td>\n",
       "      <td>0</td>\n",
       "      <td>0</td>\n",
       "      <td>0</td>\n",
       "      <td>0</td>\n",
       "      <td>0</td>\n",
       "      <td>0</td>\n",
       "      <td>0</td>\n",
       "      <td>0</td>\n",
       "      <td>0</td>\n",
       "      <td>340</td>\n",
       "      <td>0</td>\n",
       "      <td>0</td>\n",
       "      <td>0</td>\n",
       "      <td>0</td>\n",
       "      <td>0</td>\n",
       "    </tr>\n",
       "    <tr>\n",
       "      <th>3</th>\n",
       "      <td>A1XQ1JB4A3UWIK</td>\n",
       "      <td>4</td>\n",
       "      <td>0</td>\n",
       "      <td>0</td>\n",
       "      <td>0</td>\n",
       "      <td>0</td>\n",
       "      <td>0</td>\n",
       "      <td>0</td>\n",
       "      <td>0</td>\n",
       "      <td>0</td>\n",
       "      <td>0</td>\n",
       "      <td>14416</td>\n",
       "      <td>0</td>\n",
       "      <td>0</td>\n",
       "      <td>0</td>\n",
       "      <td>0</td>\n",
       "      <td>0</td>\n",
       "    </tr>\n",
       "    <tr>\n",
       "      <th>4</th>\n",
       "      <td>A22QFL2QV9336P</td>\n",
       "      <td>5</td>\n",
       "      <td>0</td>\n",
       "      <td>0</td>\n",
       "      <td>0</td>\n",
       "      <td>0</td>\n",
       "      <td>0</td>\n",
       "      <td>22280</td>\n",
       "      <td>0</td>\n",
       "      <td>0</td>\n",
       "      <td>0</td>\n",
       "      <td>0</td>\n",
       "      <td>0</td>\n",
       "      <td>0</td>\n",
       "      <td>0</td>\n",
       "      <td>0</td>\n",
       "      <td>0</td>\n",
       "    </tr>\n",
       "    <tr>\n",
       "      <th>...</th>\n",
       "      <td>...</td>\n",
       "      <td>...</td>\n",
       "      <td>...</td>\n",
       "      <td>...</td>\n",
       "      <td>...</td>\n",
       "      <td>...</td>\n",
       "      <td>...</td>\n",
       "      <td>...</td>\n",
       "      <td>...</td>\n",
       "      <td>...</td>\n",
       "      <td>...</td>\n",
       "      <td>...</td>\n",
       "      <td>...</td>\n",
       "      <td>...</td>\n",
       "      <td>...</td>\n",
       "      <td>...</td>\n",
       "      <td>...</td>\n",
       "    </tr>\n",
       "    <tr>\n",
       "      <th>629389</th>\n",
       "      <td>A2KRWDN3J7300W</td>\n",
       "      <td>0</td>\n",
       "      <td>0</td>\n",
       "      <td>0</td>\n",
       "      <td>0</td>\n",
       "      <td>0</td>\n",
       "      <td>0</td>\n",
       "      <td>0</td>\n",
       "      <td>0</td>\n",
       "      <td>0</td>\n",
       "      <td>0</td>\n",
       "      <td>0</td>\n",
       "      <td>0</td>\n",
       "      <td>0</td>\n",
       "      <td>0</td>\n",
       "      <td>0</td>\n",
       "      <td>25802</td>\n",
       "    </tr>\n",
       "    <tr>\n",
       "      <th>629390</th>\n",
       "      <td>A1GL32MKWU8S0N</td>\n",
       "      <td>0</td>\n",
       "      <td>0</td>\n",
       "      <td>0</td>\n",
       "      <td>0</td>\n",
       "      <td>0</td>\n",
       "      <td>0</td>\n",
       "      <td>0</td>\n",
       "      <td>0</td>\n",
       "      <td>0</td>\n",
       "      <td>0</td>\n",
       "      <td>0</td>\n",
       "      <td>0</td>\n",
       "      <td>0</td>\n",
       "      <td>0</td>\n",
       "      <td>0</td>\n",
       "      <td>25803</td>\n",
       "    </tr>\n",
       "    <tr>\n",
       "      <th>629391</th>\n",
       "      <td>A62UOKS4YCEH5</td>\n",
       "      <td>0</td>\n",
       "      <td>0</td>\n",
       "      <td>0</td>\n",
       "      <td>0</td>\n",
       "      <td>0</td>\n",
       "      <td>0</td>\n",
       "      <td>0</td>\n",
       "      <td>0</td>\n",
       "      <td>0</td>\n",
       "      <td>0</td>\n",
       "      <td>0</td>\n",
       "      <td>0</td>\n",
       "      <td>0</td>\n",
       "      <td>0</td>\n",
       "      <td>0</td>\n",
       "      <td>25804</td>\n",
       "    </tr>\n",
       "    <tr>\n",
       "      <th>629392</th>\n",
       "      <td>A3ON6YNL0RWXZ0</td>\n",
       "      <td>0</td>\n",
       "      <td>0</td>\n",
       "      <td>0</td>\n",
       "      <td>0</td>\n",
       "      <td>0</td>\n",
       "      <td>0</td>\n",
       "      <td>0</td>\n",
       "      <td>0</td>\n",
       "      <td>0</td>\n",
       "      <td>0</td>\n",
       "      <td>0</td>\n",
       "      <td>0</td>\n",
       "      <td>0</td>\n",
       "      <td>0</td>\n",
       "      <td>0</td>\n",
       "      <td>25805</td>\n",
       "    </tr>\n",
       "    <tr>\n",
       "      <th>629393</th>\n",
       "      <td>A5BWM2ZM5G3EB</td>\n",
       "      <td>0</td>\n",
       "      <td>0</td>\n",
       "      <td>0</td>\n",
       "      <td>0</td>\n",
       "      <td>0</td>\n",
       "      <td>0</td>\n",
       "      <td>0</td>\n",
       "      <td>0</td>\n",
       "      <td>0</td>\n",
       "      <td>0</td>\n",
       "      <td>0</td>\n",
       "      <td>0</td>\n",
       "      <td>0</td>\n",
       "      <td>0</td>\n",
       "      <td>0</td>\n",
       "      <td>25806</td>\n",
       "    </tr>\n",
       "  </tbody>\n",
       "</table>\n",
       "<p>629394 rows × 17 columns</p>\n",
       "</div>"
      ],
      "text/plain": [
       "                UserID  Books  Clothing_Shoes_and_Jewelry  Home_and_Kitchen  \\\n",
       "0        ARVOX5K5ZJOJR      1                           0                 0   \n",
       "1       A3VTEB4N3JVPYF      2                           0                 0   \n",
       "2       A1JMSX54DO3LOP      3                           0                 0   \n",
       "3       A1XQ1JB4A3UWIK      4                           0                 0   \n",
       "4       A22QFL2QV9336P      5                           0                 0   \n",
       "...                ...    ...                         ...               ...   \n",
       "629389  A2KRWDN3J7300W      0                           0                 0   \n",
       "629390  A1GL32MKWU8S0N      0                           0                 0   \n",
       "629391   A62UOKS4YCEH5      0                           0                 0   \n",
       "629392  A3ON6YNL0RWXZ0      0                           0                 0   \n",
       "629393   A5BWM2ZM5G3EB      0                           0                 0   \n",
       "\n",
       "        Electronics  Sports_and_Outdoors  Tools_and_Home_Improvement  \\\n",
       "0                 0                    0                           0   \n",
       "1                 0                    0                           0   \n",
       "2                 0                    0                           0   \n",
       "3                 0                    0                           0   \n",
       "4                 0                    0                           0   \n",
       "...             ...                  ...                         ...   \n",
       "629389            0                    0                           0   \n",
       "629390            0                    0                           0   \n",
       "629391            0                    0                           0   \n",
       "629392            0                    0                           0   \n",
       "629393            0                    0                           0   \n",
       "\n",
       "        Movies_and_TV  Toys_and_Games  Automotive  Pet_Supplies  Kindle_Store  \\\n",
       "0                   0               0           0             0         33805   \n",
       "1                   0               0           0             0          6174   \n",
       "2                   0               0           0             0           340   \n",
       "3                   0               0           0             0         14416   \n",
       "4               22280               0           0             0             0   \n",
       "...               ...             ...         ...           ...           ...   \n",
       "629389              0               0           0             0             0   \n",
       "629390              0               0           0             0             0   \n",
       "629391              0               0           0             0             0   \n",
       "629392              0               0           0             0             0   \n",
       "629393              0               0           0             0             0   \n",
       "\n",
       "        Office_Products  Patio_Lawn_and_Garden  Grocery_and_Gourmet_Food  \\\n",
       "0                     0                      0                         0   \n",
       "1                     0                      0                         0   \n",
       "2                     0                      0                         0   \n",
       "3                     0                      0                         0   \n",
       "4                     0                      0                         0   \n",
       "...                 ...                    ...                       ...   \n",
       "629389                0                      0                         0   \n",
       "629390                0                      0                         0   \n",
       "629391                0                      0                         0   \n",
       "629392                0                      0                         0   \n",
       "629393                0                      0                         0   \n",
       "\n",
       "        CDs_and_Vinyl  Video_Games  \n",
       "0                   0            0  \n",
       "1                   0            0  \n",
       "2                   0            0  \n",
       "3                   0            0  \n",
       "4                   0            0  \n",
       "...               ...          ...  \n",
       "629389              0        25802  \n",
       "629390              0        25803  \n",
       "629391              0        25804  \n",
       "629392              0        25805  \n",
       "629393              0        25806  \n",
       "\n",
       "[629394 rows x 17 columns]"
      ]
     },
     "execution_count": 7,
     "metadata": {},
     "output_type": "execute_result"
    }
   ],
   "source": [
    "df = pd.read_csv(\"../\" + target_path + 'train.tsv', header = 0,\n",
    "                 names = [\"UserID\"] + domains + ['All'])\n",
    "df = df[[\"UserID\"] + domains]\n",
    "df"
   ]
  },
  {
   "cell_type": "code",
   "execution_count": 8,
   "id": "63bf2455",
   "metadata": {},
   "outputs": [
    {
     "data": {
      "text/plain": [
       "0"
      ]
     },
     "execution_count": 8,
     "metadata": {},
     "output_type": "execute_result"
    }
   ],
   "source": [
    "target_domain = 'Books'\n",
    "domains.index(target_domain)\n",
    "# train_subset = df[df[target_domain]>0]\n",
    "# condition_str = ' | '.join([f\"(train_subset['{d}']>0)\" \\\n",
    "#                             for d in domains if d != target_domain])\n",
    "# print(condition_str)\n",
    "# train_subset[eval(condition_str)].index"
   ]
  },
  {
   "cell_type": "code",
   "execution_count": 9,
   "id": "0ac2c8f6",
   "metadata": {},
   "outputs": [],
   "source": [
    "from tqdm import tqdm\n",
    "def split_cold_start_data(df, ratio = [0.5,0.5]):\n",
    "    print(\"Build user history\")\n",
    "    user_hist = {}\n",
    "    for pos,row in tqdm(enumerate(df.values)):\n",
    "        u, *record = row\n",
    "        if u not in user_hist:\n",
    "            user_hist[u] = list()\n",
    "        user_hist[u].append(pos)\n",
    "    print(\"Holdout user histories\")\n",
    "    test_indices = df[\"UserID\"]==-1\n",
    "    for u,H in tqdm(user_hist.items()):\n",
    "        nTest = max(int(len(H) * ratio[1]), 1)\n",
    "        test_indices.iloc[H[-nTest:]] = True\n",
    "    testset = df[test_indices]\n",
    "    trainset = df[~test_indices]\n",
    "    return trainset, testset"
   ]
  },
  {
   "cell_type": "code",
   "execution_count": 10,
   "id": "675c3f8a",
   "metadata": {
    "scrolled": true
   },
   "outputs": [
    {
     "name": "stdout",
     "output_type": "stream",
     "text": [
      "Books\n",
      "Build user history\n"
     ]
    },
    {
     "name": "stderr",
     "output_type": "stream",
     "text": [
      "51259it [00:00, 503700.11it/s]\n"
     ]
    },
    {
     "name": "stdout",
     "output_type": "stream",
     "text": [
      "Holdout user histories\n"
     ]
    },
    {
     "name": "stderr",
     "output_type": "stream",
     "text": [
      "100%|██████████| 690/690 [00:00<00:00, 11994.65it/s]"
     ]
    },
    {
     "name": "stdout",
     "output_type": "stream",
     "text": [
      "25796 25463\n"
     ]
    },
    {
     "name": "stderr",
     "output_type": "stream",
     "text": [
      "\n"
     ]
    },
    {
     "name": "stdout",
     "output_type": "stream",
     "text": [
      "Clothing_Shoes_and_Jewelry\n",
      "Build user history\n"
     ]
    },
    {
     "name": "stderr",
     "output_type": "stream",
     "text": [
      "167405it [00:00, 400685.62it/s]\n"
     ]
    },
    {
     "name": "stdout",
     "output_type": "stream",
     "text": [
      "Holdout user histories\n"
     ]
    },
    {
     "name": "stderr",
     "output_type": "stream",
     "text": [
      "100%|██████████| 8192/8192 [00:00<00:00, 14716.66it/s]\n"
     ]
    },
    {
     "name": "stdout",
     "output_type": "stream",
     "text": [
      "85718 81687\n",
      "Home_and_Kitchen\n",
      "Build user history\n"
     ]
    },
    {
     "name": "stderr",
     "output_type": "stream",
     "text": [
      "164850it [00:00, 404393.39it/s]\n"
     ]
    },
    {
     "name": "stdout",
     "output_type": "stream",
     "text": [
      "Holdout user histories\n"
     ]
    },
    {
     "name": "stderr",
     "output_type": "stream",
     "text": [
      "100%|██████████| 6150/6150 [00:00<00:00, 15432.80it/s]\n"
     ]
    },
    {
     "name": "stdout",
     "output_type": "stream",
     "text": [
      "83892 80958\n",
      "Electronics\n",
      "Build user history\n"
     ]
    },
    {
     "name": "stderr",
     "output_type": "stream",
     "text": [
      "166513it [00:00, 429759.83it/s]\n"
     ]
    },
    {
     "name": "stdout",
     "output_type": "stream",
     "text": [
      "Holdout user histories\n"
     ]
    },
    {
     "name": "stderr",
     "output_type": "stream",
     "text": [
      "100%|██████████| 8408/8408 [00:00<00:00, 14318.65it/s]\n"
     ]
    },
    {
     "name": "stdout",
     "output_type": "stream",
     "text": [
      "85316 81197\n",
      "Sports_and_Outdoors\n",
      "Build user history\n"
     ]
    },
    {
     "name": "stderr",
     "output_type": "stream",
     "text": [
      "90037it [00:00, 327386.44it/s]\n"
     ]
    },
    {
     "name": "stdout",
     "output_type": "stream",
     "text": [
      "Holdout user histories\n"
     ]
    },
    {
     "name": "stderr",
     "output_type": "stream",
     "text": [
      "100%|██████████| 5787/5787 [00:00<00:00, 14403.79it/s]\n"
     ]
    },
    {
     "name": "stdout",
     "output_type": "stream",
     "text": [
      "46306 43731\n",
      "Tools_and_Home_Improvement\n",
      "Build user history\n"
     ]
    },
    {
     "name": "stderr",
     "output_type": "stream",
     "text": [
      "89285it [00:00, 416557.40it/s]\n"
     ]
    },
    {
     "name": "stdout",
     "output_type": "stream",
     "text": [
      "Holdout user histories\n"
     ]
    },
    {
     "name": "stderr",
     "output_type": "stream",
     "text": [
      "100%|██████████| 6632/6632 [00:00<00:00, 23589.36it/s]\n"
     ]
    },
    {
     "name": "stdout",
     "output_type": "stream",
     "text": [
      "46189 43096\n",
      "Movies_and_TV\n",
      "Build user history\n"
     ]
    },
    {
     "name": "stderr",
     "output_type": "stream",
     "text": [
      "60434it [00:00, 662940.38it/s]\n"
     ]
    },
    {
     "name": "stdout",
     "output_type": "stream",
     "text": [
      "Holdout user histories\n"
     ]
    },
    {
     "name": "stderr",
     "output_type": "stream",
     "text": [
      "100%|██████████| 2901/2901 [00:00<00:00, 22631.56it/s]\n"
     ]
    },
    {
     "name": "stdout",
     "output_type": "stream",
     "text": [
      "30915 29519\n",
      "Toys_and_Games\n",
      "Build user history\n"
     ]
    },
    {
     "name": "stderr",
     "output_type": "stream",
     "text": [
      "45367it [00:00, 644491.83it/s]\n"
     ]
    },
    {
     "name": "stdout",
     "output_type": "stream",
     "text": [
      "Holdout user histories\n"
     ]
    },
    {
     "name": "stderr",
     "output_type": "stream",
     "text": [
      "100%|██████████| 3832/3832 [00:00<00:00, 25442.60it/s]\n"
     ]
    },
    {
     "name": "stdout",
     "output_type": "stream",
     "text": [
      "23735 21632\n",
      "Automotive\n",
      "Build user history\n"
     ]
    },
    {
     "name": "stderr",
     "output_type": "stream",
     "text": [
      "33983it [00:00, 708762.79it/s]\n"
     ]
    },
    {
     "name": "stdout",
     "output_type": "stream",
     "text": [
      "Holdout user histories\n"
     ]
    },
    {
     "name": "stderr",
     "output_type": "stream",
     "text": [
      "100%|██████████| 3070/3070 [00:00<00:00, 26820.54it/s]\n"
     ]
    },
    {
     "name": "stdout",
     "output_type": "stream",
     "text": [
      "17874 16109\n",
      "Pet_Supplies\n",
      "Build user history\n"
     ]
    },
    {
     "name": "stderr",
     "output_type": "stream",
     "text": [
      "33558it [00:00, 477152.84it/s]\n"
     ]
    },
    {
     "name": "stdout",
     "output_type": "stream",
     "text": [
      "Holdout user histories\n"
     ]
    },
    {
     "name": "stderr",
     "output_type": "stream",
     "text": [
      "100%|██████████| 2304/2304 [00:00<00:00, 14121.91it/s]\n"
     ]
    },
    {
     "name": "stdout",
     "output_type": "stream",
     "text": [
      "17297 16261\n",
      "Kindle_Store\n",
      "Build user history\n"
     ]
    },
    {
     "name": "stderr",
     "output_type": "stream",
     "text": [
      "184693it [00:00, 405134.34it/s]\n"
     ]
    },
    {
     "name": "stdout",
     "output_type": "stream",
     "text": [
      "Holdout user histories\n"
     ]
    },
    {
     "name": "stderr",
     "output_type": "stream",
     "text": [
      "100%|██████████| 4131/4131 [00:00<00:00, 14935.97it/s]\n"
     ]
    },
    {
     "name": "stdout",
     "output_type": "stream",
     "text": [
      "93336 91357\n",
      "Office_Products\n",
      "Build user history\n"
     ]
    },
    {
     "name": "stderr",
     "output_type": "stream",
     "text": [
      "40374it [00:00, 416767.15it/s]\n"
     ]
    },
    {
     "name": "stdout",
     "output_type": "stream",
     "text": [
      "Holdout user histories\n"
     ]
    },
    {
     "name": "stderr",
     "output_type": "stream",
     "text": [
      "100%|██████████| 3973/3973 [00:00<00:00, 14133.89it/s]\n"
     ]
    },
    {
     "name": "stdout",
     "output_type": "stream",
     "text": [
      "21320 19054\n",
      "Patio_Lawn_and_Garden\n",
      "Build user history\n"
     ]
    },
    {
     "name": "stderr",
     "output_type": "stream",
     "text": [
      "27671it [00:00, 370962.96it/s]\n"
     ]
    },
    {
     "name": "stdout",
     "output_type": "stream",
     "text": [
      "Holdout user histories\n"
     ]
    },
    {
     "name": "stderr",
     "output_type": "stream",
     "text": [
      "100%|██████████| 2870/2870 [00:00<00:00, 16391.59it/s]\n"
     ]
    },
    {
     "name": "stdout",
     "output_type": "stream",
     "text": [
      "14671 13000\n",
      "Grocery_and_Gourmet_Food\n",
      "Build user history\n"
     ]
    },
    {
     "name": "stderr",
     "output_type": "stream",
     "text": [
      "29500it [00:00, 445306.48it/s]\n"
     ]
    },
    {
     "name": "stdout",
     "output_type": "stream",
     "text": [
      "Holdout user histories\n"
     ]
    },
    {
     "name": "stderr",
     "output_type": "stream",
     "text": [
      "100%|██████████| 2736/2736 [00:00<00:00, 16265.98it/s]\n"
     ]
    },
    {
     "name": "stdout",
     "output_type": "stream",
     "text": [
      "15540 13960\n",
      "CDs_and_Vinyl\n",
      "Build user history\n"
     ]
    },
    {
     "name": "stderr",
     "output_type": "stream",
     "text": [
      "35082it [00:00, 653688.26it/s]\n"
     ]
    },
    {
     "name": "stdout",
     "output_type": "stream",
     "text": [
      "Holdout user histories\n"
     ]
    },
    {
     "name": "stderr",
     "output_type": "stream",
     "text": [
      "100%|██████████| 2132/2132 [00:00<00:00, 25639.70it/s]"
     ]
    },
    {
     "name": "stdout",
     "output_type": "stream",
     "text": [
      "18131 16951\n"
     ]
    },
    {
     "name": "stderr",
     "output_type": "stream",
     "text": [
      "\n"
     ]
    },
    {
     "name": "stdout",
     "output_type": "stream",
     "text": [
      "Video_Games\n",
      "Build user history\n"
     ]
    },
    {
     "name": "stderr",
     "output_type": "stream",
     "text": [
      "14411it [00:00, 572891.99it/s]\n"
     ]
    },
    {
     "name": "stdout",
     "output_type": "stream",
     "text": [
      "Holdout user histories\n"
     ]
    },
    {
     "name": "stderr",
     "output_type": "stream",
     "text": [
      "100%|██████████| 1158/1158 [00:00<00:00, 24057.91it/s]\n"
     ]
    },
    {
     "name": "stdout",
     "output_type": "stream",
     "text": [
      "7537 6874\n"
     ]
    }
   ],
   "source": [
    "import pandas as pd\n",
    "\n",
    "for domain_id, target_domain in enumerate(domains):\n",
    "    print(target_domain)\n",
    "    target_data = pd.read_csv(\"../\" + data_path + \"tsv_data/\"\n",
    "                              + target_domain\n",
    "                              + \"_test_cold.tsv\", sep = '\\t')\n",
    "    valset, testset = split_cold_start_data(target_data)\n",
    "    print(len(valset), len(testset))\n",
    "    valset.to_csv(\"../\" + target_path + target_domain + \"_val.tsv\")\n",
    "    testset.to_csv(\"../\" + target_path + target_domain + \"_test.tsv\")"
   ]
  },
  {
   "cell_type": "code",
   "execution_count": null,
   "id": "1ad49a2b",
   "metadata": {},
   "outputs": [],
   "source": []
  },
  {
   "cell_type": "code",
   "execution_count": 19,
   "id": "034635bb",
   "metadata": {},
   "outputs": [
    {
     "data": {
      "text/html": [
       "<div>\n",
       "<style scoped>\n",
       "    .dataframe tbody tr th:only-of-type {\n",
       "        vertical-align: middle;\n",
       "    }\n",
       "\n",
       "    .dataframe tbody tr th {\n",
       "        vertical-align: top;\n",
       "    }\n",
       "\n",
       "    .dataframe thead th {\n",
       "        text-align: right;\n",
       "    }\n",
       "</style>\n",
       "<table border=\"1\" class=\"dataframe\">\n",
       "  <thead>\n",
       "    <tr style=\"text-align: right;\">\n",
       "      <th></th>\n",
       "      <th>UserID</th>\n",
       "      <th>ItemID</th>\n",
       "      <th>Response</th>\n",
       "      <th>Timestamp</th>\n",
       "    </tr>\n",
       "  </thead>\n",
       "  <tbody>\n",
       "    <tr>\n",
       "      <th>0</th>\n",
       "      <td>A00463782V7TKAP9EMNL</td>\n",
       "      <td>1941450008</td>\n",
       "      <td>4.0</td>\n",
       "      <td>1397606400</td>\n",
       "    </tr>\n",
       "    <tr>\n",
       "      <th>1</th>\n",
       "      <td>A00463782V7TKAP9EMNL</td>\n",
       "      <td>1481170422</td>\n",
       "      <td>5.0</td>\n",
       "      <td>1398297600</td>\n",
       "    </tr>\n",
       "    <tr>\n",
       "      <th>2</th>\n",
       "      <td>A00463782V7TKAP9EMNL</td>\n",
       "      <td>0989117375</td>\n",
       "      <td>5.0</td>\n",
       "      <td>1398902400</td>\n",
       "    </tr>\n",
       "    <tr>\n",
       "      <th>3</th>\n",
       "      <td>A00463782V7TKAP9EMNL</td>\n",
       "      <td>0989117367</td>\n",
       "      <td>5.0</td>\n",
       "      <td>1399161600</td>\n",
       "    </tr>\n",
       "    <tr>\n",
       "      <th>4</th>\n",
       "      <td>A00463782V7TKAP9EMNL</td>\n",
       "      <td>1493755544</td>\n",
       "      <td>5.0</td>\n",
       "      <td>1399766400</td>\n",
       "    </tr>\n",
       "    <tr>\n",
       "      <th>...</th>\n",
       "      <td>...</td>\n",
       "      <td>...</td>\n",
       "      <td>...</td>\n",
       "      <td>...</td>\n",
       "    </tr>\n",
       "    <tr>\n",
       "      <th>2353845</th>\n",
       "      <td>AZZV9PDNMCOZW</td>\n",
       "      <td>1520448910</td>\n",
       "      <td>1.0</td>\n",
       "      <td>1499040000</td>\n",
       "    </tr>\n",
       "    <tr>\n",
       "      <th>2353846</th>\n",
       "      <td>AZZV9PDNMCOZW</td>\n",
       "      <td>1503940101</td>\n",
       "      <td>5.0</td>\n",
       "      <td>1500595200</td>\n",
       "    </tr>\n",
       "    <tr>\n",
       "      <th>2353847</th>\n",
       "      <td>AZZV9PDNMCOZW</td>\n",
       "      <td>1512333417</td>\n",
       "      <td>4.0</td>\n",
       "      <td>1500768000</td>\n",
       "    </tr>\n",
       "    <tr>\n",
       "      <th>2353848</th>\n",
       "      <td>AZZV9PDNMCOZW</td>\n",
       "      <td>0544409914</td>\n",
       "      <td>4.0</td>\n",
       "      <td>1505433600</td>\n",
       "    </tr>\n",
       "    <tr>\n",
       "      <th>2353849</th>\n",
       "      <td>AZZV9PDNMCOZW</td>\n",
       "      <td>0425285014</td>\n",
       "      <td>2.0</td>\n",
       "      <td>1518134400</td>\n",
       "    </tr>\n",
       "  </tbody>\n",
       "</table>\n",
       "<p>2353850 rows × 4 columns</p>\n",
       "</div>"
      ],
      "text/plain": [
       "                       UserID      ItemID  Response   Timestamp\n",
       "0        A00463782V7TKAP9EMNL  1941450008       4.0  1397606400\n",
       "1        A00463782V7TKAP9EMNL  1481170422       5.0  1398297600\n",
       "2        A00463782V7TKAP9EMNL  0989117375       5.0  1398902400\n",
       "3        A00463782V7TKAP9EMNL  0989117367       5.0  1399161600\n",
       "4        A00463782V7TKAP9EMNL  1493755544       5.0  1399766400\n",
       "...                       ...         ...       ...         ...\n",
       "2353845         AZZV9PDNMCOZW  1520448910       1.0  1499040000\n",
       "2353846         AZZV9PDNMCOZW  1503940101       5.0  1500595200\n",
       "2353847         AZZV9PDNMCOZW  1512333417       4.0  1500768000\n",
       "2353848         AZZV9PDNMCOZW  0544409914       4.0  1505433600\n",
       "2353849         AZZV9PDNMCOZW  0425285014       2.0  1518134400\n",
       "\n",
       "[2353850 rows x 4 columns]"
      ]
     },
     "execution_count": 19,
     "metadata": {},
     "output_type": "execute_result"
    }
   ],
   "source": [
    "dom = 'Books'\n",
    "train_data = pd.read_csv(\"../\" + data_path + \"tsv_data/\" + dom + \"_train.tsv\", sep = '\\t')\n",
    "train_data"
   ]
  },
  {
   "cell_type": "code",
   "execution_count": 20,
   "id": "ccb75159",
   "metadata": {},
   "outputs": [],
   "source": [
    "users = list(train_data['UserID'].unique())"
   ]
  },
  {
   "cell_type": "code",
   "execution_count": 22,
   "id": "bb3857fb",
   "metadata": {},
   "outputs": [
    {
     "data": {
      "text/html": [
       "<div>\n",
       "<style scoped>\n",
       "    .dataframe tbody tr th:only-of-type {\n",
       "        vertical-align: middle;\n",
       "    }\n",
       "\n",
       "    .dataframe tbody tr th {\n",
       "        vertical-align: top;\n",
       "    }\n",
       "\n",
       "    .dataframe thead th {\n",
       "        text-align: right;\n",
       "    }\n",
       "</style>\n",
       "<table border=\"1\" class=\"dataframe\">\n",
       "  <thead>\n",
       "    <tr style=\"text-align: right;\">\n",
       "      <th></th>\n",
       "      <th>Unnamed: 0</th>\n",
       "      <th>UserID</th>\n",
       "      <th>ItemID</th>\n",
       "      <th>Response</th>\n",
       "      <th>Timestamp</th>\n",
       "    </tr>\n",
       "  </thead>\n",
       "  <tbody>\n",
       "    <tr>\n",
       "      <th>0</th>\n",
       "      <td>8785</td>\n",
       "      <td>A2YM3KILJ1G0YJ</td>\n",
       "      <td>014014773X</td>\n",
       "      <td>5.0</td>\n",
       "      <td>1122076800</td>\n",
       "    </tr>\n",
       "    <tr>\n",
       "      <th>1</th>\n",
       "      <td>8805</td>\n",
       "      <td>A2YM3KILJ1G0YJ</td>\n",
       "      <td>0140177388</td>\n",
       "      <td>5.0</td>\n",
       "      <td>1295308800</td>\n",
       "    </tr>\n",
       "    <tr>\n",
       "      <th>2</th>\n",
       "      <td>8912</td>\n",
       "      <td>AGEIT17HENDIS</td>\n",
       "      <td>0140209158</td>\n",
       "      <td>4.0</td>\n",
       "      <td>1159142400</td>\n",
       "    </tr>\n",
       "    <tr>\n",
       "      <th>3</th>\n",
       "      <td>9113</td>\n",
       "      <td>A2YM3KILJ1G0YJ</td>\n",
       "      <td>0140367101</td>\n",
       "      <td>5.0</td>\n",
       "      <td>1143676800</td>\n",
       "    </tr>\n",
       "    <tr>\n",
       "      <th>4</th>\n",
       "      <td>9209</td>\n",
       "      <td>ACIBQ6BQ6AWEV</td>\n",
       "      <td>0140390316</td>\n",
       "      <td>5.0</td>\n",
       "      <td>1075334400</td>\n",
       "    </tr>\n",
       "    <tr>\n",
       "      <th>...</th>\n",
       "      <td>...</td>\n",
       "      <td>...</td>\n",
       "      <td>...</td>\n",
       "      <td>...</td>\n",
       "      <td>...</td>\n",
       "    </tr>\n",
       "    <tr>\n",
       "      <th>25458</th>\n",
       "      <td>51254</td>\n",
       "      <td>ANXBIU1HP7BJD</td>\n",
       "      <td>B019BRMMJE</td>\n",
       "      <td>5.0</td>\n",
       "      <td>1483142400</td>\n",
       "    </tr>\n",
       "    <tr>\n",
       "      <th>25459</th>\n",
       "      <td>51255</td>\n",
       "      <td>A2XH6KI5ZLRLPS</td>\n",
       "      <td>B01AFK7174</td>\n",
       "      <td>3.0</td>\n",
       "      <td>1454976000</td>\n",
       "    </tr>\n",
       "    <tr>\n",
       "      <th>25460</th>\n",
       "      <td>51256</td>\n",
       "      <td>ANXBIU1HP7BJD</td>\n",
       "      <td>B01APXB6Y0</td>\n",
       "      <td>5.0</td>\n",
       "      <td>1483228800</td>\n",
       "    </tr>\n",
       "    <tr>\n",
       "      <th>25461</th>\n",
       "      <td>51257</td>\n",
       "      <td>A34YZ56BSCN93B</td>\n",
       "      <td>B01F147HG4</td>\n",
       "      <td>5.0</td>\n",
       "      <td>1465257600</td>\n",
       "    </tr>\n",
       "    <tr>\n",
       "      <th>25462</th>\n",
       "      <td>51258</td>\n",
       "      <td>A1XLOUILRJFF0A</td>\n",
       "      <td>B01HDUQHCE</td>\n",
       "      <td>4.0</td>\n",
       "      <td>1468540800</td>\n",
       "    </tr>\n",
       "  </tbody>\n",
       "</table>\n",
       "<p>25463 rows × 5 columns</p>\n",
       "</div>"
      ],
      "text/plain": [
       "       Unnamed: 0          UserID      ItemID  Response   Timestamp\n",
       "0            8785  A2YM3KILJ1G0YJ  014014773X       5.0  1122076800\n",
       "1            8805  A2YM3KILJ1G0YJ  0140177388       5.0  1295308800\n",
       "2            8912   AGEIT17HENDIS  0140209158       4.0  1159142400\n",
       "3            9113  A2YM3KILJ1G0YJ  0140367101       5.0  1143676800\n",
       "4            9209   ACIBQ6BQ6AWEV  0140390316       5.0  1075334400\n",
       "...           ...             ...         ...       ...         ...\n",
       "25458       51254   ANXBIU1HP7BJD  B019BRMMJE       5.0  1483142400\n",
       "25459       51255  A2XH6KI5ZLRLPS  B01AFK7174       3.0  1454976000\n",
       "25460       51256   ANXBIU1HP7BJD  B01APXB6Y0       5.0  1483228800\n",
       "25461       51257  A34YZ56BSCN93B  B01F147HG4       5.0  1465257600\n",
       "25462       51258  A1XLOUILRJFF0A  B01HDUQHCE       4.0  1468540800\n",
       "\n",
       "[25463 rows x 5 columns]"
      ]
     },
     "execution_count": 22,
     "metadata": {},
     "output_type": "execute_result"
    }
   ],
   "source": [
    "cold_data = pd.read_csv(\"../\" + target_path + dom + \"_test.tsv\")\n",
    "cold_data"
   ]
  },
  {
   "cell_type": "code",
   "execution_count": 23,
   "id": "e7247fe7",
   "metadata": {},
   "outputs": [
    {
     "name": "stdout",
     "output_type": "stream",
     "text": [
      "0 / 690\n"
     ]
    }
   ],
   "source": [
    "cold_users = cold_data['UserID'].unique()\n",
    "count, total = 0, 0\n",
    "for uid in cold_users:\n",
    "    if uid in users:\n",
    "        count += 1\n",
    "    total += 1\n",
    "print(count, '/', total)"
   ]
  },
  {
   "cell_type": "code",
   "execution_count": null,
   "id": "fda90901",
   "metadata": {},
   "outputs": [],
   "source": []
  }
 ],
 "metadata": {
  "kernelspec": {
   "display_name": "BMRL",
   "language": "python",
   "name": "bmrl"
  },
  "language_info": {
   "codemirror_mode": {
    "name": "ipython",
    "version": 3
   },
   "file_extension": ".py",
   "mimetype": "text/x-python",
   "name": "python",
   "nbconvert_exporter": "python",
   "pygments_lexer": "ipython3",
   "version": "3.9.6"
  }
 },
 "nbformat": 4,
 "nbformat_minor": 5
}

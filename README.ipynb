{
 "cells": [
  {
   "cell_type": "markdown",
   "id": "51010c7f",
   "metadata": {},
   "source": [
    "## 0. Setup\n",
    "\n",
    "```\n",
    "conda create -n fedct python=3.9\n",
    "conda activate fedct\n",
    "conda install -c anaconda ipykernel\n",
    "python -m ipykernel install --user --name fedct --display-name \"FedCT\"\n",
    "conda install pytorch cudatoolkit=11.3 -c pytorch -c conda-forge \n",
    "conda install -c conda-forge scikit-learn\n",
    "conda install -c conda-forge tqdm \n",
    "conda install pandas\n",
    "conda install setprotitle\n",
    "pip install matplotlib\n",
    "```"
   ]
  },
  {
   "cell_type": "markdown",
   "id": "101026f7-2d29-4de7-91b5-ab62efdf25cb",
   "metadata": {},
   "source": [
    "# 1. Domain Environment\n",
    "\n",
    "### 1.1 Preprocess\n",
    "\n",
    "Run notebook 'data/Amazon.ipynb'\n",
    "\n",
    "Corresponding data will be saved in the specified directory 'XXX/domain_data/' with the following sub contents:\n",
    "* multicore_data/\n",
    "* tsv_data/\n",
    "* meta_data/\n",
    "\n",
    "Then run:\n",
    "> bash run_domain_reader.sh\n",
    "\n",
    "This will save data readers in 'XXX/domain_data/reader/'\n",
    "\n",
    "### 1.2 Train\n",
    "\n",
    "> bash run_domain_pretrain.sh\n",
    "\n",
    "Training logs and models will be saved in:\n",
    "* XXX/env_logs/\n",
    "* XXX/env_models/\n",
    "\n",
    "# 2. Cold-start User Transfer Task\n",
    "\n",
    "### 2.1 Preprocess\n",
    "\n",
    "Run notebook 'data/Amazon_FedCT.ipynb' with your specified target_path (e.g. 'XXX/transfer_data/')\n",
    "\n",
    "Corresponding data will be saved in the specified directory target_path with the following sub contents:\n",
    "* id_train.tsv\n",
    "* domain_model_logs.txt\n",
    "* \\$\\{target_domain\\}_val.tsv\n",
    "* \\$\\{target_domain\\}_test.tsv\n",
    "\n",
    "\n",
    "### 2.2 Train\n",
    "\n",
    "> bash run_emcdr.sh\n",
    "\n",
    "> bash run_cue.sh\n",
    "\n",
    "Training logs and models will be saved in:\n",
    "* XXX/transfer_logs/\n",
    "* XXX/transfer_models/"
   ]
  },
  {
   "cell_type": "markdown",
   "id": "7ba7feda-cba3-4dde-86f8-052ec1b23f3c",
   "metadata": {},
   "source": [
    "# 3. Result Observation\n",
    "\n",
    "Notebooks:\n",
    "* DomainModelResult.ipynb: domain-specific model results, standard recommendation, no cold-start\n",
    "* ColdStartTransferResult.ipynb: EMCDR and DUE results"
   ]
  },
  {
   "cell_type": "code",
   "execution_count": null,
   "id": "108e2566-a555-4b63-b644-8df7f4b904d7",
   "metadata": {},
   "outputs": [],
   "source": []
  }
 ],
 "metadata": {
  "kernelspec": {
   "display_name": "FedCT",
   "language": "python",
   "name": "fedct"
  },
  "language_info": {
   "codemirror_mode": {
    "name": "ipython",
    "version": 3
   },
   "file_extension": ".py",
   "mimetype": "text/x-python",
   "name": "python",
   "nbconvert_exporter": "python",
   "pygments_lexer": "ipython3",
   "version": "3.9.7"
  }
 },
 "nbformat": 4,
 "nbformat_minor": 5
}

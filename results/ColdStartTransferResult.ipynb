{
 "cells": [
  {
   "cell_type": "code",
   "execution_count": null,
   "id": "d0d8e454",
   "metadata": {},
   "outputs": [],
   "source": [
    "import sys\n",
    "sys.path.insert(0,'..')\n",
    "from data.preprocess import setup_path, ROOT_PATH"
   ]
  },
  {
   "cell_type": "code",
   "execution_count": null,
   "id": "341a5cab-15de-44b0-8fc8-f61e91690aa0",
   "metadata": {},
   "outputs": [],
   "source": [
    "# from utils import extract_results, get_args\n",
    "from results.utils import extract_transfer_results, get_arg\n",
    "log_path = ROOT_PATH + \"experiments/fedct/transfer_logs/\"\n",
    "control_args = ['lr', 'l2_coef', 'loss']\n",
    "raw_results = extract_transfer_results(log_path, control_args, \"fedct_train_and_eval\")\n",
    "print(len(raw_results))"
   ]
  },
  {
   "cell_type": "code",
   "execution_count": null,
   "id": "89b4e494-3547-4993-8eb4-7293ff900512",
   "metadata": {},
   "outputs": [],
   "source": [
    "results = {}\n",
    "for idx, R in raw_results.items():\n",
    "    updated_results = {}\n",
    "    for k,v in R.items():\n",
    "        updated_results[k] = v\n",
    "        if k == 'args':\n",
    "            updated_results['target_domain'] = get_arg(R['args'], 'target')\n",
    "    results[idx] = updated_results\n",
    "print(results.keys())"
   ]
  },
  {
   "cell_type": "code",
   "execution_count": null,
   "id": "53501204",
   "metadata": {},
   "outputs": [],
   "source": [
    "import numpy as np\n",
    "metrics = [f\"{m_name}@{i}\" for i in [1,5,10,20,50] for m_name in ['HR', 'RECALL', 'P', 'F1', 'NDCG']] + [\"AUC\", \"MR\", \"MRR\"]\n",
    "for m_name in metrics:\n",
    "    for k, res_dict in results.items():\n",
    "        if m_name in res_dict:\n",
    "            res_dict[m_name] = np.mean(res_dict[m_name])"
   ]
  },
  {
   "cell_type": "code",
   "execution_count": null,
   "id": "b5e9057a",
   "metadata": {
    "scrolled": true
   },
   "outputs": [],
   "source": [
    "import pandas as pd\n",
    "df = pd.DataFrame.from_dict(results, orient = 'index')\n",
    "df"
   ]
  },
  {
   "cell_type": "code",
   "execution_count": null,
   "id": "dc000f38",
   "metadata": {},
   "outputs": [],
   "source": [
    "import os\n",
    "import datetime\n",
    "target_path = 'transfer/'\n",
    "setup_path(target_path, is_dir = True)\n",
    "result_file_path = target_path + \"transfer_models_performances.csv\"\n",
    "df.to_csv(result_file_path, sep = '\\t')"
   ]
  },
  {
   "cell_type": "code",
   "execution_count": null,
   "id": "09aebf82",
   "metadata": {},
   "outputs": [],
   "source": []
  },
  {
   "cell_type": "code",
   "execution_count": null,
   "id": "f1865a1e",
   "metadata": {},
   "outputs": [],
   "source": []
  }
 ],
 "metadata": {
  "kernelspec": {
   "display_name": "FedCT",
   "language": "python",
   "name": "fedct"
  },
  "language_info": {
   "codemirror_mode": {
    "name": "ipython",
    "version": 3
   },
   "file_extension": ".py",
   "mimetype": "text/x-python",
   "name": "python",
   "nbconvert_exporter": "python",
   "pygments_lexer": "ipython3",
   "version": "3.9.7"
  }
 },
 "nbformat": 4,
 "nbformat_minor": 5
}
